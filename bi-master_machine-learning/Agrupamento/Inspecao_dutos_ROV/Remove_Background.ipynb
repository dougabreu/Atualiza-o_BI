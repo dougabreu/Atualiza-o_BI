{
 "cells": [
  {
   "cell_type": "code",
   "execution_count": 12,
   "metadata": {},
   "outputs": [],
   "source": [
    "import os\n",
    "from os import mkdir\n",
    "from os.path import join,exists,basename,splitext\n",
    "from glob import glob\n",
    "import cv2\n",
    "import re\n",
    "import matplotlib.pyplot as plt\n",
    "import numpy as np"
   ]
  },
  {
   "cell_type": "code",
   "execution_count": 13,
   "metadata": {},
   "outputs": [],
   "source": [
    "path_root = os.getcwd()\n",
    "path_videos = join(path_root, \"videos_processed\")\n",
    "path_frames = join(path_root,\"videos_frames\")\n",
    "path_crop_frames = join(path_root,\"videos_frames_crop\")\n",
    "\n",
    "if not exists(path_crop_frames):\n",
    "    mkdir(path_crop_frames)"
   ]
  },
  {
   "cell_type": "code",
   "execution_count": 16,
   "metadata": {},
   "outputs": [],
   "source": [
    "def show_image(image, cmap=None):\n",
    "    plt.figure(figsize=(20,15))\n",
    "    if cmap is not None:\n",
    "        plt.imshow(image, cmap=\"gray\")\n",
    "    else:\n",
    "        plt.imshow(image)\n",
    "    plt.show()\n",
    "    \n",
    "    \n",
    "def get_max_contour(image_bin):\n",
    "    contours,_ = cv2.findContours(image_bin,cv2.RETR_EXTERNAL,cv2.CHAIN_APPROX_NONE)\n",
    "    max_area = 0\n",
    "    i_max_area = -1\n",
    "    for i,contour in enumerate(contours):\n",
    "        x,y,w,h = cv2.boundingRect(contour)\n",
    "        area = w*h\n",
    "        if area > max_area:\n",
    "            max_area = area\n",
    "            i_max_area = i\n",
    "\n",
    "    return cv2.boundingRect(contours[i_max_area])\n",
    "\n",
    "\n",
    "def remove_black_border(image_rgb):\n",
    "    image_gray = cv2.cvtColor(image_rgb, cv2.COLOR_BGR2GRAY)\n",
    "\n",
    "    _,thresh = cv2.threshold(image_gray,1,255,cv2.THRESH_BINARY)\n",
    "    kernel = np.ones((7,7),np.uint8)\n",
    "    thresh = cv2.morphologyEx(thresh, cv2.MORPH_OPEN, kernel, iterations=5)\n",
    "    x,y,w,h = get_max_contour(thresh)                \n",
    "\n",
    "    image_crop = image_rgb[y:y+h,x:x+w,:]\n",
    "    return image_crop"
   ]
  },
  {
   "cell_type": "code",
   "execution_count": 31,
   "metadata": {
    "scrolled": true
   },
   "outputs": [],
   "source": [
    "list_path_frames = glob(join(path_frames,\"*.png\"))\n",
    "\n",
    "\n",
    "for path_frame in list_path_frames:\n",
    "    filename = basename(path_frame)\n",
    "    filename_image_crop = join(path_crop_frames,filename)\n",
    "    \n",
    "    if not exists(filename_image_crop):  \n",
    "        image_rgb = cv2.imread(path_frame,1)\n",
    "        image_crop = remove_black_border(image_rgb)        \n",
    "        cv2.imwrite(filename_image_crop,image_crop)"
   ]
  },
  {
   "cell_type": "code",
   "execution_count": null,
   "metadata": {},
   "outputs": [],
   "source": []
  }
 ],
 "metadata": {
  "kernelspec": {
   "display_name": "Python 3",
   "language": "python",
   "name": "python3"
  },
  "language_info": {
   "codemirror_mode": {
    "name": "ipython",
    "version": 3
   },
   "file_extension": ".py",
   "mimetype": "text/x-python",
   "name": "python",
   "nbconvert_exporter": "python",
   "pygments_lexer": "ipython3",
   "version": "3.7.7"
  }
 },
 "nbformat": 4,
 "nbformat_minor": 4
}
