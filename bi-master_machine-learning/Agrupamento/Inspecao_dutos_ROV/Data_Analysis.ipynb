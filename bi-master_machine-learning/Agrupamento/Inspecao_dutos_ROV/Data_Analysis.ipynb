{
 "cells": [
  {
   "cell_type": "code",
   "execution_count": 1,
   "metadata": {},
   "outputs": [],
   "source": [
    "import os\n",
    "from os import mkdir, makedirs\n",
    "from os.path import join,exists,basename,splitext\n",
    "from glob import glob\n",
    "import csv\n",
    "import cv2\n",
    "import re\n",
    "import numpy as np\n",
    "from sklearn.decomposition import IncrementalPCA\n",
    "from sklearn.manifold import TSNE\n",
    "import matplotlib.pyplot as plt\n",
    "\n",
    "import seaborn as sns\n",
    "\n",
    "import tensorflow as tf\n",
    "from tensorboard.plugins import projector\n",
    "\n",
    "from natsort import natsorted"
   ]
  },
  {
   "cell_type": "markdown",
   "metadata": {},
   "source": [
    "# Create Image Sprite"
   ]
  },
  {
   "cell_type": "code",
   "execution_count": 2,
   "metadata": {},
   "outputs": [],
   "source": [
    "# Taken from: https://github.com/tensorflow/tensorflow/issues/6322\n",
    "def images_to_sprite(data):\n",
    "    \"\"\"Creates the sprite image along with any necessary padding\n",
    "    Args:\n",
    "      data: NxHxW[x3] tensor containing the images.\n",
    "    Returns:\n",
    "      data: Properly shaped HxWx3 image with any necessary padding.\n",
    "    \"\"\"\n",
    "    if len(data.shape) == 3:\n",
    "        data = np.tile(data[...,np.newaxis], (1,1,1,3))\n",
    "    data = data.astype(np.float32)\n",
    "    min = np.min(data.reshape((data.shape[0], -1)), axis=1)\n",
    "    data = (data.transpose(1,2,3,0) - min).transpose(3,0,1,2)\n",
    "    max = np.max(data.reshape((data.shape[0], -1)), axis=1)\n",
    "    data = (data.transpose(1,2,3,0) / max).transpose(3,0,1,2)\n",
    "    # Inverting the colors seems to look better for MNIST\n",
    "    #data = 1 - data\n",
    "\n",
    "    n = int(np.ceil(np.sqrt(data.shape[0])))\n",
    "    padding = ((0, n ** 2 - data.shape[0]), (0, 0),\n",
    "            (0, 0)) + ((0, 0),) * (data.ndim - 3)\n",
    "    data = np.pad(data, padding, mode='constant',\n",
    "            constant_values=0)\n",
    "    # Tile the individual thumbnails into an image.\n",
    "    data = data.reshape((n, n) + data.shape[1:]).transpose((0, 2, 1, 3)\n",
    "            + tuple(range(4, data.ndim + 1)))\n",
    "    data = data.reshape((n * data.shape[1], n * data.shape[3]) + data.shape[4:])\n",
    "    data = (data * 255).astype(np.uint8)\n",
    "    return data\n",
    "\n",
    "\n",
    "def create_image_sprite(list_path_frames, path_logs, method, image_size=(224,224)):\n",
    "    image_sprite_filename = join(path_logs, 'image_sprite_{}.png'.format(method))\n",
    "    \n",
    "    if not exists(image_sprite_filename):        \n",
    "        image_data = []\n",
    "        for path_frame in list_path_frames:\n",
    "            image = cv2.imread(path_frame,1)\n",
    "            image = cv2.resize(image, image_size) \n",
    "            image_data.append(image)\n",
    "\n",
    "        image_data = np.array(image_data)\n",
    "        image_sprite = images_to_sprite(image_data)\n",
    "        cv2.imwrite(image_sprite_filename, image_sprite)\n",
    "    return image_sprite_filename\n",
    "    \n",
    "    \n",
    "def create_metadata_file(list_path_frames, path_logs, method):\n",
    "    metadata_filename = join(path_logs, 'metadata_{}.tsv'.format(method))\n",
    "    \n",
    "    if not exists(metadata_filename):        \n",
    "        metadata_file = open(metadata_filename, 'w')        \n",
    "\n",
    "        for path_frame in list_path_frames:    \n",
    "            filename =  basename(path_frame)\n",
    "            metadata_file.write('{}\\n'.format(filename))    \n",
    "        metadata_file.close()\n",
    "    return metadata_filename\n",
    "       \n",
    "    \n",
    "def create_config_file(path_logs, tensor_filename, features, image_sprite_filename, metadata_filename, image_sprite_size):    \n",
    "\n",
    "    with open(tensor_filename, 'w') as fw:\n",
    "        csv_writer = csv.writer(fw, delimiter='\\t')\n",
    "        csv_writer.writerows(features)\n",
    "\n",
    "    config = projector.ProjectorConfig()\n",
    "    # One can add multiple embeddings.\n",
    "    embedding = config.embeddings.add()\n",
    "    embedding.tensor_path = tensor_filename\n",
    "    # Link this tensor to its metadata file (e.g. labels).\n",
    "    embedding.metadata_path = metadata_filename\n",
    "    # Comment out if you don't want sprites\n",
    "    embedding.sprite.image_path = image_sprite_filename\n",
    "    embedding.sprite.single_image_dim.extend([image_sprite_size[0], image_sprite_size[1]])\n",
    "    # Saves a config file that TensorBoard will read during startup.\n",
    "    projector.visualize_embeddings(path_logs, config)"
   ]
  },
  {
   "cell_type": "code",
   "execution_count": 3,
   "metadata": {},
   "outputs": [],
   "source": [
    "def ipca_fit_transform(list_path_frames, final_size = (640,480)):        \n",
    "    features = None\n",
    "    batch_size = 103\n",
    "    ipca = IncrementalPCA(n_components=100)\n",
    "    i = 0\n",
    "        \n",
    "    # Incremental PCA partial fit\n",
    "    print(\"[INFO] Incremental PCA - partial fit\")\n",
    "    for path_frame in list_path_frames:\n",
    "        image = cv2.imread(path_frame,1)    \n",
    "        image = cv2.resize(image, final_size)    \n",
    "        image = image/255\n",
    "        image = np.reshape(image, (1,-1))\n",
    "\n",
    "        if features is None:\n",
    "            features = image\n",
    "        else:\n",
    "            features = np.concatenate((features, image),axis=0)\n",
    "\n",
    "        if features.shape[0] == batch_size:\n",
    "            i+=1\n",
    "            print(\"[INFO] Partial fit of block {}/{}\".format(i,int(len(list_path_frames)/batch_size)))\n",
    "            ipca.partial_fit(features)\n",
    "            features = None\n",
    "\n",
    "    if features is not None:\n",
    "        ipca.partial_fit(features)\n",
    "    \n",
    "    print(\"Accumulated variance: {}\".format(np.sum(ipca.explained_variance_ratio_)))\n",
    "    \n",
    "    # Incremental PCA transform\n",
    "    print(\"[INFO] Incremental PCA - transform\")\n",
    "    features_transform = None\n",
    "    for i,path_frame in enumerate(list_path_frames):\n",
    "        print(\"[INFO] Processing image {}/{}\".format(i+1,len(list_path_frames)))\n",
    "        image = cv2.imread(path_frame,1)    \n",
    "        image = cv2.resize(image, final_size)    \n",
    "        image = image/255\n",
    "        image = np.reshape(image, (1,-1))\n",
    "        image_transform = ipca.transform(image)\n",
    "\n",
    "        if features_transform is None:\n",
    "            features_transform = image_transform\n",
    "        else:\n",
    "            features_transform = np.concatenate((features_transform, image_transform),axis=0)\n",
    "            \n",
    "    return features_transform\n",
    "\n",
    "\n",
    "def extract_pca(list_path_frames, filename_features):\n",
    "    if not exists(filename_features):\n",
    "        features = ipca_fit_transform(list_path_frames)\n",
    "        with open(filename_features, 'wb') as f:\n",
    "            np.save(f, features)\n",
    "    else:\n",
    "        with open(filename_features, 'rb') as f:\n",
    "            features = np.load(f)\n",
    "        \n",
    "    print(features.shape)    \n",
    "    return features"
   ]
  },
  {
   "cell_type": "code",
   "execution_count": 4,
   "metadata": {
    "scrolled": true
   },
   "outputs": [
    {
     "data": {
      "text/plain": [
       "927"
      ]
     },
     "execution_count": 4,
     "metadata": {},
     "output_type": "execute_result"
    }
   ],
   "source": [
    "path_root = os.getcwd()\n",
    "path_videos = join(path_root, \"videos_processed\")\n",
    "path_frames = join(path_root,\"videos_frames\")\n",
    "path_crop_frames = join(path_root,\"videos_frames_crop\")\n",
    "\n",
    "list_path_frames = glob(join(path_crop_frames,\"*.png\"))\n",
    "list_path_frames = natsorted(list_path_frames, key=lambda y: y.lower())\n",
    "len(list_path_frames)"
   ]
  },
  {
   "cell_type": "code",
   "execution_count": null,
   "metadata": {},
   "outputs": [],
   "source": [
    "method = \"pca\"\n",
    "path_logs = join(path_root,\"logs\",method)\n",
    "if not exists(path_logs):\n",
    "    makedirs(path_logs)\n",
    "\n",
    "image_sprite_size = (224,224)\n",
    "    \n",
    "image_sprite_filename = create_image_sprite(list_path_frames, path_logs, method, image_sprite_size)\n",
    "metadata_filename = create_metadata_file(list_path_frames, path_logs, method)\n",
    "\n",
    "filename_features = join(path_root,'features_{}.npy'.format(method))\n",
    "features = extract_pca(list_path_frames, filename_features)\n",
    "\n",
    "tensor_filename = join(path_logs, 'features_{}.tsv'.format(method))\n",
    "create_config_file(path_logs, tensor_filename, features, image_sprite_filename, metadata_filename, image_sprite_size)"
   ]
  },
  {
   "cell_type": "code",
   "execution_count": 15,
   "metadata": {
    "scrolled": true
   },
   "outputs": [
    {
     "name": "stdout",
     "output_type": "stream",
     "text": [
      "(927, 4)\n"
     ]
    }
   ],
   "source": [
    "from scipy import stats\n",
    "import numpy as np\n",
    "import cv2\n",
    "import os\n",
    "from os.path import exists\n",
    "\n",
    "features = None\n",
    "final_size = (640,480)\n",
    "for path_frame in list_path_frames:\n",
    "    image = cv2.imread(path_frame,1)    \n",
    "    image = cv2.resize(image, final_size)\n",
    "    image = image/255\n",
    "    image = np.reshape(image, (1,-1))\n",
    "    image_stats = stats.describe(image, axis=1)\n",
    "    image_stats = np.transpose(np.stack([image_stats.mean,image_stats.variance,image_stats.skewness,image_stats.kurtosis]))\n",
    "   \n",
    "    if features is None:\n",
    "        features = image_stats\n",
    "    else:\n",
    "        features = np.concatenate((features, image_stats),axis=0)    \n",
    "\n",
    "\n",
    "    \n",
    "print(features.shape)"
   ]
  },
  {
   "cell_type": "code",
   "execution_count": 51,
   "metadata": {
    "scrolled": true
   },
   "outputs": [
    {
     "name": "stdout",
     "output_type": "stream",
     "text": [
      "(1, 156)\n",
      "(2, 156)\n",
      "(3, 156)\n",
      "(4, 156)\n",
      "(5, 156)\n",
      "(6, 156)\n",
      "(7, 156)\n",
      "(8, 156)\n",
      "(9, 156)\n",
      "(10, 156)\n",
      "(11, 156)\n",
      "(12, 156)\n",
      "(13, 156)\n",
      "(14, 156)\n",
      "(15, 156)\n",
      "(16, 156)\n",
      "(17, 156)\n",
      "(18, 156)\n",
      "(19, 156)\n",
      "(20, 156)\n",
      "(21, 156)\n",
      "(22, 156)\n",
      "(23, 156)\n",
      "(24, 156)\n",
      "(25, 156)\n",
      "(26, 156)\n",
      "(27, 156)\n",
      "(28, 156)\n"
     ]
    },
    {
     "ename": "KeyboardInterrupt",
     "evalue": "",
     "output_type": "error",
     "traceback": [
      "\u001b[1;31m---------------------------------------------------------------------------\u001b[0m",
      "\u001b[1;31mKeyboardInterrupt\u001b[0m                         Traceback (most recent call last)",
      "\u001b[1;32m<ipython-input-51-c75e2abcdccc>\u001b[0m in \u001b[0;36m<module>\u001b[1;34m\u001b[0m\n\u001b[0;32m     21\u001b[0m     \u001b[0mimage_textures\u001b[0m \u001b[1;33m=\u001b[0m \u001b[1;33m[\u001b[0m\u001b[1;33m]\u001b[0m\u001b[1;33m\u001b[0m\u001b[1;33m\u001b[0m\u001b[0m\n\u001b[0;32m     22\u001b[0m     \u001b[1;32mfor\u001b[0m \u001b[0mpatch\u001b[0m \u001b[1;32min\u001b[0m \u001b[0mimage_patches\u001b[0m\u001b[1;33m:\u001b[0m\u001b[1;33m\u001b[0m\u001b[1;33m\u001b[0m\u001b[0m\n\u001b[1;32m---> 23\u001b[1;33m         \u001b[0mpatch_textures\u001b[0m \u001b[1;33m=\u001b[0m \u001b[0mmt\u001b[0m\u001b[1;33m.\u001b[0m\u001b[0mfeatures\u001b[0m\u001b[1;33m.\u001b[0m\u001b[0mharalick\u001b[0m\u001b[1;33m(\u001b[0m\u001b[0mpatch\u001b[0m\u001b[1;33m)\u001b[0m\u001b[1;33m.\u001b[0m\u001b[0mmean\u001b[0m\u001b[1;33m(\u001b[0m\u001b[0maxis\u001b[0m\u001b[1;33m=\u001b[0m\u001b[1;36m0\u001b[0m\u001b[1;33m)\u001b[0m\u001b[1;33m\u001b[0m\u001b[1;33m\u001b[0m\u001b[0m\n\u001b[0m\u001b[0;32m     24\u001b[0m         \u001b[1;31m#feature_window = extract_features(window)\u001b[0m\u001b[1;33m\u001b[0m\u001b[1;33m\u001b[0m\u001b[1;33m\u001b[0m\u001b[0m\n\u001b[0;32m     25\u001b[0m         \u001b[0mimage_textures\u001b[0m\u001b[1;33m.\u001b[0m\u001b[0mappend\u001b[0m\u001b[1;33m(\u001b[0m\u001b[0mpatch_textures\u001b[0m\u001b[1;33m)\u001b[0m\u001b[1;33m\u001b[0m\u001b[1;33m\u001b[0m\u001b[0m\n",
      "\u001b[1;32mc:\\users\\pmad9589\\appdata\\local\\continuum\\anaconda3\\envs\\data_analysis\\lib\\site-packages\\mahotas\\features\\texture.py\u001b[0m in \u001b[0;36mharalick\u001b[1;34m(f, ignore_zeros, preserve_haralick_bug, compute_14th_feature, return_mean, return_mean_ptp, use_x_minus_y_variance, distance)\u001b[0m\n\u001b[0;32m    145\u001b[0m                         \u001b[0mreturn_mean\u001b[0m\u001b[1;33m=\u001b[0m\u001b[0mreturn_mean\u001b[0m\u001b[1;33m,\u001b[0m\u001b[1;33m\u001b[0m\u001b[1;33m\u001b[0m\u001b[0m\n\u001b[0;32m    146\u001b[0m                         \u001b[0mreturn_mean_ptp\u001b[0m\u001b[1;33m=\u001b[0m\u001b[0mreturn_mean_ptp\u001b[0m\u001b[1;33m,\u001b[0m\u001b[1;33m\u001b[0m\u001b[1;33m\u001b[0m\u001b[0m\n\u001b[1;32m--> 147\u001b[1;33m                         \u001b[0muse_x_minus_y_variance\u001b[0m\u001b[1;33m=\u001b[0m\u001b[0muse_x_minus_y_variance\u001b[0m\u001b[1;33m,\u001b[0m\u001b[1;33m\u001b[0m\u001b[1;33m\u001b[0m\u001b[0m\n\u001b[0m\u001b[0;32m    148\u001b[0m                         )\n\u001b[0;32m    149\u001b[0m \u001b[1;33m\u001b[0m\u001b[0m\n",
      "\u001b[1;32mc:\\users\\pmad9589\\appdata\\local\\continuum\\anaconda3\\envs\\data_analysis\\lib\\site-packages\\mahotas\\features\\texture.py\u001b[0m in \u001b[0;36mharalick_features\u001b[1;34m(cmats, ignore_zeros, preserve_haralick_bug, compute_14th_feature, return_mean, return_mean_ptp, use_x_minus_y_variance)\u001b[0m\n\u001b[0;32m    326\u001b[0m         \u001b[0mcrosspxpy\u001b[0m \u001b[1;33m=\u001b[0m \u001b[0mcrosspxpy\u001b[0m\u001b[1;33m.\u001b[0m\u001b[0mravel\u001b[0m\u001b[1;33m(\u001b[0m\u001b[1;33m)\u001b[0m\u001b[1;33m\u001b[0m\u001b[1;33m\u001b[0m\u001b[0m\n\u001b[0;32m    327\u001b[0m         \u001b[0mHXY1\u001b[0m \u001b[1;33m=\u001b[0m \u001b[1;33m-\u001b[0m\u001b[0mnp\u001b[0m\u001b[1;33m.\u001b[0m\u001b[0mdot\u001b[0m\u001b[1;33m(\u001b[0m\u001b[0mpravel\u001b[0m\u001b[1;33m,\u001b[0m \u001b[0mnp\u001b[0m\u001b[1;33m.\u001b[0m\u001b[0mlog2\u001b[0m\u001b[1;33m(\u001b[0m\u001b[0mcrosspxpy\u001b[0m\u001b[1;33m)\u001b[0m\u001b[1;33m)\u001b[0m\u001b[1;33m\u001b[0m\u001b[1;33m\u001b[0m\u001b[0m\n\u001b[1;32m--> 328\u001b[1;33m         \u001b[0mHXY2\u001b[0m \u001b[1;33m=\u001b[0m \u001b[0m_entropy\u001b[0m\u001b[1;33m(\u001b[0m\u001b[0mcrosspxpy\u001b[0m\u001b[1;33m)\u001b[0m\u001b[1;33m\u001b[0m\u001b[1;33m\u001b[0m\u001b[0m\n\u001b[0m\u001b[0;32m    329\u001b[0m \u001b[1;33m\u001b[0m\u001b[0m\n\u001b[0;32m    330\u001b[0m         \u001b[1;32mif\u001b[0m \u001b[0mmax\u001b[0m\u001b[1;33m(\u001b[0m\u001b[0mHX\u001b[0m\u001b[1;33m,\u001b[0m \u001b[0mHY\u001b[0m\u001b[1;33m)\u001b[0m \u001b[1;33m==\u001b[0m \u001b[1;36m0.\u001b[0m\u001b[1;33m:\u001b[0m\u001b[1;33m\u001b[0m\u001b[1;33m\u001b[0m\u001b[0m\n",
      "\u001b[1;32mc:\\users\\pmad9589\\appdata\\local\\continuum\\anaconda3\\envs\\data_analysis\\lib\\site-packages\\mahotas\\features\\texture.py\u001b[0m in \u001b[0;36m_entropy\u001b[1;34m(p)\u001b[0m\n\u001b[0;32m     19\u001b[0m     \u001b[0mp1\u001b[0m \u001b[1;33m=\u001b[0m \u001b[0mp\u001b[0m\u001b[1;33m.\u001b[0m\u001b[0mcopy\u001b[0m\u001b[1;33m(\u001b[0m\u001b[1;33m)\u001b[0m\u001b[1;33m\u001b[0m\u001b[1;33m\u001b[0m\u001b[0m\n\u001b[0;32m     20\u001b[0m     \u001b[0mp1\u001b[0m \u001b[1;33m+=\u001b[0m \u001b[1;33m(\u001b[0m\u001b[0mp\u001b[0m\u001b[1;33m==\u001b[0m\u001b[1;36m0\u001b[0m\u001b[1;33m)\u001b[0m\u001b[1;33m\u001b[0m\u001b[1;33m\u001b[0m\u001b[0m\n\u001b[1;32m---> 21\u001b[1;33m     \u001b[1;32mreturn\u001b[0m \u001b[1;33m-\u001b[0m\u001b[0mnp\u001b[0m\u001b[1;33m.\u001b[0m\u001b[0mdot\u001b[0m\u001b[1;33m(\u001b[0m\u001b[0mnp\u001b[0m\u001b[1;33m.\u001b[0m\u001b[0mlog2\u001b[0m\u001b[1;33m(\u001b[0m\u001b[0mp1\u001b[0m\u001b[1;33m)\u001b[0m\u001b[1;33m,\u001b[0m \u001b[0mp\u001b[0m\u001b[1;33m)\u001b[0m\u001b[1;33m\u001b[0m\u001b[1;33m\u001b[0m\u001b[0m\n\u001b[0m\u001b[0;32m     22\u001b[0m \u001b[1;33m\u001b[0m\u001b[0m\n\u001b[0;32m     23\u001b[0m \u001b[1;33m\u001b[0m\u001b[0m\n",
      "\u001b[1;31mKeyboardInterrupt\u001b[0m: "
     ]
    }
   ],
   "source": [
    "from scipy import stats\n",
    "import numpy as np\n",
    "import cv2\n",
    "import os\n",
    "from os.path import exists\n",
    "import mahotas as mt\n",
    "from skimage.util.shape import view_as_windows\n",
    "\n",
    "features = None\n",
    "final_size = (640,480)\n",
    "kernel_size = (160,160)\n",
    "stride = 160\n",
    "\n",
    "for path_frame in list_path_frames:\n",
    "    image = cv2.imread(path_frame,0)\n",
    "    image = cv2.resize(image, final_size)\n",
    "    \n",
    "    image_patches = view_as_windows(image, kernel_size, step=stride)\n",
    "    image_patches = image_patches.reshape(-1,image_patches.shape[-1],image_patches.shape[-2])\n",
    "\n",
    "    image_textures = []\n",
    "    for patch in image_patches:        \n",
    "        patch_textures = mt.features.haralick(patch).mean(axis=0)        \n",
    "        image_textures.append(patch_textures)\n",
    "    image_textures = np.stack(image_textures,axis=0).flatten()\n",
    "    \n",
    "    textures = np.reshape(image_textures, (1,-1))    \n",
    "   \n",
    "    if features is None:\n",
    "        features = textures\n",
    "    else:\n",
    "        features = np.concatenate((features, textures),axis=0)    \n",
    "        \n",
    "    print(features.shape)"
   ]
  },
  {
   "cell_type": "code",
   "execution_count": 40,
   "metadata": {},
   "outputs": [
    {
     "name": "stdout",
     "output_type": "stream",
     "text": [
      "(927, 13)\n"
     ]
    }
   ],
   "source": [
    "print(features.shape)"
   ]
  },
  {
   "cell_type": "code",
   "execution_count": 39,
   "metadata": {},
   "outputs": [
    {
     "data": {
      "text/plain": [
       "array([1., 1., 1., 1., 1., 1., 1., 1., 1., 1., 1., 1., 1.])"
      ]
     },
     "execution_count": 39,
     "metadata": {},
     "output_type": "execute_result"
    }
   ],
   "source": [
    "(features - features.min(axis=0))/(features.max(axis=0) - features.min(axis=0))"
   ]
  },
  {
   "cell_type": "code",
   "execution_count": 42,
   "metadata": {},
   "outputs": [
    {
     "name": "stdout",
     "output_type": "stream",
     "text": [
      "[t-SNE] Computing 61 nearest neighbors...\n",
      "[t-SNE] Indexed 927 samples in 0.002s...\n",
      "[t-SNE] Computed neighbors for 927 samples in 0.013s...\n",
      "[t-SNE] Computed conditional probabilities for sample 927 / 927\n",
      "[t-SNE] Mean sigma: 19.435933\n",
      "[t-SNE] KL divergence after 250 iterations with early exaggeration: 53.533936\n",
      "[t-SNE] KL divergence after 1000 iterations: 0.321027\n"
     ]
    },
    {
     "data": {
      "image/png": "[encoded data removed]",
      "text/plain": [
       "<Figure size 1152x720 with 1 Axes>"
      ]
     },
     "metadata": {
      "needs_background": "light"
     },
     "output_type": "display_data"
    }
   ],
   "source": [
    "tsne = TSNE(n_components=2, verbose=1, perplexity=20, n_iter=1000)\n",
    "tsne_results = tsne.fit_transform(features)\n",
    "\n",
    "plt.figure(figsize=(16,10))\n",
    "sns.scatterplot(\n",
    "    x=tsne_results[:,0], y=tsne_results[:,1],\n",
    "    palette=sns.color_palette(\"hls\", 10),\n",
    "    legend=\"full\"\n",
    ")\n",
    "plt.show()"
   ]
  },
  {
   "cell_type": "code",
   "execution_count": null,
   "metadata": {},
   "outputs": [],
   "source": []
  }
 ],
 "metadata": {
  "kernelspec": {
   "display_name": "Python 3",
   "language": "python",
   "name": "python3"
  },
  "language_info": {
   "codemirror_mode": {
    "name": "ipython",
    "version": 3
   },
   "file_extension": ".py",
   "mimetype": "text/x-python",
   "name": "python",
   "nbconvert_exporter": "python",
   "pygments_lexer": "ipython3",
   "version": "3.7.7"
  }
 },
 "nbformat": 4,
 "nbformat_minor": 4
}
