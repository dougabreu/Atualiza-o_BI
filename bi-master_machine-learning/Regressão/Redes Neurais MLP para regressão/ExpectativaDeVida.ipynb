{
  "nbformat": 4,
  "nbformat_minor": 0,
  "metadata": {
    "colab": {
      "name": "ExpectativaDeVida.ipynb",
      "provenance": [],
      "collapsed_sections": []
    },
    "kernelspec": {
      "name": "python3",
      "display_name": "Python 3"
    }
  },
  "cells": [
    {
      "cell_type": "markdown",
      "metadata": {
        "id": "E1ydtPabQA2T",
        "colab_type": "text"
      },
      "source": [
        "#Montar o drive para acesar base de dados"
      ]
    },
    {
      "cell_type": "code",
      "metadata": {
        "id": "RDA8wT3eQBNC",
        "colab_type": "code",
        "colab": {}
      },
      "source": [
        "# Solicita autorização para acesso ao seu drive\n",
        "from google.colab import drive\n",
        "drive.mount('/content/drive')"
      ],
      "execution_count": 0,
      "outputs": []
    },
    {
      "cell_type": "code",
      "metadata": {
        "id": "wosjd9SwQI9C",
        "colab_type": "code",
        "colab": {}
      },
      "source": [
        "import os\n",
        "os.chdir(\"/content/drive/My Drive\") #MAPEAR PARA O LOCAL NO DRIVE ONDE SE ENCONTRA ESSE ARQUIVO"
      ],
      "execution_count": 0,
      "outputs": []
    },
    {
      "cell_type": "code",
      "metadata": {
        "id": "4-KH2RBpQI_h",
        "colab_type": "code",
        "colab": {}
      },
      "source": [
        "!ls #Ver arquivos contidos no diretório mapeado! verifique se sua base está listada!"
      ],
      "execution_count": 0,
      "outputs": []
    },
    {
      "cell_type": "code",
      "metadata": {
        "id": "HFTD-6zUQJBx",
        "colab_type": "code",
        "colab": {}
      },
      "source": [
        "\"\"\"### Importacao de bibliotecas\"\"\"\n",
        "import numpy as np\n",
        "import pandas as pd"
      ],
      "execution_count": 0,
      "outputs": []
    },
    {
      "cell_type": "markdown",
      "metadata": {
        "id": "mAbfV4YGRC3u",
        "colab_type": "text"
      },
      "source": [
        "# Passo 1. Carregar base de dados"
      ]
    },
    {
      "cell_type": "code",
      "metadata": {
        "id": "FdXvYPSCQJD5",
        "colab_type": "code",
        "colab": {}
      },
      "source": [
        "#Carregar a base e visualizar primeiras linhas\n",
        "data = pd.read_csv('LifeExpectancy.csv')\n",
        "#Visualize a base pelo Explorador de Variáveis\n",
        "\n",
        "data.head()"
      ],
      "execution_count": 0,
      "outputs": []
    },
    {
      "cell_type": "code",
      "metadata": {
        "id": "AgrChrIuQJGA",
        "colab_type": "code",
        "colab": {}
      },
      "source": [
        "#dimnesões da base\n",
        "data.shape"
      ],
      "execution_count": 0,
      "outputs": []
    },
    {
      "cell_type": "code",
      "metadata": {
        "id": "B3CPQ3lOQJIJ",
        "colab_type": "code",
        "colab": {}
      },
      "source": [
        "data.describe()"
      ],
      "execution_count": 0,
      "outputs": []
    },
    {
      "cell_type": "code",
      "metadata": {
        "id": "5hG4ynzIQJKT",
        "colab_type": "code",
        "colab": {}
      },
      "source": [
        "#Missing Data\n",
        "columns = ['Year', 'LifeExpectancy','AdultMortality','InfantDeaths','Alcohol','PercentageExpenditure','HepatitisB','Measles',' BMI ','under-fivedeaths ','Polio','TotalExpenditure','Diphtheria','HIV/AIDS','GDP','Population','thinness1-19years','thinness5-9years','IncomeCompositionOfResources','Schooling']\n",
        "\n",
        "from sklearn.impute import KNNImputer\n",
        "imputer = KNNImputer(n_neighbors=2, weights=\"uniform\")\n",
        "for i in columns:\n",
        "    data[i] = imputer.fit_transform(data[[i]])\n",
        "\n",
        "data.describe()"
      ],
      "execution_count": 0,
      "outputs": []
    },
    {
      "cell_type": "code",
      "metadata": {
        "id": "fx9fJxOaQJMZ",
        "colab_type": "code",
        "colab": {}
      },
      "source": [
        "# OneHotEncoding\n",
        "from sklearn.preprocessing import OneHotEncoder\n",
        "onehotencoder = OneHotEncoder()\n",
        "data.Status = onehotencoder.fit_transform(data[['Status']]).toarray()\n",
        "\n",
        "data.Status.value_counts()"
      ],
      "execution_count": 0,
      "outputs": []
    },
    {
      "cell_type": "markdown",
      "metadata": {
        "id": "URy1KR2lSDz3",
        "colab_type": "text"
      },
      "source": [
        "#Passo 2. Separar base em treino e teste"
      ]
    },
    {
      "cell_type": "code",
      "metadata": {
        "id": "wVnELznQQJOT",
        "colab_type": "code",
        "colab": {}
      },
      "source": [
        "np.random.seed(0) #semente inicial\n",
        "nlinhas = data.shape[0]\n",
        "\n",
        "from sklearn.model_selection import train_test_split\n",
        "X_train, X_test, y_train, y_test = train_test_split(data.loc[:,data.columns != 'Lifeexpectancy'], data['LifeExpectancy'], test_size=0.3)\n",
        "\n",
        "print(X_train.shape)\n",
        "print(X_test.shape)\n",
        "print(y_train.shape)\n",
        "print(y_test.shape)"
      ],
      "execution_count": 0,
      "outputs": []
    },
    {
      "cell_type": "code",
      "metadata": {
        "id": "j7sZaOc9SO-t",
        "colab_type": "code",
        "colab": {}
      },
      "source": [
        "\"\"\"## Análise exploratória\"\"\"\n",
        "import seaborn as sns\n",
        "corr = data.corr()\n",
        "sns.heatmap(corr, \n",
        "        xticklabels=corr.columns,\n",
        "        yticklabels=corr.columns)"
      ],
      "execution_count": 0,
      "outputs": []
    },
    {
      "cell_type": "markdown",
      "metadata": {
        "id": "asjCDbeDSnSs",
        "colab_type": "text"
      },
      "source": [
        "# Passo 3. Normalizar Dados"
      ]
    },
    {
      "cell_type": "code",
      "metadata": {
        "id": "MGrLgG8sSpnJ",
        "colab_type": "code",
        "colab": {}
      },
      "source": [
        "\"\"\"## **Normalizando os Dados**\"\"\"\n",
        "from sklearn import preprocessing\n",
        "preprocessParams = preprocessing.StandardScaler().fit(X_train)\n",
        "X_train_normalized = preprocessParams.transform(X_train)\n",
        "X_test_normalized = preprocessParams.transform(X_test)\n",
        "\n",
        "X_train_normalized[0:2, :]"
      ],
      "execution_count": 0,
      "outputs": []
    },
    {
      "cell_type": "markdown",
      "metadata": {
        "id": "iYv6i6W0TBMZ",
        "colab_type": "text"
      },
      "source": [
        "# Passo 4. Treinar Rede Neural"
      ]
    },
    {
      "cell_type": "code",
      "metadata": {
        "id": "MVXNrUx0TWNw",
        "colab_type": "code",
        "colab": {}
      },
      "source": [
        "#Utilizar uma versão do tensorflow anterior a 2.0\n",
        "%tensorflow_version 1.x"
      ],
      "execution_count": 0,
      "outputs": []
    },
    {
      "cell_type": "code",
      "metadata": {
        "id": "dCES2hBaSwfC",
        "colab_type": "code",
        "colab": {}
      },
      "source": [
        "\"\"\"# Rede Neural\"\"\"\n",
        "from keras import Sequential\n",
        "from keras.layers import Dense\n",
        "from keras.optimizers import SGD\n",
        "\n",
        "RN = Sequential()\n",
        "RN.add(Dense(10,input_shape = X_train_normalized.shape[1:],activation = 'sigmoid'))\n",
        "RN.add(Dense(1))\n",
        "RN.summary()"
      ],
      "execution_count": 0,
      "outputs": []
    },
    {
      "cell_type": "code",
      "metadata": {
        "id": "UtFOpxEKTN1f",
        "colab_type": "code",
        "colab": {}
      },
      "source": [
        "# treinamento\n",
        "from keras.utils import to_categorical\n",
        "RN.compile(optimizer = 'sgd', loss = 'mean_squared_error', metrics = ['mape']) \n",
        "trainedRN = RN.fit(X_train_normalized,y_train, epochs = 100, verbose = 1)"
      ],
      "execution_count": 0,
      "outputs": []
    },
    {
      "cell_type": "markdown",
      "metadata": {
        "id": "jk2ocoT3TiGl",
        "colab_type": "text"
      },
      "source": [
        "# Passo 5. Avaliação da Rede Neural"
      ]
    },
    {
      "cell_type": "code",
      "metadata": {
        "id": "LjpdpGfzTO7X",
        "colab_type": "code",
        "colab": {}
      },
      "source": [
        "# avaliação\n",
        "score = trainedRN.model.evaluate(X_test_normalized, y_test, verbose = 0)\n",
        "print('Test score:', score[0])\n",
        "print('Test mape:', score[1], '%')"
      ],
      "execution_count": 0,
      "outputs": []
    },
    {
      "cell_type": "code",
      "metadata": {
        "id": "So7GDgoRTO9u",
        "colab_type": "code",
        "colab": {}
      },
      "source": [
        "from draw_neural_net import PlotHistory\n",
        "PlotHistory(trainedRN.history)"
      ],
      "execution_count": 0,
      "outputs": []
    },
    {
      "cell_type": "markdown",
      "metadata": {
        "id": "kC6FNa44T41z",
        "colab_type": "text"
      },
      "source": [
        "# Passo 6. Fazer novas previsões"
      ]
    },
    {
      "cell_type": "code",
      "metadata": {
        "id": "okvzhnpMTO_-",
        "colab_type": "code",
        "colab": {}
      },
      "source": [
        "from sklearn.metrics import confusion_matrix\n",
        "y_test_predicted = RN.predict(X_test_normalized)\n",
        "y_test_predicted"
      ],
      "execution_count": 0,
      "outputs": []
    },
    {
      "cell_type": "code",
      "metadata": {
        "id": "qcCQzE6_TPBw",
        "colab_type": "code",
        "colab": {}
      },
      "source": [
        "# Avaliação gráfica\n",
        "from matplotlib import pyplot\n",
        "results = pd.DataFrame(y_test_predicted, columns = ['previsto'])\n",
        "results['real'] = np.array(y_test)\n",
        "results.plot(); #todas as previsões"
      ],
      "execution_count": 0,
      "outputs": []
    },
    {
      "cell_type": "code",
      "metadata": {
        "id": "DIb5317FT_M6",
        "colab_type": "code",
        "colab": {}
      },
      "source": [
        "results.iloc[1:100,:].plot() # somente as 100 primeiras"
      ],
      "execution_count": 0,
      "outputs": []
    }
  ]
}