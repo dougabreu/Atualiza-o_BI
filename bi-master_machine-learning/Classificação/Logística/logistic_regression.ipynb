{
 "cells": [
  {
   "cell_type": "markdown",
   "metadata": {},
   "source": [
    "# Regressão Logística"
   ]
  },
  {
   "cell_type": "code",
   "execution_count": 1,
   "metadata": {},
   "outputs": [],
   "source": [
    "import pandas as pd\n",
    "import numpy as np\n",
    "import statsmodels.api as sm\n",
    "import matplotlib.pyplot as plt\n",
    "from scipy import stats\n",
    "from scipy.optimize import minimize"
   ]
  },
  {
   "cell_type": "code",
   "execution_count": 2,
   "metadata": {},
   "outputs": [],
   "source": [
    "plt.rcParams['figure.figsize'] = [12, 8]"
   ]
  },
  {
   "cell_type": "markdown",
   "metadata": {},
   "source": [
    "### Implementando com numpy e scipy"
   ]
  },
  {
   "cell_type": "markdown",
   "metadata": {},
   "source": [
    "Vamos implementar o treinamento da regressão logística e entender como funciona a otimização da função de máxima verossimilhança"
   ]
  },
  {
   "cell_type": "code",
   "execution_count": 3,
   "metadata": {},
   "outputs": [],
   "source": [
    "def calculate_logistic_function(x, coefficients):\n",
    "    return np.exp(x.dot(coefficients)) / (1 + np.exp(x.dot(coefficients)))"
   ]
  },
  {
   "cell_type": "code",
   "execution_count": 4,
   "metadata": {},
   "outputs": [],
   "source": [
    "def calculate_log_likelihood(coefficients, x, y):\n",
    "    a = calculate_logistic_function(x, coefficients)\n",
    "    r = y.dot(np.log(a)) + (1 - y).dot(np.log(1 - a))\n",
    "    return -np.sum(r)"
   ]
  },
  {
   "cell_type": "code",
   "execution_count": 5,
   "metadata": {},
   "outputs": [],
   "source": [
    "def calculate_predictions(x, coefficients):\n",
    "    logistic_result = calculate_logistic_function(x, coefficients)\n",
    "    return np.where(logistic_result > 0.5, 1, 0)"
   ]
  },
  {
   "cell_type": "code",
   "execution_count": 6,
   "metadata": {},
   "outputs": [],
   "source": [
    "def calculate_error(predicted, actual):\n",
    "    return np.average(np.abs(predicted - actual))"
   ]
  },
  {
   "cell_type": "code",
   "execution_count": 7,
   "metadata": {},
   "outputs": [
    {
     "data": {
      "text/html": [
       "<div>\n",
       "<style scoped>\n",
       "    .dataframe tbody tr th:only-of-type {\n",
       "        vertical-align: middle;\n",
       "    }\n",
       "\n",
       "    .dataframe tbody tr th {\n",
       "        vertical-align: top;\n",
       "    }\n",
       "\n",
       "    .dataframe thead th {\n",
       "        text-align: right;\n",
       "    }\n",
       "</style>\n",
       "<table border=\"1\" class=\"dataframe\">\n",
       "  <thead>\n",
       "    <tr style=\"text-align: right;\">\n",
       "      <th></th>\n",
       "      <th>Reason for absence</th>\n",
       "      <th>Month of absence</th>\n",
       "      <th>Day of the week</th>\n",
       "      <th>Seasons</th>\n",
       "      <th>Transportation expense</th>\n",
       "      <th>Distance from Residence to Work</th>\n",
       "      <th>Service time</th>\n",
       "      <th>Age</th>\n",
       "      <th>Work load Average/day</th>\n",
       "      <th>Hit target</th>\n",
       "      <th>Disciplinary failure</th>\n",
       "      <th>Education</th>\n",
       "      <th>Son</th>\n",
       "      <th>Pet</th>\n",
       "      <th>Weight</th>\n",
       "      <th>Height</th>\n",
       "      <th>Body mass index</th>\n",
       "      <th>Absenteeism time in hours</th>\n",
       "      <th>Social drinker</th>\n",
       "      <th>Social smoker</th>\n",
       "    </tr>\n",
       "    <tr>\n",
       "      <th>ID</th>\n",
       "      <th></th>\n",
       "      <th></th>\n",
       "      <th></th>\n",
       "      <th></th>\n",
       "      <th></th>\n",
       "      <th></th>\n",
       "      <th></th>\n",
       "      <th></th>\n",
       "      <th></th>\n",
       "      <th></th>\n",
       "      <th></th>\n",
       "      <th></th>\n",
       "      <th></th>\n",
       "      <th></th>\n",
       "      <th></th>\n",
       "      <th></th>\n",
       "      <th></th>\n",
       "      <th></th>\n",
       "      <th></th>\n",
       "      <th></th>\n",
       "    </tr>\n",
       "  </thead>\n",
       "  <tbody>\n",
       "    <tr>\n",
       "      <td>3</td>\n",
       "      <td>13</td>\n",
       "      <td>3</td>\n",
       "      <td>3</td>\n",
       "      <td>2</td>\n",
       "      <td>179</td>\n",
       "      <td>51</td>\n",
       "      <td>18</td>\n",
       "      <td>38</td>\n",
       "      <td>343253</td>\n",
       "      <td>95</td>\n",
       "      <td>0</td>\n",
       "      <td>1</td>\n",
       "      <td>0</td>\n",
       "      <td>0</td>\n",
       "      <td>89</td>\n",
       "      <td>170</td>\n",
       "      <td>31</td>\n",
       "      <td>24</td>\n",
       "      <td>1</td>\n",
       "      <td>0</td>\n",
       "    </tr>\n",
       "    <tr>\n",
       "      <td>3</td>\n",
       "      <td>28</td>\n",
       "      <td>6</td>\n",
       "      <td>2</td>\n",
       "      <td>3</td>\n",
       "      <td>179</td>\n",
       "      <td>51</td>\n",
       "      <td>18</td>\n",
       "      <td>38</td>\n",
       "      <td>253957</td>\n",
       "      <td>95</td>\n",
       "      <td>0</td>\n",
       "      <td>1</td>\n",
       "      <td>0</td>\n",
       "      <td>0</td>\n",
       "      <td>89</td>\n",
       "      <td>170</td>\n",
       "      <td>31</td>\n",
       "      <td>4</td>\n",
       "      <td>1</td>\n",
       "      <td>0</td>\n",
       "    </tr>\n",
       "    <tr>\n",
       "      <td>33</td>\n",
       "      <td>23</td>\n",
       "      <td>9</td>\n",
       "      <td>6</td>\n",
       "      <td>4</td>\n",
       "      <td>248</td>\n",
       "      <td>25</td>\n",
       "      <td>14</td>\n",
       "      <td>47</td>\n",
       "      <td>241476</td>\n",
       "      <td>92</td>\n",
       "      <td>0</td>\n",
       "      <td>1</td>\n",
       "      <td>2</td>\n",
       "      <td>1</td>\n",
       "      <td>86</td>\n",
       "      <td>165</td>\n",
       "      <td>32</td>\n",
       "      <td>1</td>\n",
       "      <td>0</td>\n",
       "      <td>0</td>\n",
       "    </tr>\n",
       "    <tr>\n",
       "      <td>28</td>\n",
       "      <td>25</td>\n",
       "      <td>3</td>\n",
       "      <td>5</td>\n",
       "      <td>2</td>\n",
       "      <td>225</td>\n",
       "      <td>26</td>\n",
       "      <td>9</td>\n",
       "      <td>28</td>\n",
       "      <td>222196</td>\n",
       "      <td>99</td>\n",
       "      <td>0</td>\n",
       "      <td>1</td>\n",
       "      <td>1</td>\n",
       "      <td>2</td>\n",
       "      <td>69</td>\n",
       "      <td>169</td>\n",
       "      <td>24</td>\n",
       "      <td>2</td>\n",
       "      <td>0</td>\n",
       "      <td>0</td>\n",
       "    </tr>\n",
       "    <tr>\n",
       "      <td>10</td>\n",
       "      <td>22</td>\n",
       "      <td>12</td>\n",
       "      <td>4</td>\n",
       "      <td>4</td>\n",
       "      <td>361</td>\n",
       "      <td>52</td>\n",
       "      <td>3</td>\n",
       "      <td>28</td>\n",
       "      <td>261306</td>\n",
       "      <td>97</td>\n",
       "      <td>0</td>\n",
       "      <td>1</td>\n",
       "      <td>1</td>\n",
       "      <td>4</td>\n",
       "      <td>80</td>\n",
       "      <td>172</td>\n",
       "      <td>27</td>\n",
       "      <td>8</td>\n",
       "      <td>1</td>\n",
       "      <td>0</td>\n",
       "    </tr>\n",
       "  </tbody>\n",
       "</table>\n",
       "</div>"
      ],
      "text/plain": [
       "    Reason for absence  Month of absence  Day of the week  Seasons  \\\n",
       "ID                                                                   \n",
       "3                   13                 3                3        2   \n",
       "3                   28                 6                2        3   \n",
       "33                  23                 9                6        4   \n",
       "28                  25                 3                5        2   \n",
       "10                  22                12                4        4   \n",
       "\n",
       "    Transportation expense  Distance from Residence to Work  Service time  \\\n",
       "ID                                                                          \n",
       "3                      179                               51            18   \n",
       "3                      179                               51            18   \n",
       "33                     248                               25            14   \n",
       "28                     225                               26             9   \n",
       "10                     361                               52             3   \n",
       "\n",
       "    Age  Work load Average/day   Hit target  Disciplinary failure  Education  \\\n",
       "ID                                                                             \n",
       "3    38                  343253          95                     0          1   \n",
       "3    38                  253957          95                     0          1   \n",
       "33   47                  241476          92                     0          1   \n",
       "28   28                  222196          99                     0          1   \n",
       "10   28                  261306          97                     0          1   \n",
       "\n",
       "    Son  Pet  Weight  Height  Body mass index  Absenteeism time in hours  \\\n",
       "ID                                                                         \n",
       "3     0    0      89     170               31                         24   \n",
       "3     0    0      89     170               31                          4   \n",
       "33    2    1      86     165               32                          1   \n",
       "28    1    2      69     169               24                          2   \n",
       "10    1    4      80     172               27                          8   \n",
       "\n",
       "    Social drinker  Social smoker  \n",
       "ID                                 \n",
       "3                1              0  \n",
       "3                1              0  \n",
       "33               0              0  \n",
       "28               0              0  \n",
       "10               1              0  "
      ]
     },
     "execution_count": 7,
     "metadata": {},
     "output_type": "execute_result"
    }
   ],
   "source": [
    "df = pd.read_excel(\"Absenteeism_at_work.xlsx\", index_col=0)\n",
    "df.head()"
   ]
  },
  {
   "cell_type": "code",
   "execution_count": 8,
   "metadata": {},
   "outputs": [
    {
     "name": "stdout",
     "output_type": "stream",
     "text": [
      "[-21.99419229   0.66297383   0.7672188    0.44682229  -0.37901427\n",
      "   4.63741951   5.5989203   12.14963648  -3.41635427  -0.4873736\n",
      "  -5.91313731   0.56531909  -7.9677492    1.79925962  -1.17382132\n",
      "  34.93375068  16.75204771 -27.33316916   1.18798019]\n",
      "0.05152671755725191\n",
      "0.06666666666666667\n"
     ]
    }
   ],
   "source": [
    "social_drinker = df.loc[:, \"Social drinker\"]\n",
    "social_smoker = df.loc[:, \"Social smoker\"]\n",
    "df.drop(columns=[\"Social drinker\", \"Social smoker\"], inplace=True)\n",
    "\n",
    "df /= df.max()\n",
    "\n",
    "test_x = df.iloc[:195, :]\n",
    "test_y = social_drinker[:195]\n",
    "\n",
    "train_x = df.iloc[195:, :]\n",
    "train_y = social_drinker[195:]\n",
    "\n",
    "n_variables = train_x.shape[1]\n",
    "initial_guess = np.ones(n_variables + 1)\n",
    "\n",
    "train_x_bias = np.concatenate([np.ones((train_x.shape[0], 1)), train_x], axis=1)\n",
    "test_x_bias = np.concatenate([np.ones((test_x.shape[0], 1)), test_x], axis=1)\n",
    "\n",
    "res = minimize(calculate_log_likelihood, initial_guess, args=(train_x_bias, train_y))\n",
    "print(res.x)\n",
    "\n",
    "training_prediction = calculate_predictions(train_x_bias, res.x)\n",
    "print(calculate_error(training_prediction, train_y))\n",
    "\n",
    "testing_prediction = calculate_predictions(test_x_bias, res.x)\n",
    "print(calculate_error(testing_prediction, test_y))"
   ]
  },
  {
   "cell_type": "markdown",
   "metadata": {},
   "source": [
    "### Usando a biblioteca statsmodels"
   ]
  },
  {
   "cell_type": "markdown",
   "metadata": {},
   "source": [
    "#### Exemplo 1"
   ]
  },
  {
   "cell_type": "markdown",
   "metadata": {},
   "source": [
    "Vamos utilizar o dataset UCLA (`graduate_schools.csv`). Esse dataset contém as seguintes informações:\n",
    "\n",
    "- **Admit**: variável binária indicando se o estudante foi ou não admitido na universidade\n",
    "- **GRE**: variável contínua indicando a nota do estudante no GRE\n",
    "- **GPA**: variável contínua indicanto a média na graduação\n",
    "- **Rank**: variável categórica indicando o nível de prestígio da universidade que o estudante cursou a graduação (1: maior prestígio - 4: menor prestígio)\n",
    "\n",
    "Nosso objetivo é identificar fatores que podem influenciar a admissão em um mestrado/doutorado em uma universidade"
   ]
  },
  {
   "cell_type": "code",
   "execution_count": 9,
   "metadata": {},
   "outputs": [],
   "source": [
    "df = pd.read_csv('graduate_schools.csv', sep=' ')"
   ]
  },
  {
   "cell_type": "code",
   "execution_count": 10,
   "metadata": {},
   "outputs": [
    {
     "data": {
      "text/html": [
       "<div>\n",
       "<style scoped>\n",
       "    .dataframe tbody tr th:only-of-type {\n",
       "        vertical-align: middle;\n",
       "    }\n",
       "\n",
       "    .dataframe tbody tr th {\n",
       "        vertical-align: top;\n",
       "    }\n",
       "\n",
       "    .dataframe thead th {\n",
       "        text-align: right;\n",
       "    }\n",
       "</style>\n",
       "<table border=\"1\" class=\"dataframe\">\n",
       "  <thead>\n",
       "    <tr style=\"text-align: right;\">\n",
       "      <th></th>\n",
       "      <th>admit</th>\n",
       "      <th>gre</th>\n",
       "      <th>gpa</th>\n",
       "      <th>rank</th>\n",
       "    </tr>\n",
       "  </thead>\n",
       "  <tbody>\n",
       "    <tr>\n",
       "      <td>1</td>\n",
       "      <td>0</td>\n",
       "      <td>380</td>\n",
       "      <td>3.61</td>\n",
       "      <td>3</td>\n",
       "    </tr>\n",
       "    <tr>\n",
       "      <td>2</td>\n",
       "      <td>1</td>\n",
       "      <td>660</td>\n",
       "      <td>3.67</td>\n",
       "      <td>3</td>\n",
       "    </tr>\n",
       "    <tr>\n",
       "      <td>3</td>\n",
       "      <td>1</td>\n",
       "      <td>800</td>\n",
       "      <td>4.00</td>\n",
       "      <td>1</td>\n",
       "    </tr>\n",
       "    <tr>\n",
       "      <td>4</td>\n",
       "      <td>1</td>\n",
       "      <td>640</td>\n",
       "      <td>3.19</td>\n",
       "      <td>4</td>\n",
       "    </tr>\n",
       "    <tr>\n",
       "      <td>5</td>\n",
       "      <td>0</td>\n",
       "      <td>520</td>\n",
       "      <td>2.93</td>\n",
       "      <td>4</td>\n",
       "    </tr>\n",
       "  </tbody>\n",
       "</table>\n",
       "</div>"
      ],
      "text/plain": [
       "   admit  gre   gpa  rank\n",
       "1      0  380  3.61     3\n",
       "2      1  660  3.67     3\n",
       "3      1  800  4.00     1\n",
       "4      1  640  3.19     4\n",
       "5      0  520  2.93     4"
      ]
     },
     "execution_count": 10,
     "metadata": {},
     "output_type": "execute_result"
    }
   ],
   "source": [
    "df.head()"
   ]
  },
  {
   "cell_type": "code",
   "execution_count": 11,
   "metadata": {},
   "outputs": [],
   "source": [
    "df.columns = ['admit', 'gre', 'gpa', 'prestige']"
   ]
  },
  {
   "cell_type": "code",
   "execution_count": 12,
   "metadata": {},
   "outputs": [
    {
     "name": "stdout",
     "output_type": "stream",
     "text": [
      "<class 'pandas.core.frame.DataFrame'>\n",
      "Int64Index: 400 entries, 1 to 400\n",
      "Data columns (total 4 columns):\n",
      "admit       400 non-null int64\n",
      "gre         400 non-null int64\n",
      "gpa         400 non-null float64\n",
      "prestige    400 non-null int64\n",
      "dtypes: float64(1), int64(3)\n",
      "memory usage: 15.6 KB\n"
     ]
    }
   ],
   "source": [
    "df.info()"
   ]
  },
  {
   "cell_type": "code",
   "execution_count": 13,
   "metadata": {},
   "outputs": [
    {
     "data": {
      "text/html": [
       "<div>\n",
       "<style scoped>\n",
       "    .dataframe tbody tr th:only-of-type {\n",
       "        vertical-align: middle;\n",
       "    }\n",
       "\n",
       "    .dataframe tbody tr th {\n",
       "        vertical-align: top;\n",
       "    }\n",
       "\n",
       "    .dataframe thead th {\n",
       "        text-align: right;\n",
       "    }\n",
       "</style>\n",
       "<table border=\"1\" class=\"dataframe\">\n",
       "  <thead>\n",
       "    <tr style=\"text-align: right;\">\n",
       "      <th></th>\n",
       "      <th>admit</th>\n",
       "      <th>gre</th>\n",
       "      <th>gpa</th>\n",
       "      <th>prestige</th>\n",
       "    </tr>\n",
       "  </thead>\n",
       "  <tbody>\n",
       "    <tr>\n",
       "      <td>count</td>\n",
       "      <td>400.000000</td>\n",
       "      <td>400.000000</td>\n",
       "      <td>400.000000</td>\n",
       "      <td>400.00000</td>\n",
       "    </tr>\n",
       "    <tr>\n",
       "      <td>mean</td>\n",
       "      <td>0.317500</td>\n",
       "      <td>587.700000</td>\n",
       "      <td>3.389900</td>\n",
       "      <td>2.48500</td>\n",
       "    </tr>\n",
       "    <tr>\n",
       "      <td>std</td>\n",
       "      <td>0.466087</td>\n",
       "      <td>115.516536</td>\n",
       "      <td>0.380567</td>\n",
       "      <td>0.94446</td>\n",
       "    </tr>\n",
       "    <tr>\n",
       "      <td>min</td>\n",
       "      <td>0.000000</td>\n",
       "      <td>220.000000</td>\n",
       "      <td>2.260000</td>\n",
       "      <td>1.00000</td>\n",
       "    </tr>\n",
       "    <tr>\n",
       "      <td>25%</td>\n",
       "      <td>0.000000</td>\n",
       "      <td>520.000000</td>\n",
       "      <td>3.130000</td>\n",
       "      <td>2.00000</td>\n",
       "    </tr>\n",
       "    <tr>\n",
       "      <td>50%</td>\n",
       "      <td>0.000000</td>\n",
       "      <td>580.000000</td>\n",
       "      <td>3.395000</td>\n",
       "      <td>2.00000</td>\n",
       "    </tr>\n",
       "    <tr>\n",
       "      <td>75%</td>\n",
       "      <td>1.000000</td>\n",
       "      <td>660.000000</td>\n",
       "      <td>3.670000</td>\n",
       "      <td>3.00000</td>\n",
       "    </tr>\n",
       "    <tr>\n",
       "      <td>max</td>\n",
       "      <td>1.000000</td>\n",
       "      <td>800.000000</td>\n",
       "      <td>4.000000</td>\n",
       "      <td>4.00000</td>\n",
       "    </tr>\n",
       "  </tbody>\n",
       "</table>\n",
       "</div>"
      ],
      "text/plain": [
       "            admit         gre         gpa   prestige\n",
       "count  400.000000  400.000000  400.000000  400.00000\n",
       "mean     0.317500  587.700000    3.389900    2.48500\n",
       "std      0.466087  115.516536    0.380567    0.94446\n",
       "min      0.000000  220.000000    2.260000    1.00000\n",
       "25%      0.000000  520.000000    3.130000    2.00000\n",
       "50%      0.000000  580.000000    3.395000    2.00000\n",
       "75%      1.000000  660.000000    3.670000    3.00000\n",
       "max      1.000000  800.000000    4.000000    4.00000"
      ]
     },
     "execution_count": 13,
     "metadata": {},
     "output_type": "execute_result"
    }
   ],
   "source": [
    "df.describe()"
   ]
  },
  {
   "cell_type": "markdown",
   "metadata": {},
   "source": [
    "Podemos extrair algumas informações dessas métricas:\n",
    "\n",
    "- A variável `admit` está sendo tratada como contínua por enquanto e a média indica que aproximadamente 31.75% dos estudantes que aplicam para uma universidade (mestrado/doutorado) são aprovados\n",
    "- A variável `prestige` parece estar balanceada entre universidades prestigiadas e não prestigiadas se considerarmos que a média com o mesmo número de amostras em cada categoria seria 2.5. "
   ]
  },
  {
   "cell_type": "markdown",
   "metadata": {},
   "source": [
    "Podemos verificar também se temos dados em todas as combinações de admissão e prestígio"
   ]
  },
  {
   "cell_type": "code",
   "execution_count": 14,
   "metadata": {},
   "outputs": [
    {
     "data": {
      "text/html": [
       "<div>\n",
       "<style scoped>\n",
       "    .dataframe tbody tr th:only-of-type {\n",
       "        vertical-align: middle;\n",
       "    }\n",
       "\n",
       "    .dataframe tbody tr th {\n",
       "        vertical-align: top;\n",
       "    }\n",
       "\n",
       "    .dataframe thead th {\n",
       "        text-align: right;\n",
       "    }\n",
       "</style>\n",
       "<table border=\"1\" class=\"dataframe\">\n",
       "  <thead>\n",
       "    <tr style=\"text-align: right;\">\n",
       "      <th>prestige</th>\n",
       "      <th>1</th>\n",
       "      <th>2</th>\n",
       "      <th>3</th>\n",
       "      <th>4</th>\n",
       "    </tr>\n",
       "    <tr>\n",
       "      <th>admit</th>\n",
       "      <th></th>\n",
       "      <th></th>\n",
       "      <th></th>\n",
       "      <th></th>\n",
       "    </tr>\n",
       "  </thead>\n",
       "  <tbody>\n",
       "    <tr>\n",
       "      <td>0</td>\n",
       "      <td>28</td>\n",
       "      <td>97</td>\n",
       "      <td>93</td>\n",
       "      <td>55</td>\n",
       "    </tr>\n",
       "    <tr>\n",
       "      <td>1</td>\n",
       "      <td>33</td>\n",
       "      <td>54</td>\n",
       "      <td>28</td>\n",
       "      <td>12</td>\n",
       "    </tr>\n",
       "  </tbody>\n",
       "</table>\n",
       "</div>"
      ],
      "text/plain": [
       "prestige   1   2   3   4\n",
       "admit                   \n",
       "0         28  97  93  55\n",
       "1         33  54  28  12"
      ]
     },
     "execution_count": 14,
     "metadata": {},
     "output_type": "execute_result"
    }
   ],
   "source": [
    "pd.crosstab(df['admit'], df['prestige'])"
   ]
  },
  {
   "cell_type": "markdown",
   "metadata": {},
   "source": [
    "Podemos traçar o histograma das variáveis como uma forma de exploração dos dados, pois são rápidos de interpretar e fornecem uma boa representação visual para o problema"
   ]
  },
  {
   "cell_type": "code",
   "execution_count": 15,
   "metadata": {},
   "outputs": [
    {
     "data": {
      "image/png": "[encoded data removed]",
      "text/plain": [
       "<Figure size 864x576 with 4 Axes>"
      ]
     },
     "metadata": {
      "needs_background": "light"
     },
     "output_type": "display_data"
    }
   ],
   "source": [
    "df.hist();"
   ]
  },
  {
   "cell_type": "markdown",
   "metadata": {},
   "source": [
    "Agora precisamos dummificar nossa variável preditora categórica"
   ]
  },
  {
   "cell_type": "code",
   "execution_count": 16,
   "metadata": {},
   "outputs": [
    {
     "data": {
      "text/html": [
       "<div>\n",
       "<style scoped>\n",
       "    .dataframe tbody tr th:only-of-type {\n",
       "        vertical-align: middle;\n",
       "    }\n",
       "\n",
       "    .dataframe tbody tr th {\n",
       "        vertical-align: top;\n",
       "    }\n",
       "\n",
       "    .dataframe thead th {\n",
       "        text-align: right;\n",
       "    }\n",
       "</style>\n",
       "<table border=\"1\" class=\"dataframe\">\n",
       "  <thead>\n",
       "    <tr style=\"text-align: right;\">\n",
       "      <th></th>\n",
       "      <th>prestige_1</th>\n",
       "      <th>prestige_2</th>\n",
       "      <th>prestige_3</th>\n",
       "      <th>prestige_4</th>\n",
       "    </tr>\n",
       "  </thead>\n",
       "  <tbody>\n",
       "    <tr>\n",
       "      <td>1</td>\n",
       "      <td>0</td>\n",
       "      <td>0</td>\n",
       "      <td>1</td>\n",
       "      <td>0</td>\n",
       "    </tr>\n",
       "    <tr>\n",
       "      <td>2</td>\n",
       "      <td>0</td>\n",
       "      <td>0</td>\n",
       "      <td>1</td>\n",
       "      <td>0</td>\n",
       "    </tr>\n",
       "    <tr>\n",
       "      <td>3</td>\n",
       "      <td>1</td>\n",
       "      <td>0</td>\n",
       "      <td>0</td>\n",
       "      <td>0</td>\n",
       "    </tr>\n",
       "    <tr>\n",
       "      <td>4</td>\n",
       "      <td>0</td>\n",
       "      <td>0</td>\n",
       "      <td>0</td>\n",
       "      <td>1</td>\n",
       "    </tr>\n",
       "    <tr>\n",
       "      <td>5</td>\n",
       "      <td>0</td>\n",
       "      <td>0</td>\n",
       "      <td>0</td>\n",
       "      <td>1</td>\n",
       "    </tr>\n",
       "    <tr>\n",
       "      <td>...</td>\n",
       "      <td>...</td>\n",
       "      <td>...</td>\n",
       "      <td>...</td>\n",
       "      <td>...</td>\n",
       "    </tr>\n",
       "    <tr>\n",
       "      <td>396</td>\n",
       "      <td>0</td>\n",
       "      <td>1</td>\n",
       "      <td>0</td>\n",
       "      <td>0</td>\n",
       "    </tr>\n",
       "    <tr>\n",
       "      <td>397</td>\n",
       "      <td>0</td>\n",
       "      <td>0</td>\n",
       "      <td>1</td>\n",
       "      <td>0</td>\n",
       "    </tr>\n",
       "    <tr>\n",
       "      <td>398</td>\n",
       "      <td>0</td>\n",
       "      <td>1</td>\n",
       "      <td>0</td>\n",
       "      <td>0</td>\n",
       "    </tr>\n",
       "    <tr>\n",
       "      <td>399</td>\n",
       "      <td>0</td>\n",
       "      <td>1</td>\n",
       "      <td>0</td>\n",
       "      <td>0</td>\n",
       "    </tr>\n",
       "    <tr>\n",
       "      <td>400</td>\n",
       "      <td>0</td>\n",
       "      <td>0</td>\n",
       "      <td>1</td>\n",
       "      <td>0</td>\n",
       "    </tr>\n",
       "  </tbody>\n",
       "</table>\n",
       "<p>400 rows × 4 columns</p>\n",
       "</div>"
      ],
      "text/plain": [
       "     prestige_1  prestige_2  prestige_3  prestige_4\n",
       "1             0           0           1           0\n",
       "2             0           0           1           0\n",
       "3             1           0           0           0\n",
       "4             0           0           0           1\n",
       "5             0           0           0           1\n",
       "..          ...         ...         ...         ...\n",
       "396           0           1           0           0\n",
       "397           0           0           1           0\n",
       "398           0           1           0           0\n",
       "399           0           1           0           0\n",
       "400           0           0           1           0\n",
       "\n",
       "[400 rows x 4 columns]"
      ]
     },
     "execution_count": 16,
     "metadata": {},
     "output_type": "execute_result"
    }
   ],
   "source": [
    "pd.get_dummies(df['prestige'], prefix='prestige')"
   ]
  },
  {
   "cell_type": "code",
   "execution_count": 17,
   "metadata": {},
   "outputs": [
    {
     "data": {
      "text/html": [
       "<div>\n",
       "<style scoped>\n",
       "    .dataframe tbody tr th:only-of-type {\n",
       "        vertical-align: middle;\n",
       "    }\n",
       "\n",
       "    .dataframe tbody tr th {\n",
       "        vertical-align: top;\n",
       "    }\n",
       "\n",
       "    .dataframe thead th {\n",
       "        text-align: right;\n",
       "    }\n",
       "</style>\n",
       "<table border=\"1\" class=\"dataframe\">\n",
       "  <thead>\n",
       "    <tr style=\"text-align: right;\">\n",
       "      <th></th>\n",
       "      <th>prestige_2</th>\n",
       "      <th>prestige_3</th>\n",
       "      <th>prestige_4</th>\n",
       "    </tr>\n",
       "  </thead>\n",
       "  <tbody>\n",
       "    <tr>\n",
       "      <td>1</td>\n",
       "      <td>0</td>\n",
       "      <td>1</td>\n",
       "      <td>0</td>\n",
       "    </tr>\n",
       "    <tr>\n",
       "      <td>2</td>\n",
       "      <td>0</td>\n",
       "      <td>1</td>\n",
       "      <td>0</td>\n",
       "    </tr>\n",
       "    <tr>\n",
       "      <td>3</td>\n",
       "      <td>0</td>\n",
       "      <td>0</td>\n",
       "      <td>0</td>\n",
       "    </tr>\n",
       "    <tr>\n",
       "      <td>4</td>\n",
       "      <td>0</td>\n",
       "      <td>0</td>\n",
       "      <td>1</td>\n",
       "    </tr>\n",
       "    <tr>\n",
       "      <td>5</td>\n",
       "      <td>0</td>\n",
       "      <td>0</td>\n",
       "      <td>1</td>\n",
       "    </tr>\n",
       "  </tbody>\n",
       "</table>\n",
       "</div>"
      ],
      "text/plain": [
       "   prestige_2  prestige_3  prestige_4\n",
       "1           0           1           0\n",
       "2           0           1           0\n",
       "3           0           0           0\n",
       "4           0           0           1\n",
       "5           0           0           1"
      ]
     },
     "execution_count": 17,
     "metadata": {},
     "output_type": "execute_result"
    }
   ],
   "source": [
    "dummy_prestige = pd.get_dummies(df['prestige'], prefix='prestige', drop_first=True)\n",
    "dummy_prestige.head()"
   ]
  },
  {
   "cell_type": "markdown",
   "metadata": {},
   "source": [
    "Podemos concatenar os dataframes para incluir nossa variável dummificada"
   ]
  },
  {
   "cell_type": "code",
   "execution_count": 18,
   "metadata": {},
   "outputs": [
    {
     "data": {
      "text/html": [
       "<div>\n",
       "<style scoped>\n",
       "    .dataframe tbody tr th:only-of-type {\n",
       "        vertical-align: middle;\n",
       "    }\n",
       "\n",
       "    .dataframe tbody tr th {\n",
       "        vertical-align: top;\n",
       "    }\n",
       "\n",
       "    .dataframe thead th {\n",
       "        text-align: right;\n",
       "    }\n",
       "</style>\n",
       "<table border=\"1\" class=\"dataframe\">\n",
       "  <thead>\n",
       "    <tr style=\"text-align: right;\">\n",
       "      <th></th>\n",
       "      <th>admit</th>\n",
       "      <th>gre</th>\n",
       "      <th>gpa</th>\n",
       "      <th>prestige_2</th>\n",
       "      <th>prestige_3</th>\n",
       "      <th>prestige_4</th>\n",
       "    </tr>\n",
       "  </thead>\n",
       "  <tbody>\n",
       "    <tr>\n",
       "      <td>1</td>\n",
       "      <td>0</td>\n",
       "      <td>380</td>\n",
       "      <td>3.61</td>\n",
       "      <td>0</td>\n",
       "      <td>1</td>\n",
       "      <td>0</td>\n",
       "    </tr>\n",
       "    <tr>\n",
       "      <td>2</td>\n",
       "      <td>1</td>\n",
       "      <td>660</td>\n",
       "      <td>3.67</td>\n",
       "      <td>0</td>\n",
       "      <td>1</td>\n",
       "      <td>0</td>\n",
       "    </tr>\n",
       "    <tr>\n",
       "      <td>3</td>\n",
       "      <td>1</td>\n",
       "      <td>800</td>\n",
       "      <td>4.00</td>\n",
       "      <td>0</td>\n",
       "      <td>0</td>\n",
       "      <td>0</td>\n",
       "    </tr>\n",
       "    <tr>\n",
       "      <td>4</td>\n",
       "      <td>1</td>\n",
       "      <td>640</td>\n",
       "      <td>3.19</td>\n",
       "      <td>0</td>\n",
       "      <td>0</td>\n",
       "      <td>1</td>\n",
       "    </tr>\n",
       "    <tr>\n",
       "      <td>5</td>\n",
       "      <td>0</td>\n",
       "      <td>520</td>\n",
       "      <td>2.93</td>\n",
       "      <td>0</td>\n",
       "      <td>0</td>\n",
       "      <td>1</td>\n",
       "    </tr>\n",
       "  </tbody>\n",
       "</table>\n",
       "</div>"
      ],
      "text/plain": [
       "   admit  gre   gpa  prestige_2  prestige_3  prestige_4\n",
       "1      0  380  3.61           0           1           0\n",
       "2      1  660  3.67           0           1           0\n",
       "3      1  800  4.00           0           0           0\n",
       "4      1  640  3.19           0           0           1\n",
       "5      0  520  2.93           0           0           1"
      ]
     },
     "execution_count": 18,
     "metadata": {},
     "output_type": "execute_result"
    }
   ],
   "source": [
    "columns_to_keep = ['admit', 'gre', 'gpa']\n",
    "data = df[columns_to_keep].join(dummy_prestige)\n",
    "data.head()"
   ]
  },
  {
   "cell_type": "markdown",
   "metadata": {},
   "source": [
    "Então vamos tentar prever a admissão usando as colunas `gre`, `gpa` e as variáveis dummy `prestige_2`, `prestige_3`, `prestige_4`. Vamos tratar o `prestige_1` como nosso baseline e excluí-lo do ajuste do modelo. Lembrando que fazemos isso para prevenir o problema de multicolinearidade."
   ]
  },
  {
   "cell_type": "markdown",
   "metadata": {},
   "source": [
    "Vamos adicionar a constante para incluir o termo da interceptação"
   ]
  },
  {
   "cell_type": "code",
   "execution_count": 19,
   "metadata": {},
   "outputs": [
    {
     "name": "stderr",
     "output_type": "stream",
     "text": [
      "/Users/strachan/anaconda3/lib/python3.7/site-packages/numpy/core/fromnumeric.py:2495: FutureWarning: Method .ptp is deprecated and will be removed in a future version. Use numpy.ptp instead.\n",
      "  return ptp(axis=axis, out=out, **kwargs)\n"
     ]
    },
    {
     "data": {
      "text/html": [
       "<div>\n",
       "<style scoped>\n",
       "    .dataframe tbody tr th:only-of-type {\n",
       "        vertical-align: middle;\n",
       "    }\n",
       "\n",
       "    .dataframe tbody tr th {\n",
       "        vertical-align: top;\n",
       "    }\n",
       "\n",
       "    .dataframe thead th {\n",
       "        text-align: right;\n",
       "    }\n",
       "</style>\n",
       "<table border=\"1\" class=\"dataframe\">\n",
       "  <thead>\n",
       "    <tr style=\"text-align: right;\">\n",
       "      <th></th>\n",
       "      <th>const</th>\n",
       "      <th>admit</th>\n",
       "      <th>gre</th>\n",
       "      <th>gpa</th>\n",
       "      <th>prestige_2</th>\n",
       "      <th>prestige_3</th>\n",
       "      <th>prestige_4</th>\n",
       "    </tr>\n",
       "  </thead>\n",
       "  <tbody>\n",
       "    <tr>\n",
       "      <td>1</td>\n",
       "      <td>1.0</td>\n",
       "      <td>0</td>\n",
       "      <td>380</td>\n",
       "      <td>3.61</td>\n",
       "      <td>0</td>\n",
       "      <td>1</td>\n",
       "      <td>0</td>\n",
       "    </tr>\n",
       "    <tr>\n",
       "      <td>2</td>\n",
       "      <td>1.0</td>\n",
       "      <td>1</td>\n",
       "      <td>660</td>\n",
       "      <td>3.67</td>\n",
       "      <td>0</td>\n",
       "      <td>1</td>\n",
       "      <td>0</td>\n",
       "    </tr>\n",
       "    <tr>\n",
       "      <td>3</td>\n",
       "      <td>1.0</td>\n",
       "      <td>1</td>\n",
       "      <td>800</td>\n",
       "      <td>4.00</td>\n",
       "      <td>0</td>\n",
       "      <td>0</td>\n",
       "      <td>0</td>\n",
       "    </tr>\n",
       "    <tr>\n",
       "      <td>4</td>\n",
       "      <td>1.0</td>\n",
       "      <td>1</td>\n",
       "      <td>640</td>\n",
       "      <td>3.19</td>\n",
       "      <td>0</td>\n",
       "      <td>0</td>\n",
       "      <td>1</td>\n",
       "    </tr>\n",
       "    <tr>\n",
       "      <td>5</td>\n",
       "      <td>1.0</td>\n",
       "      <td>0</td>\n",
       "      <td>520</td>\n",
       "      <td>2.93</td>\n",
       "      <td>0</td>\n",
       "      <td>0</td>\n",
       "      <td>1</td>\n",
       "    </tr>\n",
       "  </tbody>\n",
       "</table>\n",
       "</div>"
      ],
      "text/plain": [
       "   const  admit  gre   gpa  prestige_2  prestige_3  prestige_4\n",
       "1    1.0      0  380  3.61           0           1           0\n",
       "2    1.0      1  660  3.67           0           1           0\n",
       "3    1.0      1  800  4.00           0           0           0\n",
       "4    1.0      1  640  3.19           0           0           1\n",
       "5    1.0      0  520  2.93           0           0           1"
      ]
     },
     "execution_count": 19,
     "metadata": {},
     "output_type": "execute_result"
    }
   ],
   "source": [
    "data = sm.add_constant(data)\n",
    "data.head()"
   ]
  },
  {
   "cell_type": "code",
   "execution_count": 20,
   "metadata": {},
   "outputs": [
    {
     "data": {
      "text/plain": [
       "Index(['const', 'gre', 'gpa', 'prestige_2', 'prestige_3', 'prestige_4'], dtype='object')"
      ]
     },
     "execution_count": 20,
     "metadata": {},
     "output_type": "execute_result"
    }
   ],
   "source": [
    "train_columns = data.columns[data.columns != 'admit']\n",
    "train_columns"
   ]
  },
  {
   "cell_type": "code",
   "execution_count": 21,
   "metadata": {},
   "outputs": [
    {
     "name": "stdout",
     "output_type": "stream",
     "text": [
      "Optimization terminated successfully.\n",
      "         Current function value: 0.573147\n",
      "         Iterations 6\n"
     ]
    },
    {
     "data": {
      "text/html": [
       "<table class=\"simpletable\">\n",
       "<tr>\n",
       "        <td>Model:</td>              <td>Logit</td>      <td>Pseudo R-squared:</td>    <td>0.083</td>  \n",
       "</tr>\n",
       "<tr>\n",
       "  <td>Dependent Variable:</td>       <td>admit</td>            <td>AIC:</td>         <td>470.5175</td> \n",
       "</tr>\n",
       "<tr>\n",
       "         <td>Date:</td>        <td>2020-02-10 19:49</td>       <td>BIC:</td>         <td>494.4663</td> \n",
       "</tr>\n",
       "<tr>\n",
       "   <td>No. Observations:</td>         <td>400</td>        <td>Log-Likelihood:</td>    <td>-229.26</td> \n",
       "</tr>\n",
       "<tr>\n",
       "       <td>Df Model:</td>              <td>5</td>            <td>LL-Null:</td>        <td>-249.99</td> \n",
       "</tr>\n",
       "<tr>\n",
       "     <td>Df Residuals:</td>           <td>394</td>         <td>LLR p-value:</td>    <td>7.5782e-08</td>\n",
       "</tr>\n",
       "<tr>\n",
       "      <td>Converged:</td>           <td>1.0000</td>           <td>Scale:</td>         <td>1.0000</td>  \n",
       "</tr>\n",
       "<tr>\n",
       "    <td>No. Iterations:</td>        <td>6.0000</td>              <td></td>               <td></td>     \n",
       "</tr>\n",
       "</table>\n",
       "<table class=\"simpletable\">\n",
       "<tr>\n",
       "       <td></td>       <th>Coef.</th>  <th>Std.Err.</th>    <th>z</th>     <th>P>|z|</th> <th>[0.025</th>  <th>0.975]</th> \n",
       "</tr>\n",
       "<tr>\n",
       "  <th>const</th>      <td>-3.9900</td>  <td>1.1400</td>  <td>-3.5001</td> <td>0.0005</td> <td>-6.2242</td> <td>-1.7557</td>\n",
       "</tr>\n",
       "<tr>\n",
       "  <th>gre</th>        <td>0.0023</td>   <td>0.0011</td>  <td>2.0699</td>  <td>0.0385</td> <td>0.0001</td>  <td>0.0044</td> \n",
       "</tr>\n",
       "<tr>\n",
       "  <th>gpa</th>        <td>0.8040</td>   <td>0.3318</td>  <td>2.4231</td>  <td>0.0154</td> <td>0.1537</td>  <td>1.4544</td> \n",
       "</tr>\n",
       "<tr>\n",
       "  <th>prestige_2</th> <td>-0.6754</td>  <td>0.3165</td>  <td>-2.1342</td> <td>0.0328</td> <td>-1.2958</td> <td>-0.0551</td>\n",
       "</tr>\n",
       "<tr>\n",
       "  <th>prestige_3</th> <td>-1.3402</td>  <td>0.3453</td>  <td>-3.8812</td> <td>0.0001</td> <td>-2.0170</td> <td>-0.6634</td>\n",
       "</tr>\n",
       "<tr>\n",
       "  <th>prestige_4</th> <td>-1.5515</td>  <td>0.4178</td>  <td>-3.7131</td> <td>0.0002</td> <td>-2.3704</td> <td>-0.7325</td>\n",
       "</tr>\n",
       "</table>"
      ],
      "text/plain": [
       "<class 'statsmodels.iolib.summary2.Summary'>\n",
       "\"\"\"\n",
       "                         Results: Logit\n",
       "=================================================================\n",
       "Model:              Logit            Pseudo R-squared: 0.083     \n",
       "Dependent Variable: admit            AIC:              470.5175  \n",
       "Date:               2020-02-10 19:49 BIC:              494.4663  \n",
       "No. Observations:   400              Log-Likelihood:   -229.26   \n",
       "Df Model:           5                LL-Null:          -249.99   \n",
       "Df Residuals:       394              LLR p-value:      7.5782e-08\n",
       "Converged:          1.0000           Scale:            1.0000    \n",
       "No. Iterations:     6.0000                                       \n",
       "------------------------------------------------------------------\n",
       "               Coef.   Std.Err.     z     P>|z|    [0.025   0.975]\n",
       "------------------------------------------------------------------\n",
       "const         -3.9900    1.1400  -3.5001  0.0005  -6.2242  -1.7557\n",
       "gre            0.0023    0.0011   2.0699  0.0385   0.0001   0.0044\n",
       "gpa            0.8040    0.3318   2.4231  0.0154   0.1537   1.4544\n",
       "prestige_2    -0.6754    0.3165  -2.1342  0.0328  -1.2958  -0.0551\n",
       "prestige_3    -1.3402    0.3453  -3.8812  0.0001  -2.0170  -0.6634\n",
       "prestige_4    -1.5515    0.4178  -3.7131  0.0002  -2.3704  -0.7325\n",
       "=================================================================\n",
       "\n",
       "\"\"\""
      ]
     },
     "execution_count": 21,
     "metadata": {},
     "output_type": "execute_result"
    }
   ],
   "source": [
    "logit = sm.Logit(data['admit'], data[train_columns]).fit()\n",
    "logit.summary2()"
   ]
  },
  {
   "cell_type": "code",
   "execution_count": 22,
   "metadata": {},
   "outputs": [
    {
     "name": "stdout",
     "output_type": "stream",
     "text": [
      "Deviance nulo: 501.97651762186103 com 399 graus de liberdade\n",
      "Deviance residual: 460.51749247589896 com 394 graus de liberdade\n"
     ]
    }
   ],
   "source": [
    "print(f'Deviance nulo: {2*(1 - logit.llnull)} com {data.shape[0] - 1} graus de liberdade')\n",
    "print(f'Deviance residual: {2*(1 - logit.llf)} com {data.shape[0] - len(train_columns)} graus de liberdade')"
   ]
  },
  {
   "cell_type": "markdown",
   "metadata": {},
   "source": [
    "#### Interpretando os coeficientes"
   ]
  },
  {
   "cell_type": "markdown",
   "metadata": {},
   "source": [
    "- CONST: O log da chance de um estudante ser admitido para uma pós graduação quando eles cursaram a graduação em uma universidade muito prestigiada e recebeu 0 no GRE e 0 no GPA é aproximadamente -3.99\n",
    "\n",
    "- GRE: Para cada ponto adicional que o estudante tira no GRE, o log da chance de ser admitido para uma pós graduação aumenta aproximadamente 0.002, se todas as outras variáveis permanecerem constante\n",
    "\n",
    "- GPA: Para cada ponto adicional que o estudante tira no GPA, o log da chance de ser admitido para uma pós graduação aumenta aproximadamente 0.804, se todas as outras variáveis permanecerem constante\n",
    "\n",
    "- Prestige: O log da chance associado a ter frequentado uma graduação em uma universidade com prestígio 2, 3, e 4, quando comparado com uma universidade de prestígio 1 é de aproximadamente -0.675, -1.340, e -1.552, respectivamente, se todas as outras variáveis permanecerem constante"
   ]
  },
  {
   "cell_type": "markdown",
   "metadata": {},
   "source": [
    "Podemos analisar a relação log da chance e chance"
   ]
  },
  {
   "cell_type": "code",
   "execution_count": 23,
   "metadata": {},
   "outputs": [
    {
     "data": {
      "text/html": [
       "<div>\n",
       "<style scoped>\n",
       "    .dataframe tbody tr th:only-of-type {\n",
       "        vertical-align: middle;\n",
       "    }\n",
       "\n",
       "    .dataframe tbody tr th {\n",
       "        vertical-align: top;\n",
       "    }\n",
       "\n",
       "    .dataframe thead th {\n",
       "        text-align: right;\n",
       "    }\n",
       "</style>\n",
       "<table border=\"1\" class=\"dataframe\">\n",
       "  <thead>\n",
       "    <tr style=\"text-align: right;\">\n",
       "      <th></th>\n",
       "      <th>Log_da_Chance</th>\n",
       "      <th>Chance</th>\n",
       "    </tr>\n",
       "  </thead>\n",
       "  <tbody>\n",
       "    <tr>\n",
       "      <td>0</td>\n",
       "      <td>-3.989979</td>\n",
       "      <td>0.018500</td>\n",
       "    </tr>\n",
       "    <tr>\n",
       "      <td>1</td>\n",
       "      <td>0.002264</td>\n",
       "      <td>1.002267</td>\n",
       "    </tr>\n",
       "    <tr>\n",
       "      <td>2</td>\n",
       "      <td>0.804038</td>\n",
       "      <td>2.234545</td>\n",
       "    </tr>\n",
       "    <tr>\n",
       "      <td>3</td>\n",
       "      <td>-0.675443</td>\n",
       "      <td>0.508931</td>\n",
       "    </tr>\n",
       "    <tr>\n",
       "      <td>4</td>\n",
       "      <td>-1.340204</td>\n",
       "      <td>0.261792</td>\n",
       "    </tr>\n",
       "    <tr>\n",
       "      <td>5</td>\n",
       "      <td>-1.551464</td>\n",
       "      <td>0.211938</td>\n",
       "    </tr>\n",
       "  </tbody>\n",
       "</table>\n",
       "</div>"
      ],
      "text/plain": [
       "   Log_da_Chance    Chance\n",
       "0      -3.989979  0.018500\n",
       "1       0.002264  1.002267\n",
       "2       0.804038  2.234545\n",
       "3      -0.675443  0.508931\n",
       "4      -1.340204  0.261792\n",
       "5      -1.551464  0.211938"
      ]
     },
     "execution_count": 23,
     "metadata": {},
     "output_type": "execute_result"
    }
   ],
   "source": [
    "pd.DataFrame({'Log_da_Chance': logit.params.values, 'Chance': np.exp(logit.params.values)})"
   ]
  },
  {
   "cell_type": "markdown",
   "metadata": {},
   "source": [
    "Podemos construir um intervalo de confiança para a escala da chance:"
   ]
  },
  {
   "cell_type": "code",
   "execution_count": 24,
   "metadata": {},
   "outputs": [
    {
     "data": {
      "text/html": [
       "<div>\n",
       "<style scoped>\n",
       "    .dataframe tbody tr th:only-of-type {\n",
       "        vertical-align: middle;\n",
       "    }\n",
       "\n",
       "    .dataframe tbody tr th {\n",
       "        vertical-align: top;\n",
       "    }\n",
       "\n",
       "    .dataframe thead th {\n",
       "        text-align: right;\n",
       "    }\n",
       "</style>\n",
       "<table border=\"1\" class=\"dataframe\">\n",
       "  <thead>\n",
       "    <tr style=\"text-align: right;\">\n",
       "      <th></th>\n",
       "      <th>0</th>\n",
       "      <th>1</th>\n",
       "    </tr>\n",
       "  </thead>\n",
       "  <tbody>\n",
       "    <tr>\n",
       "      <td>const</td>\n",
       "      <td>0.001981</td>\n",
       "      <td>0.172783</td>\n",
       "    </tr>\n",
       "    <tr>\n",
       "      <td>gre</td>\n",
       "      <td>1.000120</td>\n",
       "      <td>1.004418</td>\n",
       "    </tr>\n",
       "    <tr>\n",
       "      <td>gpa</td>\n",
       "      <td>1.166122</td>\n",
       "      <td>4.281877</td>\n",
       "    </tr>\n",
       "    <tr>\n",
       "      <td>prestige_2</td>\n",
       "      <td>0.273692</td>\n",
       "      <td>0.946358</td>\n",
       "    </tr>\n",
       "    <tr>\n",
       "      <td>prestige_3</td>\n",
       "      <td>0.133055</td>\n",
       "      <td>0.515089</td>\n",
       "    </tr>\n",
       "    <tr>\n",
       "      <td>prestige_4</td>\n",
       "      <td>0.093443</td>\n",
       "      <td>0.480692</td>\n",
       "    </tr>\n",
       "  </tbody>\n",
       "</table>\n",
       "</div>"
      ],
      "text/plain": [
       "                   0         1\n",
       "const       0.001981  0.172783\n",
       "gre         1.000120  1.004418\n",
       "gpa         1.166122  4.281877\n",
       "prestige_2  0.273692  0.946358\n",
       "prestige_3  0.133055  0.515089\n",
       "prestige_4  0.093443  0.480692"
      ]
     },
     "execution_count": 24,
     "metadata": {},
     "output_type": "execute_result"
    }
   ],
   "source": [
    "np.exp(logit.conf_int())"
   ]
  },
  {
   "cell_type": "markdown",
   "metadata": {},
   "source": [
    "Vamos testar agora se o prestígio da universidade da graduação do estudante tem alguma influência no modelo? Vamos fazer um teste de queda do desvio"
   ]
  },
  {
   "cell_type": "code",
   "execution_count": 25,
   "metadata": {},
   "outputs": [
    {
     "name": "stdout",
     "output_type": "stream",
     "text": [
      "Optimization terminated successfully.\n",
      "         Current function value: 0.600430\n",
      "         Iterations 5\n"
     ]
    },
    {
     "data": {
      "text/html": [
       "<table class=\"simpletable\">\n",
       "<tr>\n",
       "        <td>Model:</td>              <td>Logit</td>      <td>Pseudo R-squared:</td>    <td>0.039</td>  \n",
       "</tr>\n",
       "<tr>\n",
       "  <td>Dependent Variable:</td>       <td>admit</td>            <td>AIC:</td>         <td>486.3440</td> \n",
       "</tr>\n",
       "<tr>\n",
       "         <td>Date:</td>        <td>2020-02-10 19:49</td>       <td>BIC:</td>         <td>498.3184</td> \n",
       "</tr>\n",
       "<tr>\n",
       "   <td>No. Observations:</td>         <td>400</td>        <td>Log-Likelihood:</td>    <td>-240.17</td> \n",
       "</tr>\n",
       "<tr>\n",
       "       <td>Df Model:</td>              <td>2</td>            <td>LL-Null:</td>        <td>-249.99</td> \n",
       "</tr>\n",
       "<tr>\n",
       "     <td>Df Residuals:</td>           <td>397</td>         <td>LLR p-value:</td>    <td>5.4557e-05</td>\n",
       "</tr>\n",
       "<tr>\n",
       "      <td>Converged:</td>           <td>1.0000</td>           <td>Scale:</td>         <td>1.0000</td>  \n",
       "</tr>\n",
       "<tr>\n",
       "    <td>No. Iterations:</td>        <td>5.0000</td>              <td></td>               <td></td>     \n",
       "</tr>\n",
       "</table>\n",
       "<table class=\"simpletable\">\n",
       "<tr>\n",
       "    <td></td>     <th>Coef.</th>  <th>Std.Err.</th>    <th>z</th>     <th>P>|z|</th> <th>[0.025</th>  <th>0.975]</th> \n",
       "</tr>\n",
       "<tr>\n",
       "  <th>const</th> <td>-4.9494</td>  <td>1.0751</td>  <td>-4.6037</td> <td>0.0000</td> <td>-7.0565</td> <td>-2.8422</td>\n",
       "</tr>\n",
       "<tr>\n",
       "  <th>gre</th>   <td>0.0027</td>   <td>0.0011</td>  <td>2.5444</td>  <td>0.0109</td> <td>0.0006</td>  <td>0.0048</td> \n",
       "</tr>\n",
       "<tr>\n",
       "  <th>gpa</th>   <td>0.7547</td>   <td>0.3196</td>  <td>2.3615</td>  <td>0.0182</td> <td>0.1283</td>  <td>1.3811</td> \n",
       "</tr>\n",
       "</table>"
      ],
      "text/plain": [
       "<class 'statsmodels.iolib.summary2.Summary'>\n",
       "\"\"\"\n",
       "                         Results: Logit\n",
       "=================================================================\n",
       "Model:              Logit            Pseudo R-squared: 0.039     \n",
       "Dependent Variable: admit            AIC:              486.3440  \n",
       "Date:               2020-02-10 19:49 BIC:              498.3184  \n",
       "No. Observations:   400              Log-Likelihood:   -240.17   \n",
       "Df Model:           2                LL-Null:          -249.99   \n",
       "Df Residuals:       397              LLR p-value:      5.4557e-05\n",
       "Converged:          1.0000           Scale:            1.0000    \n",
       "No. Iterations:     5.0000                                       \n",
       "-------------------------------------------------------------------\n",
       "           Coef.    Std.Err.      z      P>|z|     [0.025    0.975]\n",
       "-------------------------------------------------------------------\n",
       "const     -4.9494     1.0751   -4.6037   0.0000   -7.0565   -2.8422\n",
       "gre        0.0027     0.0011    2.5444   0.0109    0.0006    0.0048\n",
       "gpa        0.7547     0.3196    2.3615   0.0182    0.1283    1.3811\n",
       "=================================================================\n",
       "\n",
       "\"\"\""
      ]
     },
     "execution_count": 25,
     "metadata": {},
     "output_type": "execute_result"
    }
   ],
   "source": [
    "logit_no_prestige = sm.Logit(data['admit'], data[['const', 'gre', 'gpa']]).fit()\n",
    "logit_no_prestige.summary2()"
   ]
  },
  {
   "cell_type": "markdown",
   "metadata": {},
   "source": [
    "Aplicando o teste $\\chi^2$"
   ]
  },
  {
   "cell_type": "code",
   "execution_count": 26,
   "metadata": {},
   "outputs": [
    {
     "data": {
      "text/plain": [
       "7.088456177668665e-05"
      ]
     },
     "execution_count": 26,
     "metadata": {},
     "output_type": "execute_result"
    }
   ],
   "source": [
    "p_value = stats.chi2.sf(x=2*(1 - logit_no_prestige.llf) - 2*(1 - logit.llf),\n",
    "                        df=logit_no_prestige.df_resid - logit.df_resid)\n",
    "p_value"
   ]
  },
  {
   "cell_type": "markdown",
   "metadata": {},
   "source": [
    "O p-valor ê extremamente baixo (<0.0005). Logo, nós temos evidências para concluir que o modelo com a variável categórica `prestige` é melhor que o modelo sem essa variável"
   ]
  },
  {
   "cell_type": "markdown",
   "metadata": {},
   "source": [
    "Como a probabilidade de admissão muda com o prestígio para um estudante que tem um GRE na média e um GPA na média"
   ]
  },
  {
   "cell_type": "code",
   "execution_count": 27,
   "metadata": {},
   "outputs": [
    {
     "data": {
      "text/html": [
       "<div>\n",
       "<style scoped>\n",
       "    .dataframe tbody tr th:only-of-type {\n",
       "        vertical-align: middle;\n",
       "    }\n",
       "\n",
       "    .dataframe tbody tr th {\n",
       "        vertical-align: top;\n",
       "    }\n",
       "\n",
       "    .dataframe thead th {\n",
       "        text-align: right;\n",
       "    }\n",
       "</style>\n",
       "<table border=\"1\" class=\"dataframe\">\n",
       "  <thead>\n",
       "    <tr style=\"text-align: right;\">\n",
       "      <th></th>\n",
       "      <th>prestige</th>\n",
       "      <th>gre</th>\n",
       "      <th>gpa</th>\n",
       "    </tr>\n",
       "  </thead>\n",
       "  <tbody>\n",
       "    <tr>\n",
       "      <td>0</td>\n",
       "      <td>1</td>\n",
       "      <td>587.7</td>\n",
       "      <td>3.3899</td>\n",
       "    </tr>\n",
       "    <tr>\n",
       "      <td>1</td>\n",
       "      <td>2</td>\n",
       "      <td>587.7</td>\n",
       "      <td>3.3899</td>\n",
       "    </tr>\n",
       "    <tr>\n",
       "      <td>2</td>\n",
       "      <td>3</td>\n",
       "      <td>587.7</td>\n",
       "      <td>3.3899</td>\n",
       "    </tr>\n",
       "    <tr>\n",
       "      <td>3</td>\n",
       "      <td>4</td>\n",
       "      <td>587.7</td>\n",
       "      <td>3.3899</td>\n",
       "    </tr>\n",
       "  </tbody>\n",
       "</table>\n",
       "</div>"
      ],
      "text/plain": [
       "   prestige    gre     gpa\n",
       "0         1  587.7  3.3899\n",
       "1         2  587.7  3.3899\n",
       "2         3  587.7  3.3899\n",
       "3         4  587.7  3.3899"
      ]
     },
     "execution_count": 27,
     "metadata": {},
     "output_type": "execute_result"
    }
   ],
   "source": [
    "new_data = pd.DataFrame({'prestige': [1, 2, 3, 4]})\n",
    "new_data['gre'] = data['gre'].mean()\n",
    "new_data['gpa'] = data['gpa'].mean()\n",
    "new_data.head()"
   ]
  },
  {
   "cell_type": "code",
   "execution_count": 28,
   "metadata": {},
   "outputs": [
    {
     "data": {
      "text/html": [
       "<div>\n",
       "<style scoped>\n",
       "    .dataframe tbody tr th:only-of-type {\n",
       "        vertical-align: middle;\n",
       "    }\n",
       "\n",
       "    .dataframe tbody tr th {\n",
       "        vertical-align: top;\n",
       "    }\n",
       "\n",
       "    .dataframe thead th {\n",
       "        text-align: right;\n",
       "    }\n",
       "</style>\n",
       "<table border=\"1\" class=\"dataframe\">\n",
       "  <thead>\n",
       "    <tr style=\"text-align: right;\">\n",
       "      <th></th>\n",
       "      <th>gre</th>\n",
       "      <th>gpa</th>\n",
       "      <th>prestige_2</th>\n",
       "      <th>prestige_3</th>\n",
       "      <th>prestige_4</th>\n",
       "    </tr>\n",
       "  </thead>\n",
       "  <tbody>\n",
       "    <tr>\n",
       "      <td>0</td>\n",
       "      <td>587.7</td>\n",
       "      <td>3.3899</td>\n",
       "      <td>0</td>\n",
       "      <td>0</td>\n",
       "      <td>0</td>\n",
       "    </tr>\n",
       "    <tr>\n",
       "      <td>1</td>\n",
       "      <td>587.7</td>\n",
       "      <td>3.3899</td>\n",
       "      <td>1</td>\n",
       "      <td>0</td>\n",
       "      <td>0</td>\n",
       "    </tr>\n",
       "    <tr>\n",
       "      <td>2</td>\n",
       "      <td>587.7</td>\n",
       "      <td>3.3899</td>\n",
       "      <td>0</td>\n",
       "      <td>1</td>\n",
       "      <td>0</td>\n",
       "    </tr>\n",
       "    <tr>\n",
       "      <td>3</td>\n",
       "      <td>587.7</td>\n",
       "      <td>3.3899</td>\n",
       "      <td>0</td>\n",
       "      <td>0</td>\n",
       "      <td>1</td>\n",
       "    </tr>\n",
       "  </tbody>\n",
       "</table>\n",
       "</div>"
      ],
      "text/plain": [
       "     gre     gpa  prestige_2  prestige_3  prestige_4\n",
       "0  587.7  3.3899           0           0           0\n",
       "1  587.7  3.3899           1           0           0\n",
       "2  587.7  3.3899           0           1           0\n",
       "3  587.7  3.3899           0           0           1"
      ]
     },
     "execution_count": 28,
     "metadata": {},
     "output_type": "execute_result"
    }
   ],
   "source": [
    "dummy_prestige = pd.get_dummies(new_data['prestige'], prefix='prestige', drop_first=True)\n",
    "new_data = new_data[['gre', 'gpa']].join(dummy_prestige)\n",
    "new_data.head()"
   ]
  },
  {
   "cell_type": "code",
   "execution_count": 29,
   "metadata": {},
   "outputs": [
    {
     "data": {
      "text/html": [
       "<div>\n",
       "<style scoped>\n",
       "    .dataframe tbody tr th:only-of-type {\n",
       "        vertical-align: middle;\n",
       "    }\n",
       "\n",
       "    .dataframe tbody tr th {\n",
       "        vertical-align: top;\n",
       "    }\n",
       "\n",
       "    .dataframe thead th {\n",
       "        text-align: right;\n",
       "    }\n",
       "</style>\n",
       "<table border=\"1\" class=\"dataframe\">\n",
       "  <thead>\n",
       "    <tr style=\"text-align: right;\">\n",
       "      <th></th>\n",
       "      <th>const</th>\n",
       "      <th>gre</th>\n",
       "      <th>gpa</th>\n",
       "      <th>prestige_2</th>\n",
       "      <th>prestige_3</th>\n",
       "      <th>prestige_4</th>\n",
       "    </tr>\n",
       "  </thead>\n",
       "  <tbody>\n",
       "    <tr>\n",
       "      <td>0</td>\n",
       "      <td>1.0</td>\n",
       "      <td>587.7</td>\n",
       "      <td>3.3899</td>\n",
       "      <td>0</td>\n",
       "      <td>0</td>\n",
       "      <td>0</td>\n",
       "    </tr>\n",
       "    <tr>\n",
       "      <td>1</td>\n",
       "      <td>1.0</td>\n",
       "      <td>587.7</td>\n",
       "      <td>3.3899</td>\n",
       "      <td>1</td>\n",
       "      <td>0</td>\n",
       "      <td>0</td>\n",
       "    </tr>\n",
       "    <tr>\n",
       "      <td>2</td>\n",
       "      <td>1.0</td>\n",
       "      <td>587.7</td>\n",
       "      <td>3.3899</td>\n",
       "      <td>0</td>\n",
       "      <td>1</td>\n",
       "      <td>0</td>\n",
       "    </tr>\n",
       "    <tr>\n",
       "      <td>3</td>\n",
       "      <td>1.0</td>\n",
       "      <td>587.7</td>\n",
       "      <td>3.3899</td>\n",
       "      <td>0</td>\n",
       "      <td>0</td>\n",
       "      <td>1</td>\n",
       "    </tr>\n",
       "  </tbody>\n",
       "</table>\n",
       "</div>"
      ],
      "text/plain": [
       "   const    gre     gpa  prestige_2  prestige_3  prestige_4\n",
       "0    1.0  587.7  3.3899           0           0           0\n",
       "1    1.0  587.7  3.3899           1           0           0\n",
       "2    1.0  587.7  3.3899           0           1           0\n",
       "3    1.0  587.7  3.3899           0           0           1"
      ]
     },
     "execution_count": 29,
     "metadata": {},
     "output_type": "execute_result"
    }
   ],
   "source": [
    "new_data = sm.add_constant(new_data, has_constant='add')\n",
    "new_data.head()"
   ]
  },
  {
   "cell_type": "code",
   "execution_count": 30,
   "metadata": {},
   "outputs": [
    {
     "data": {
      "text/plain": [
       "0    0.516602\n",
       "1    0.352285\n",
       "2    0.218612\n",
       "3    0.184668\n",
       "dtype: float64"
      ]
     },
     "execution_count": 30,
     "metadata": {},
     "output_type": "execute_result"
    }
   ],
   "source": [
    "logit.predict(new_data)"
   ]
  },
  {
   "cell_type": "code",
   "execution_count": 31,
   "metadata": {},
   "outputs": [
    {
     "data": {
      "text/html": [
       "<div>\n",
       "<style scoped>\n",
       "    .dataframe tbody tr th:only-of-type {\n",
       "        vertical-align: middle;\n",
       "    }\n",
       "\n",
       "    .dataframe tbody tr th {\n",
       "        vertical-align: top;\n",
       "    }\n",
       "\n",
       "    .dataframe thead th {\n",
       "        text-align: right;\n",
       "    }\n",
       "</style>\n",
       "<table border=\"1\" class=\"dataframe\">\n",
       "  <thead>\n",
       "    <tr style=\"text-align: right;\">\n",
       "      <th></th>\n",
       "      <th>const</th>\n",
       "      <th>gre</th>\n",
       "      <th>gpa</th>\n",
       "      <th>prestige_2</th>\n",
       "      <th>prestige_3</th>\n",
       "      <th>prestige_4</th>\n",
       "      <th>P_Admit</th>\n",
       "    </tr>\n",
       "  </thead>\n",
       "  <tbody>\n",
       "    <tr>\n",
       "      <td>0</td>\n",
       "      <td>1.0</td>\n",
       "      <td>587.7</td>\n",
       "      <td>3.3899</td>\n",
       "      <td>0</td>\n",
       "      <td>0</td>\n",
       "      <td>0</td>\n",
       "      <td>0.516602</td>\n",
       "    </tr>\n",
       "    <tr>\n",
       "      <td>1</td>\n",
       "      <td>1.0</td>\n",
       "      <td>587.7</td>\n",
       "      <td>3.3899</td>\n",
       "      <td>1</td>\n",
       "      <td>0</td>\n",
       "      <td>0</td>\n",
       "      <td>0.352285</td>\n",
       "    </tr>\n",
       "    <tr>\n",
       "      <td>2</td>\n",
       "      <td>1.0</td>\n",
       "      <td>587.7</td>\n",
       "      <td>3.3899</td>\n",
       "      <td>0</td>\n",
       "      <td>1</td>\n",
       "      <td>0</td>\n",
       "      <td>0.218612</td>\n",
       "    </tr>\n",
       "    <tr>\n",
       "      <td>3</td>\n",
       "      <td>1.0</td>\n",
       "      <td>587.7</td>\n",
       "      <td>3.3899</td>\n",
       "      <td>0</td>\n",
       "      <td>0</td>\n",
       "      <td>1</td>\n",
       "      <td>0.184668</td>\n",
       "    </tr>\n",
       "  </tbody>\n",
       "</table>\n",
       "</div>"
      ],
      "text/plain": [
       "   const    gre     gpa  prestige_2  prestige_3  prestige_4   P_Admit\n",
       "0    1.0  587.7  3.3899           0           0           0  0.516602\n",
       "1    1.0  587.7  3.3899           1           0           0  0.352285\n",
       "2    1.0  587.7  3.3899           0           1           0  0.218612\n",
       "3    1.0  587.7  3.3899           0           0           1  0.184668"
      ]
     },
     "execution_count": 31,
     "metadata": {},
     "output_type": "execute_result"
    }
   ],
   "source": [
    "new_data['P_Admit'] = logit.predict(new_data)\n",
    "new_data"
   ]
  },
  {
   "cell_type": "markdown",
   "metadata": {},
   "source": [
    "Podemos analisar a matriz de confusão"
   ]
  },
  {
   "cell_type": "code",
   "execution_count": 32,
   "metadata": {},
   "outputs": [
    {
     "data": {
      "text/html": [
       "<div>\n",
       "<style scoped>\n",
       "    .dataframe tbody tr th:only-of-type {\n",
       "        vertical-align: middle;\n",
       "    }\n",
       "\n",
       "    .dataframe tbody tr th {\n",
       "        vertical-align: top;\n",
       "    }\n",
       "\n",
       "    .dataframe thead tr th {\n",
       "        text-align: left;\n",
       "    }\n",
       "</style>\n",
       "<table border=\"1\" class=\"dataframe\">\n",
       "  <thead>\n",
       "    <tr>\n",
       "      <th></th>\n",
       "      <th></th>\n",
       "      <th colspan=\"2\" halign=\"left\">Prediction</th>\n",
       "    </tr>\n",
       "    <tr>\n",
       "      <th></th>\n",
       "      <th></th>\n",
       "      <th>0</th>\n",
       "      <th>1</th>\n",
       "    </tr>\n",
       "  </thead>\n",
       "  <tbody>\n",
       "    <tr>\n",
       "      <td rowspan=\"2\" valign=\"top\">Truth</td>\n",
       "      <td>0</td>\n",
       "      <td>254.0</td>\n",
       "      <td>19.0</td>\n",
       "    </tr>\n",
       "    <tr>\n",
       "      <td>1</td>\n",
       "      <td>97.0</td>\n",
       "      <td>30.0</td>\n",
       "    </tr>\n",
       "  </tbody>\n",
       "</table>\n",
       "</div>"
      ],
      "text/plain": [
       "        Prediction      \n",
       "                 0     1\n",
       "Truth 0      254.0  19.0\n",
       "      1       97.0  30.0"
      ]
     },
     "execution_count": 32,
     "metadata": {},
     "output_type": "execute_result"
    }
   ],
   "source": [
    "results = pd.DataFrame(logit.pred_table(), columns=[['Prediction', 'Prediction'],['0', '1']], index=[['Truth', 'Truth'], ['0', '1']])\n",
    "results"
   ]
  },
  {
   "cell_type": "markdown",
   "metadata": {},
   "source": [
    "Parece que esse modelo cometeu bastante erros (116 de 400). O resultado não é bom. Vamos explorar um pouco mais, podemos olhar o teste geral do desvio:"
   ]
  },
  {
   "cell_type": "code",
   "execution_count": 33,
   "metadata": {},
   "outputs": [
    {
     "data": {
      "text/plain": [
       "0.011560246784767301"
      ]
     },
     "execution_count": 33,
     "metadata": {},
     "output_type": "execute_result"
    }
   ],
   "source": [
    "p_value = stats.chi2.sf(x=2*(1 - logit.llf),\n",
    "                        df=logit.df_resid)\n",
    "p_value"
   ]
  },
  {
   "cell_type": "markdown",
   "metadata": {},
   "source": [
    "O p-valor para o teste geral do desvio é <0.05, indicando que o modelo não é apropriado. Podemos olhar o pseudo $R^2$:"
   ]
  },
  {
   "cell_type": "code",
   "execution_count": 34,
   "metadata": {},
   "outputs": [
    {
     "data": {
      "text/plain": [
       "0.08292194470084713"
      ]
     },
     "execution_count": 34,
     "metadata": {},
     "output_type": "execute_result"
    }
   ],
   "source": [
    "logit.prsquared"
   ]
  },
  {
   "cell_type": "markdown",
   "metadata": {},
   "source": [
    "Somente 8.29% da variabilidade da admissão parece ser explicada pelos preditores do nosso modelo. Apesar do modelo ser válido, parece que não é muito informativo.\n",
    "\n",
    "O que encontramos então? O modelo geral que criamos não nos dá muito poder de predição para saber se um estudante será admitido ou nãp para uma pós-graduação"
   ]
  },
  {
   "cell_type": "code",
   "execution_count": 35,
   "metadata": {},
   "outputs": [
    {
     "data": {
      "text/plain": [
       "0    273\n",
       "1    127\n",
       "Name: admit, dtype: int64"
      ]
     },
     "execution_count": 35,
     "metadata": {},
     "output_type": "execute_result"
    }
   ],
   "source": [
    "data['admit'].value_counts()"
   ]
  },
  {
   "cell_type": "code",
   "execution_count": 36,
   "metadata": {},
   "outputs": [
    {
     "data": {
      "text/plain": [
       "Truth  0    273.0\n",
       "       1    127.0\n",
       "dtype: float64"
      ]
     },
     "execution_count": 36,
     "metadata": {},
     "output_type": "execute_result"
    }
   ],
   "source": [
    "results.sum(axis=1)"
   ]
  },
  {
   "cell_type": "markdown",
   "metadata": {},
   "source": [
    "Temos 273 estudantes que não foram admitidos e 127 que foram"
   ]
  },
  {
   "cell_type": "code",
   "execution_count": 37,
   "metadata": {},
   "outputs": [
    {
     "data": {
      "text/plain": [
       "Prediction  0    351.0\n",
       "            1     49.0\n",
       "dtype: float64"
      ]
     },
     "execution_count": 37,
     "metadata": {},
     "output_type": "execute_result"
    }
   ],
   "source": [
    "results.sum(axis=0)"
   ]
  },
  {
   "cell_type": "markdown",
   "metadata": {},
   "source": [
    "Porém o modelo previu que 351 estudantes não serão admitidos e que somente 49 serão"
   ]
  },
  {
   "cell_type": "code",
   "execution_count": 38,
   "metadata": {},
   "outputs": [
    {
     "data": {
      "text/html": [
       "<div>\n",
       "<style scoped>\n",
       "    .dataframe tbody tr th:only-of-type {\n",
       "        vertical-align: middle;\n",
       "    }\n",
       "\n",
       "    .dataframe tbody tr th {\n",
       "        vertical-align: top;\n",
       "    }\n",
       "\n",
       "    .dataframe thead tr th {\n",
       "        text-align: left;\n",
       "    }\n",
       "</style>\n",
       "<table border=\"1\" class=\"dataframe\">\n",
       "  <thead>\n",
       "    <tr>\n",
       "      <th></th>\n",
       "      <th></th>\n",
       "      <th colspan=\"2\" halign=\"left\">Prediction</th>\n",
       "    </tr>\n",
       "    <tr>\n",
       "      <th></th>\n",
       "      <th></th>\n",
       "      <th>0</th>\n",
       "      <th>1</th>\n",
       "    </tr>\n",
       "  </thead>\n",
       "  <tbody>\n",
       "    <tr>\n",
       "      <td rowspan=\"2\" valign=\"top\">Truth</td>\n",
       "      <td>0</td>\n",
       "      <td>254.0</td>\n",
       "      <td>19.0</td>\n",
       "    </tr>\n",
       "    <tr>\n",
       "      <td>1</td>\n",
       "      <td>97.0</td>\n",
       "      <td>30.0</td>\n",
       "    </tr>\n",
       "  </tbody>\n",
       "</table>\n",
       "</div>"
      ],
      "text/plain": [
       "        Prediction      \n",
       "                 0     1\n",
       "Truth 0      254.0  19.0\n",
       "      1       97.0  30.0"
      ]
     },
     "execution_count": 38,
     "metadata": {},
     "output_type": "execute_result"
    }
   ],
   "source": [
    "results"
   ]
  },
  {
   "cell_type": "markdown",
   "metadata": {},
   "source": [
    "A matriz de confusão mostra que temos uma acurácia de $\\frac{254+30}{400} = 71\\%$\n",
    "\n",
    "Porém, se tivessemos previsto que todos não seriam admitidos, nossa acurácia seria de $\\frac{273}{400} = 68.25\\%$\n",
    "\n",
    "Por isso que nosso teste geral de desvio foi insignificativo"
   ]
  },
  {
   "cell_type": "markdown",
   "metadata": {},
   "source": [
    "#### Exemplo 2"
   ]
  },
  {
   "cell_type": "markdown",
   "metadata": {},
   "source": [
    "Vamos utilizar um dataset de um resultado de um pesquisa realizada entre 1972 e 1981 na Holando com o objetivo de entender se ter um passarinho em casa é um risco para câncer de pulmão. As variáveis incluem se o indivíduo teve ou não câncer de pulmão, se eles tinham ou não um passarinho, o sexo, status socio-econômico, idade, quantos anos fumam, e a média que fumam "
   ]
  },
  {
   "cell_type": "code",
   "execution_count": 78,
   "metadata": {},
   "outputs": [
    {
     "data": {
      "text/html": [
       "<div>\n",
       "<style scoped>\n",
       "    .dataframe tbody tr th:only-of-type {\n",
       "        vertical-align: middle;\n",
       "    }\n",
       "\n",
       "    .dataframe tbody tr th {\n",
       "        vertical-align: top;\n",
       "    }\n",
       "\n",
       "    .dataframe thead th {\n",
       "        text-align: right;\n",
       "    }\n",
       "</style>\n",
       "<table border=\"1\" class=\"dataframe\">\n",
       "  <thead>\n",
       "    <tr style=\"text-align: right;\">\n",
       "      <th></th>\n",
       "      <th>LC</th>\n",
       "      <th>FM</th>\n",
       "      <th>SS</th>\n",
       "      <th>BK</th>\n",
       "      <th>AG</th>\n",
       "      <th>YR</th>\n",
       "      <th>CD</th>\n",
       "    </tr>\n",
       "  </thead>\n",
       "  <tbody>\n",
       "    <tr>\n",
       "      <td>1</td>\n",
       "      <td>LungCancer</td>\n",
       "      <td>Male</td>\n",
       "      <td>Low</td>\n",
       "      <td>Bird</td>\n",
       "      <td>37</td>\n",
       "      <td>19</td>\n",
       "      <td>12</td>\n",
       "    </tr>\n",
       "    <tr>\n",
       "      <td>2</td>\n",
       "      <td>LungCancer</td>\n",
       "      <td>Male</td>\n",
       "      <td>Low</td>\n",
       "      <td>Bird</td>\n",
       "      <td>41</td>\n",
       "      <td>22</td>\n",
       "      <td>15</td>\n",
       "    </tr>\n",
       "    <tr>\n",
       "      <td>3</td>\n",
       "      <td>LungCancer</td>\n",
       "      <td>Male</td>\n",
       "      <td>High</td>\n",
       "      <td>NoBird</td>\n",
       "      <td>43</td>\n",
       "      <td>19</td>\n",
       "      <td>15</td>\n",
       "    </tr>\n",
       "    <tr>\n",
       "      <td>4</td>\n",
       "      <td>LungCancer</td>\n",
       "      <td>Male</td>\n",
       "      <td>Low</td>\n",
       "      <td>Bird</td>\n",
       "      <td>46</td>\n",
       "      <td>24</td>\n",
       "      <td>15</td>\n",
       "    </tr>\n",
       "    <tr>\n",
       "      <td>5</td>\n",
       "      <td>LungCancer</td>\n",
       "      <td>Male</td>\n",
       "      <td>Low</td>\n",
       "      <td>Bird</td>\n",
       "      <td>49</td>\n",
       "      <td>31</td>\n",
       "      <td>20</td>\n",
       "    </tr>\n",
       "  </tbody>\n",
       "</table>\n",
       "</div>"
      ],
      "text/plain": [
       "           LC    FM    SS      BK  AG  YR  CD\n",
       "1  LungCancer  Male   Low    Bird  37  19  12\n",
       "2  LungCancer  Male   Low    Bird  41  22  15\n",
       "3  LungCancer  Male  High  NoBird  43  19  15\n",
       "4  LungCancer  Male   Low    Bird  46  24  15\n",
       "5  LungCancer  Male   Low    Bird  49  31  20"
      ]
     },
     "execution_count": 78,
     "metadata": {},
     "output_type": "execute_result"
    }
   ],
   "source": [
    "df = pd.read_csv('lung_cancer.csv', index_col=0)\n",
    "df.head()"
   ]
  },
  {
   "cell_type": "code",
   "execution_count": 79,
   "metadata": {},
   "outputs": [
    {
     "name": "stdout",
     "output_type": "stream",
     "text": [
      "<class 'pandas.core.frame.DataFrame'>\n",
      "Int64Index: 147 entries, 1 to 147\n",
      "Data columns (total 7 columns):\n",
      "LC    147 non-null object\n",
      "FM    147 non-null object\n",
      "SS    147 non-null object\n",
      "BK    147 non-null object\n",
      "AG    147 non-null int64\n",
      "YR    147 non-null int64\n",
      "CD    147 non-null int64\n",
      "dtypes: int64(3), object(4)\n",
      "memory usage: 9.2+ KB\n"
     ]
    }
   ],
   "source": [
    "df.info()"
   ]
  },
  {
   "cell_type": "code",
   "execution_count": 80,
   "metadata": {},
   "outputs": [
    {
     "data": {
      "text/html": [
       "<div>\n",
       "<style scoped>\n",
       "    .dataframe tbody tr th:only-of-type {\n",
       "        vertical-align: middle;\n",
       "    }\n",
       "\n",
       "    .dataframe tbody tr th {\n",
       "        vertical-align: top;\n",
       "    }\n",
       "\n",
       "    .dataframe thead th {\n",
       "        text-align: right;\n",
       "    }\n",
       "</style>\n",
       "<table border=\"1\" class=\"dataframe\">\n",
       "  <thead>\n",
       "    <tr style=\"text-align: right;\">\n",
       "      <th></th>\n",
       "      <th>count</th>\n",
       "      <th>mean</th>\n",
       "      <th>std</th>\n",
       "      <th>min</th>\n",
       "      <th>25%</th>\n",
       "      <th>50%</th>\n",
       "      <th>75%</th>\n",
       "      <th>max</th>\n",
       "    </tr>\n",
       "  </thead>\n",
       "  <tbody>\n",
       "    <tr>\n",
       "      <td>AG</td>\n",
       "      <td>147.0</td>\n",
       "      <td>56.965986</td>\n",
       "      <td>7.348856</td>\n",
       "      <td>37.0</td>\n",
       "      <td>52.0</td>\n",
       "      <td>59.0</td>\n",
       "      <td>63.0</td>\n",
       "      <td>67.0</td>\n",
       "    </tr>\n",
       "    <tr>\n",
       "      <td>YR</td>\n",
       "      <td>147.0</td>\n",
       "      <td>27.850340</td>\n",
       "      <td>13.975690</td>\n",
       "      <td>0.0</td>\n",
       "      <td>20.0</td>\n",
       "      <td>30.0</td>\n",
       "      <td>39.0</td>\n",
       "      <td>50.0</td>\n",
       "    </tr>\n",
       "    <tr>\n",
       "      <td>CD</td>\n",
       "      <td>147.0</td>\n",
       "      <td>15.748299</td>\n",
       "      <td>9.703723</td>\n",
       "      <td>0.0</td>\n",
       "      <td>10.0</td>\n",
       "      <td>15.0</td>\n",
       "      <td>20.0</td>\n",
       "      <td>45.0</td>\n",
       "    </tr>\n",
       "  </tbody>\n",
       "</table>\n",
       "</div>"
      ],
      "text/plain": [
       "    count       mean        std   min   25%   50%   75%   max\n",
       "AG  147.0  56.965986   7.348856  37.0  52.0  59.0  63.0  67.0\n",
       "YR  147.0  27.850340  13.975690   0.0  20.0  30.0  39.0  50.0\n",
       "CD  147.0  15.748299   9.703723   0.0  10.0  15.0  20.0  45.0"
      ]
     },
     "execution_count": 80,
     "metadata": {},
     "output_type": "execute_result"
    }
   ],
   "source": [
    "df.describe().T"
   ]
  },
  {
   "cell_type": "code",
   "execution_count": 81,
   "metadata": {},
   "outputs": [
    {
     "data": {
      "image/png": "[encoded data removed]",
      "text/plain": [
       "<Figure size 864x576 with 9 Axes>"
      ]
     },
     "metadata": {
      "needs_background": "light"
     },
     "output_type": "display_data"
    }
   ],
   "source": [
    "colors = df['LC'].map(lambda x: 'red' if x == 'LungCancer' else 'blue')\n",
    "pd.plotting.scatter_matrix(df, color=colors);"
   ]
  },
  {
   "cell_type": "markdown",
   "metadata": {},
   "source": [
    "Vamos dummificar as variáveis categóricas"
   ]
  },
  {
   "cell_type": "code",
   "execution_count": 88,
   "metadata": {},
   "outputs": [
    {
     "data": {
      "text/html": [
       "<div>\n",
       "<style scoped>\n",
       "    .dataframe tbody tr th:only-of-type {\n",
       "        vertical-align: middle;\n",
       "    }\n",
       "\n",
       "    .dataframe tbody tr th {\n",
       "        vertical-align: top;\n",
       "    }\n",
       "\n",
       "    .dataframe thead th {\n",
       "        text-align: right;\n",
       "    }\n",
       "</style>\n",
       "<table border=\"1\" class=\"dataframe\">\n",
       "  <thead>\n",
       "    <tr style=\"text-align: right;\">\n",
       "      <th></th>\n",
       "      <th>FM_Female</th>\n",
       "      <th>FM_Male</th>\n",
       "    </tr>\n",
       "  </thead>\n",
       "  <tbody>\n",
       "    <tr>\n",
       "      <td>42</td>\n",
       "      <td>1</td>\n",
       "      <td>0</td>\n",
       "    </tr>\n",
       "    <tr>\n",
       "      <td>36</td>\n",
       "      <td>0</td>\n",
       "      <td>1</td>\n",
       "    </tr>\n",
       "    <tr>\n",
       "      <td>137</td>\n",
       "      <td>1</td>\n",
       "      <td>0</td>\n",
       "    </tr>\n",
       "    <tr>\n",
       "      <td>94</td>\n",
       "      <td>0</td>\n",
       "      <td>1</td>\n",
       "    </tr>\n",
       "    <tr>\n",
       "      <td>21</td>\n",
       "      <td>0</td>\n",
       "      <td>1</td>\n",
       "    </tr>\n",
       "  </tbody>\n",
       "</table>\n",
       "</div>"
      ],
      "text/plain": [
       "     FM_Female  FM_Male\n",
       "42           1        0\n",
       "36           0        1\n",
       "137          1        0\n",
       "94           0        1\n",
       "21           0        1"
      ]
     },
     "execution_count": 88,
     "metadata": {},
     "output_type": "execute_result"
    }
   ],
   "source": [
    "dummy_gender = pd.get_dummies(df['FM'], prefix='FM', drop_first=False)\n",
    "dummy_gender.sample(5)"
   ]
  },
  {
   "cell_type": "code",
   "execution_count": 89,
   "metadata": {},
   "outputs": [
    {
     "data": {
      "text/html": [
       "<div>\n",
       "<style scoped>\n",
       "    .dataframe tbody tr th:only-of-type {\n",
       "        vertical-align: middle;\n",
       "    }\n",
       "\n",
       "    .dataframe tbody tr th {\n",
       "        vertical-align: top;\n",
       "    }\n",
       "\n",
       "    .dataframe thead th {\n",
       "        text-align: right;\n",
       "    }\n",
       "</style>\n",
       "<table border=\"1\" class=\"dataframe\">\n",
       "  <thead>\n",
       "    <tr style=\"text-align: right;\">\n",
       "      <th></th>\n",
       "      <th>SS_High</th>\n",
       "      <th>SS_Low</th>\n",
       "    </tr>\n",
       "  </thead>\n",
       "  <tbody>\n",
       "    <tr>\n",
       "      <td>59</td>\n",
       "      <td>0</td>\n",
       "      <td>1</td>\n",
       "    </tr>\n",
       "    <tr>\n",
       "      <td>61</td>\n",
       "      <td>1</td>\n",
       "      <td>0</td>\n",
       "    </tr>\n",
       "    <tr>\n",
       "      <td>139</td>\n",
       "      <td>0</td>\n",
       "      <td>1</td>\n",
       "    </tr>\n",
       "    <tr>\n",
       "      <td>102</td>\n",
       "      <td>1</td>\n",
       "      <td>0</td>\n",
       "    </tr>\n",
       "    <tr>\n",
       "      <td>114</td>\n",
       "      <td>0</td>\n",
       "      <td>1</td>\n",
       "    </tr>\n",
       "  </tbody>\n",
       "</table>\n",
       "</div>"
      ],
      "text/plain": [
       "     SS_High  SS_Low\n",
       "59         0       1\n",
       "61         1       0\n",
       "139        0       1\n",
       "102        1       0\n",
       "114        0       1"
      ]
     },
     "execution_count": 89,
     "metadata": {},
     "output_type": "execute_result"
    }
   ],
   "source": [
    "dummy_social_econ_status = pd.get_dummies(df['SS'], prefix='SS', drop_first=False)\n",
    "dummy_social_econ_status.sample(5)"
   ]
  },
  {
   "cell_type": "code",
   "execution_count": 90,
   "metadata": {},
   "outputs": [
    {
     "data": {
      "text/html": [
       "<div>\n",
       "<style scoped>\n",
       "    .dataframe tbody tr th:only-of-type {\n",
       "        vertical-align: middle;\n",
       "    }\n",
       "\n",
       "    .dataframe tbody tr th {\n",
       "        vertical-align: top;\n",
       "    }\n",
       "\n",
       "    .dataframe thead th {\n",
       "        text-align: right;\n",
       "    }\n",
       "</style>\n",
       "<table border=\"1\" class=\"dataframe\">\n",
       "  <thead>\n",
       "    <tr style=\"text-align: right;\">\n",
       "      <th></th>\n",
       "      <th>BK_Bird</th>\n",
       "      <th>BK_NoBird</th>\n",
       "    </tr>\n",
       "  </thead>\n",
       "  <tbody>\n",
       "    <tr>\n",
       "      <td>46</td>\n",
       "      <td>1</td>\n",
       "      <td>0</td>\n",
       "    </tr>\n",
       "    <tr>\n",
       "      <td>147</td>\n",
       "      <td>0</td>\n",
       "      <td>1</td>\n",
       "    </tr>\n",
       "    <tr>\n",
       "      <td>110</td>\n",
       "      <td>0</td>\n",
       "      <td>1</td>\n",
       "    </tr>\n",
       "    <tr>\n",
       "      <td>12</td>\n",
       "      <td>0</td>\n",
       "      <td>1</td>\n",
       "    </tr>\n",
       "    <tr>\n",
       "      <td>50</td>\n",
       "      <td>0</td>\n",
       "      <td>1</td>\n",
       "    </tr>\n",
       "  </tbody>\n",
       "</table>\n",
       "</div>"
      ],
      "text/plain": [
       "     BK_Bird  BK_NoBird\n",
       "46         1          0\n",
       "147        0          1\n",
       "110        0          1\n",
       "12         0          1\n",
       "50         0          1"
      ]
     },
     "execution_count": 90,
     "metadata": {},
     "output_type": "execute_result"
    }
   ],
   "source": [
    "dummy_bird = pd.get_dummies(df['BK'], prefix='BK', drop_first=False)\n",
    "dummy_bird.sample(5)"
   ]
  },
  {
   "cell_type": "code",
   "execution_count": 92,
   "metadata": {},
   "outputs": [
    {
     "data": {
      "text/html": [
       "<div>\n",
       "<style scoped>\n",
       "    .dataframe tbody tr th:only-of-type {\n",
       "        vertical-align: middle;\n",
       "    }\n",
       "\n",
       "    .dataframe tbody tr th {\n",
       "        vertical-align: top;\n",
       "    }\n",
       "\n",
       "    .dataframe thead th {\n",
       "        text-align: right;\n",
       "    }\n",
       "</style>\n",
       "<table border=\"1\" class=\"dataframe\">\n",
       "  <thead>\n",
       "    <tr style=\"text-align: right;\">\n",
       "      <th></th>\n",
       "      <th>const</th>\n",
       "      <th>AG</th>\n",
       "      <th>YR</th>\n",
       "      <th>CD</th>\n",
       "      <th>FM_Female</th>\n",
       "      <th>SS_High</th>\n",
       "      <th>BK_Bird</th>\n",
       "    </tr>\n",
       "  </thead>\n",
       "  <tbody>\n",
       "    <tr>\n",
       "      <td>1</td>\n",
       "      <td>1.0</td>\n",
       "      <td>37</td>\n",
       "      <td>19</td>\n",
       "      <td>12</td>\n",
       "      <td>0</td>\n",
       "      <td>0</td>\n",
       "      <td>1</td>\n",
       "    </tr>\n",
       "    <tr>\n",
       "      <td>2</td>\n",
       "      <td>1.0</td>\n",
       "      <td>41</td>\n",
       "      <td>22</td>\n",
       "      <td>15</td>\n",
       "      <td>0</td>\n",
       "      <td>0</td>\n",
       "      <td>1</td>\n",
       "    </tr>\n",
       "    <tr>\n",
       "      <td>3</td>\n",
       "      <td>1.0</td>\n",
       "      <td>43</td>\n",
       "      <td>19</td>\n",
       "      <td>15</td>\n",
       "      <td>0</td>\n",
       "      <td>1</td>\n",
       "      <td>0</td>\n",
       "    </tr>\n",
       "    <tr>\n",
       "      <td>4</td>\n",
       "      <td>1.0</td>\n",
       "      <td>46</td>\n",
       "      <td>24</td>\n",
       "      <td>15</td>\n",
       "      <td>0</td>\n",
       "      <td>0</td>\n",
       "      <td>1</td>\n",
       "    </tr>\n",
       "    <tr>\n",
       "      <td>5</td>\n",
       "      <td>1.0</td>\n",
       "      <td>49</td>\n",
       "      <td>31</td>\n",
       "      <td>20</td>\n",
       "      <td>0</td>\n",
       "      <td>0</td>\n",
       "      <td>1</td>\n",
       "    </tr>\n",
       "  </tbody>\n",
       "</table>\n",
       "</div>"
      ],
      "text/plain": [
       "   const  AG  YR  CD  FM_Female  SS_High  BK_Bird\n",
       "1    1.0  37  19  12          0        0        1\n",
       "2    1.0  41  22  15          0        0        1\n",
       "3    1.0  43  19  15          0        1        0\n",
       "4    1.0  46  24  15          0        0        1\n",
       "5    1.0  49  31  20          0        0        1"
      ]
     },
     "execution_count": 92,
     "metadata": {},
     "output_type": "execute_result"
    }
   ],
   "source": [
    "columns_to_keep = ['AG', 'YR', 'CD']\n",
    "data = df[columns_to_keep].join(dummy_gender['FM_Female']).join(dummy_social_econ_status['SS_High']).join(dummy_bird['BK_Bird'])\n",
    "data = sm.add_constant(data)\n",
    "data.head()"
   ]
  },
  {
   "cell_type": "code",
   "execution_count": 93,
   "metadata": {},
   "outputs": [
    {
     "data": {
      "text/html": [
       "<div>\n",
       "<style scoped>\n",
       "    .dataframe tbody tr th:only-of-type {\n",
       "        vertical-align: middle;\n",
       "    }\n",
       "\n",
       "    .dataframe tbody tr th {\n",
       "        vertical-align: top;\n",
       "    }\n",
       "\n",
       "    .dataframe thead th {\n",
       "        text-align: right;\n",
       "    }\n",
       "</style>\n",
       "<table border=\"1\" class=\"dataframe\">\n",
       "  <thead>\n",
       "    <tr style=\"text-align: right;\">\n",
       "      <th></th>\n",
       "      <th>LungCancer</th>\n",
       "      <th>NoCancer</th>\n",
       "    </tr>\n",
       "  </thead>\n",
       "  <tbody>\n",
       "    <tr>\n",
       "      <td>76</td>\n",
       "      <td>0</td>\n",
       "      <td>1</td>\n",
       "    </tr>\n",
       "    <tr>\n",
       "      <td>116</td>\n",
       "      <td>0</td>\n",
       "      <td>1</td>\n",
       "    </tr>\n",
       "    <tr>\n",
       "      <td>33</td>\n",
       "      <td>1</td>\n",
       "      <td>0</td>\n",
       "    </tr>\n",
       "    <tr>\n",
       "      <td>63</td>\n",
       "      <td>0</td>\n",
       "      <td>1</td>\n",
       "    </tr>\n",
       "    <tr>\n",
       "      <td>132</td>\n",
       "      <td>0</td>\n",
       "      <td>1</td>\n",
       "    </tr>\n",
       "  </tbody>\n",
       "</table>\n",
       "</div>"
      ],
      "text/plain": [
       "     LungCancer  NoCancer\n",
       "76            0         1\n",
       "116           0         1\n",
       "33            1         0\n",
       "63            0         1\n",
       "132           0         1"
      ]
     },
     "execution_count": 93,
     "metadata": {},
     "output_type": "execute_result"
    }
   ],
   "source": [
    "dummy_lung_cancer = pd.get_dummies(df['LC'])\n",
    "dummy_lung_cancer.sample(5)"
   ]
  },
  {
   "cell_type": "markdown",
   "metadata": {},
   "source": [
    "Vamos criar um modelo com todas as variáveis"
   ]
  },
  {
   "cell_type": "code",
   "execution_count": 105,
   "metadata": {},
   "outputs": [
    {
     "data": {
      "text/html": [
       "<table class=\"simpletable\">\n",
       "<tr>\n",
       "        <td>Model:</td>               <td>GLM</td>            <td>AIC:</td>       <td>168.1984</td> \n",
       "</tr>\n",
       "<tr>\n",
       "    <td>Link Function:</td>          <td>logit</td>           <td>BIC:</td>       <td>-544.4621</td>\n",
       "</tr>\n",
       "<tr>\n",
       "  <td>Dependent Variable:</td>    <td>LungCancer</td>    <td>Log-Likelihood:</td>  <td>-77.099</td> \n",
       "</tr>\n",
       "<tr>\n",
       "         <td>Date:</td>        <td>2020-02-10 20:15</td>    <td>LL-Null:</td>      <td>-93.568</td> \n",
       "</tr>\n",
       "<tr>\n",
       "   <td>No. Observations:</td>         <td>147</td>          <td>Deviance:</td>     <td>154.20</td>  \n",
       "</tr>\n",
       "<tr>\n",
       "       <td>Df Model:</td>              <td>6</td>         <td>Pearson chi2:</td>    <td>141.</td>   \n",
       "</tr>\n",
       "<tr>\n",
       "     <td>Df Residuals:</td>           <td>140</td>           <td>Scale:</td>       <td>1.0000</td>  \n",
       "</tr>\n",
       "<tr>\n",
       "        <td>Method:</td>             <td>IRLS</td>              <td></td>             <td></td>     \n",
       "</tr>\n",
       "</table>\n",
       "<table class=\"simpletable\">\n",
       "<tr>\n",
       "      <td></td>       <th>Coef.</th>  <th>Std.Err.</th>    <th>z</th>     <th>P>|z|</th> <th>[0.025</th>  <th>0.975]</th>\n",
       "</tr>\n",
       "<tr>\n",
       "  <th>const</th>     <td>-1.9374</td>  <td>1.8043</td>  <td>-1.0738</td> <td>0.2829</td> <td>-5.4736</td> <td>1.5989</td>\n",
       "</tr>\n",
       "<tr>\n",
       "  <th>AG</th>        <td>-0.0398</td>  <td>0.0355</td>  <td>-1.1205</td> <td>0.2625</td> <td>-0.1093</td> <td>0.0298</td>\n",
       "</tr>\n",
       "<tr>\n",
       "  <th>YR</th>        <td>0.0729</td>   <td>0.0265</td>  <td>2.7511</td>  <td>0.0059</td> <td>0.0210</td>  <td>0.1248</td>\n",
       "</tr>\n",
       "<tr>\n",
       "  <th>CD</th>        <td>0.0260</td>   <td>0.0255</td>  <td>1.0193</td>  <td>0.3081</td> <td>-0.0240</td> <td>0.0760</td>\n",
       "</tr>\n",
       "<tr>\n",
       "  <th>FM_Female</th> <td>0.5613</td>   <td>0.5312</td>  <td>1.0567</td>  <td>0.2907</td> <td>-0.4798</td> <td>1.6023</td>\n",
       "</tr>\n",
       "<tr>\n",
       "  <th>SS_High</th>   <td>0.1054</td>   <td>0.4688</td>  <td>0.2249</td>  <td>0.8221</td> <td>-0.8135</td> <td>1.0244</td>\n",
       "</tr>\n",
       "<tr>\n",
       "  <th>BK_Bird</th>   <td>1.3626</td>   <td>0.4113</td>  <td>3.3131</td>  <td>0.0009</td> <td>0.5565</td>  <td>2.1687</td>\n",
       "</tr>\n",
       "</table>"
      ],
      "text/plain": [
       "<class 'statsmodels.iolib.summary2.Summary'>\n",
       "\"\"\"\n",
       "              Results: Generalized linear model\n",
       "==============================================================\n",
       "Model:              GLM              AIC:            168.1984 \n",
       "Link Function:      logit            BIC:            -544.4621\n",
       "Dependent Variable: LungCancer       Log-Likelihood: -77.099  \n",
       "Date:               2020-02-10 20:15 LL-Null:        -93.568  \n",
       "No. Observations:   147              Deviance:       154.20   \n",
       "Df Model:           6                Pearson chi2:   141.     \n",
       "Df Residuals:       140              Scale:          1.0000   \n",
       "Method:             IRLS                                      \n",
       "---------------------------------------------------------------\n",
       "             Coef.   Std.Err.     z     P>|z|    [0.025  0.975]\n",
       "---------------------------------------------------------------\n",
       "const       -1.9374    1.8043  -1.0738  0.2829  -5.4736  1.5989\n",
       "AG          -0.0398    0.0355  -1.1205  0.2625  -0.1093  0.0298\n",
       "YR           0.0729    0.0265   2.7511  0.0059   0.0210  0.1248\n",
       "CD           0.0260    0.0255   1.0193  0.3081  -0.0240  0.0760\n",
       "FM_Female    0.5613    0.5312   1.0567  0.2907  -0.4798  1.6023\n",
       "SS_High      0.1054    0.4688   0.2249  0.8221  -0.8135  1.0244\n",
       "BK_Bird      1.3626    0.4113   3.3131  0.0009   0.5565  2.1687\n",
       "==============================================================\n",
       "\n",
       "\"\"\""
      ]
     },
     "execution_count": 105,
     "metadata": {},
     "output_type": "execute_result"
    }
   ],
   "source": [
    "logit = sm.GLM(dummy_lung_cancer['LungCancer'], data, family=sm.families.Binomial()).fit();\n",
    "logit.summary2()"
   ]
  },
  {
   "cell_type": "markdown",
   "metadata": {},
   "source": [
    "Vamos analisar o teste geral de desvio para saber se teve um bom ajuste"
   ]
  },
  {
   "cell_type": "markdown",
   "metadata": {},
   "source": [
    "- H0: O modelo de regressão logística é apropriado\n",
    "- H1: O modelo de regressão logística não é apropriado"
   ]
  },
  {
   "cell_type": "code",
   "execution_count": 109,
   "metadata": {},
   "outputs": [
    {
     "data": {
      "text/plain": [
       "0.19463355234238075"
      ]
     },
     "execution_count": 109,
     "metadata": {},
     "output_type": "execute_result"
    }
   ],
   "source": [
    "p_value = stats.chi2.sf(x=logit.deviance,\n",
    "                        df=logit.df_resid)\n",
    "p_value"
   ]
  },
  {
   "cell_type": "markdown",
   "metadata": {},
   "source": [
    "O p-valor para o teste é quase 0.20, que é maior que o valor de corte de 0.05. Não temos evidências para rejeitar a hipótese nula de que o modelo é apropriado"
   ]
  },
  {
   "cell_type": "markdown",
   "metadata": {},
   "source": [
    "Vamos interpretar o coeficiente do sexo"
   ]
  },
  {
   "cell_type": "markdown",
   "metadata": {},
   "source": [
    "O log da chance de ter um cancer de pulmão aumentam de 0.56 se você for do sexo feminino se comparado com o masculino, mantendo todas as outras variáveis constantes"
   ]
  },
  {
   "cell_type": "markdown",
   "metadata": {},
   "source": [
    "Agora vamos ajustar um modelo que contém todas as variáveis exceto a variável que indica se tem um passarinho e fazer o teste de ajuste"
   ]
  },
  {
   "cell_type": "code",
   "execution_count": 111,
   "metadata": {},
   "outputs": [
    {
     "data": {
      "text/html": [
       "<div>\n",
       "<style scoped>\n",
       "    .dataframe tbody tr th:only-of-type {\n",
       "        vertical-align: middle;\n",
       "    }\n",
       "\n",
       "    .dataframe tbody tr th {\n",
       "        vertical-align: top;\n",
       "    }\n",
       "\n",
       "    .dataframe thead th {\n",
       "        text-align: right;\n",
       "    }\n",
       "</style>\n",
       "<table border=\"1\" class=\"dataframe\">\n",
       "  <thead>\n",
       "    <tr style=\"text-align: right;\">\n",
       "      <th></th>\n",
       "      <th>const</th>\n",
       "      <th>AG</th>\n",
       "      <th>YR</th>\n",
       "      <th>CD</th>\n",
       "      <th>FM_Female</th>\n",
       "      <th>SS_High</th>\n",
       "    </tr>\n",
       "  </thead>\n",
       "  <tbody>\n",
       "    <tr>\n",
       "      <td>1</td>\n",
       "      <td>1.0</td>\n",
       "      <td>37</td>\n",
       "      <td>19</td>\n",
       "      <td>12</td>\n",
       "      <td>0</td>\n",
       "      <td>0</td>\n",
       "    </tr>\n",
       "    <tr>\n",
       "      <td>2</td>\n",
       "      <td>1.0</td>\n",
       "      <td>41</td>\n",
       "      <td>22</td>\n",
       "      <td>15</td>\n",
       "      <td>0</td>\n",
       "      <td>0</td>\n",
       "    </tr>\n",
       "    <tr>\n",
       "      <td>3</td>\n",
       "      <td>1.0</td>\n",
       "      <td>43</td>\n",
       "      <td>19</td>\n",
       "      <td>15</td>\n",
       "      <td>0</td>\n",
       "      <td>1</td>\n",
       "    </tr>\n",
       "    <tr>\n",
       "      <td>4</td>\n",
       "      <td>1.0</td>\n",
       "      <td>46</td>\n",
       "      <td>24</td>\n",
       "      <td>15</td>\n",
       "      <td>0</td>\n",
       "      <td>0</td>\n",
       "    </tr>\n",
       "    <tr>\n",
       "      <td>5</td>\n",
       "      <td>1.0</td>\n",
       "      <td>49</td>\n",
       "      <td>31</td>\n",
       "      <td>20</td>\n",
       "      <td>0</td>\n",
       "      <td>0</td>\n",
       "    </tr>\n",
       "  </tbody>\n",
       "</table>\n",
       "</div>"
      ],
      "text/plain": [
       "   const  AG  YR  CD  FM_Female  SS_High\n",
       "1    1.0  37  19  12          0        0\n",
       "2    1.0  41  22  15          0        0\n",
       "3    1.0  43  19  15          0        1\n",
       "4    1.0  46  24  15          0        0\n",
       "5    1.0  49  31  20          0        0"
      ]
     },
     "execution_count": 111,
     "metadata": {},
     "output_type": "execute_result"
    }
   ],
   "source": [
    "data_no_bk = data[data.columns[data.columns != 'BK_Bird']]\n",
    "data_no_bk.head()"
   ]
  },
  {
   "cell_type": "code",
   "execution_count": 112,
   "metadata": {},
   "outputs": [
    {
     "data": {
      "text/html": [
       "<table class=\"simpletable\">\n",
       "<tr>\n",
       "        <td>Model:</td>               <td>GLM</td>            <td>AIC:</td>       <td>177.8684</td> \n",
       "</tr>\n",
       "<tr>\n",
       "    <td>Link Function:</td>          <td>logit</td>           <td>BIC:</td>       <td>-537.7826</td>\n",
       "</tr>\n",
       "<tr>\n",
       "  <td>Dependent Variable:</td>    <td>LungCancer</td>    <td>Log-Likelihood:</td>  <td>-82.934</td> \n",
       "</tr>\n",
       "<tr>\n",
       "         <td>Date:</td>        <td>2020-02-10 20:25</td>    <td>LL-Null:</td>      <td>-93.568</td> \n",
       "</tr>\n",
       "<tr>\n",
       "   <td>No. Observations:</td>         <td>147</td>          <td>Deviance:</td>     <td>165.87</td>  \n",
       "</tr>\n",
       "<tr>\n",
       "       <td>Df Model:</td>              <td>5</td>         <td>Pearson chi2:</td>    <td>151.</td>   \n",
       "</tr>\n",
       "<tr>\n",
       "     <td>Df Residuals:</td>           <td>141</td>           <td>Scale:</td>       <td>1.0000</td>  \n",
       "</tr>\n",
       "<tr>\n",
       "        <td>Method:</td>             <td>IRLS</td>              <td></td>             <td></td>     \n",
       "</tr>\n",
       "</table>\n",
       "<table class=\"simpletable\">\n",
       "<tr>\n",
       "      <td></td>       <th>Coef.</th>  <th>Std.Err.</th>    <th>z</th>     <th>P>|z|</th> <th>[0.025</th>  <th>0.975]</th>\n",
       "</tr>\n",
       "<tr>\n",
       "  <th>const</th>     <td>-0.2972</td>  <td>1.6600</td>  <td>-0.1791</td> <td>0.8579</td> <td>-3.5508</td> <td>2.9563</td>\n",
       "</tr>\n",
       "<tr>\n",
       "  <th>AG</th>        <td>-0.0580</td>  <td>0.0343</td>  <td>-1.6895</td> <td>0.0911</td> <td>-0.1253</td> <td>0.0093</td>\n",
       "</tr>\n",
       "<tr>\n",
       "  <th>YR</th>        <td>0.0796</td>   <td>0.0264</td>  <td>3.0176</td>  <td>0.0025</td> <td>0.0279</td>  <td>0.1312</td>\n",
       "</tr>\n",
       "<tr>\n",
       "  <th>CD</th>        <td>0.0198</td>   <td>0.0242</td>  <td>0.8165</td>  <td>0.4142</td> <td>-0.0277</td> <td>0.0672</td>\n",
       "</tr>\n",
       "<tr>\n",
       "  <th>FM_Female</th> <td>0.7492</td>   <td>0.5050</td>  <td>1.4836</td>  <td>0.1379</td> <td>-0.2406</td> <td>1.7390</td>\n",
       "</tr>\n",
       "<tr>\n",
       "  <th>SS_High</th>   <td>-0.0730</td>  <td>0.4389</td>  <td>-0.1664</td> <td>0.8679</td> <td>-0.9333</td> <td>0.7872</td>\n",
       "</tr>\n",
       "</table>"
      ],
      "text/plain": [
       "<class 'statsmodels.iolib.summary2.Summary'>\n",
       "\"\"\"\n",
       "              Results: Generalized linear model\n",
       "==============================================================\n",
       "Model:              GLM              AIC:            177.8684 \n",
       "Link Function:      logit            BIC:            -537.7826\n",
       "Dependent Variable: LungCancer       Log-Likelihood: -82.934  \n",
       "Date:               2020-02-10 20:25 LL-Null:        -93.568  \n",
       "No. Observations:   147              Deviance:       165.87   \n",
       "Df Model:           5                Pearson chi2:   151.     \n",
       "Df Residuals:       141              Scale:          1.0000   \n",
       "Method:             IRLS                                      \n",
       "---------------------------------------------------------------\n",
       "             Coef.   Std.Err.     z     P>|z|    [0.025  0.975]\n",
       "---------------------------------------------------------------\n",
       "const       -0.2972    1.6600  -0.1791  0.8579  -3.5508  2.9563\n",
       "AG          -0.0580    0.0343  -1.6895  0.0911  -0.1253  0.0093\n",
       "YR           0.0796    0.0264   3.0176  0.0025   0.0279  0.1312\n",
       "CD           0.0198    0.0242   0.8165  0.4142  -0.0277  0.0672\n",
       "FM_Female    0.7492    0.5050   1.4836  0.1379  -0.2406  1.7390\n",
       "SS_High     -0.0730    0.4389  -0.1664  0.8679  -0.9333  0.7872\n",
       "==============================================================\n",
       "\n",
       "\"\"\""
      ]
     },
     "execution_count": 112,
     "metadata": {},
     "output_type": "execute_result"
    }
   ],
   "source": [
    "logit_no_bk = sm.GLM(dummy_lung_cancer['LungCancer'], data_no_bk, family=sm.families.Binomial()).fit();\n",
    "logit_no_bk.summary2()"
   ]
  },
  {
   "cell_type": "code",
   "execution_count": 113,
   "metadata": {},
   "outputs": [
    {
     "data": {
      "text/plain": [
       "0.07479572277098803"
      ]
     },
     "execution_count": 113,
     "metadata": {},
     "output_type": "execute_result"
    }
   ],
   "source": [
    "p_value = stats.chi2.sf(x=logit_no_bk.deviance,\n",
    "                        df=logit_no_bk.df_resid)\n",
    "p_value"
   ]
  },
  {
   "cell_type": "markdown",
   "metadata": {},
   "source": [
    "O p-valor para o teste geral de ajuste é de 0.07, que é maior que o nosso valor de corte de 0.05. Nós não temos evidências para rejeitar a hipótese nula de que o modelo é apropriado "
   ]
  },
  {
   "cell_type": "markdown",
   "metadata": {},
   "source": [
    "Agora vamos conduzir um teste de queda do desvio entre esses dois modelos que construímos"
   ]
  },
  {
   "cell_type": "code",
   "execution_count": 114,
   "metadata": {},
   "outputs": [
    {
     "data": {
      "text/plain": [
       "0.0006351719720000817"
      ]
     },
     "execution_count": 114,
     "metadata": {},
     "output_type": "execute_result"
    }
   ],
   "source": [
    "p_value = stats.chi2.sf(x=logit_no_bk.deviance - logit.deviance,\n",
    "                        df=logit_no_bk.df_resid - logit.df_resid)\n",
    "p_value"
   ]
  },
  {
   "cell_type": "markdown",
   "metadata": {},
   "source": [
    "O p-valor para o teste de queda do desvio é <0.001, que é significante. Nós rejeitamos a hipótese nula de que o coeficiente da variável de ter um passarinho é 0, e concluímos que tendo essa variável no modelo melhora o nosso ajuste. Ou seja, o modelo completo é melhor que o reduzido"
   ]
  },
  {
   "cell_type": "markdown",
   "metadata": {},
   "source": [
    "Agora vamos ajustar um novo modelo somente com as variáveis de ter um passarinho e quantos anos a pessoa fuma"
   ]
  },
  {
   "cell_type": "code",
   "execution_count": 120,
   "metadata": {},
   "outputs": [
    {
     "data": {
      "text/html": [
       "<div>\n",
       "<style scoped>\n",
       "    .dataframe tbody tr th:only-of-type {\n",
       "        vertical-align: middle;\n",
       "    }\n",
       "\n",
       "    .dataframe tbody tr th {\n",
       "        vertical-align: top;\n",
       "    }\n",
       "\n",
       "    .dataframe thead th {\n",
       "        text-align: right;\n",
       "    }\n",
       "</style>\n",
       "<table border=\"1\" class=\"dataframe\">\n",
       "  <thead>\n",
       "    <tr style=\"text-align: right;\">\n",
       "      <th></th>\n",
       "      <th>BK_Bird</th>\n",
       "      <th>YR</th>\n",
       "      <th>const</th>\n",
       "    </tr>\n",
       "  </thead>\n",
       "  <tbody>\n",
       "    <tr>\n",
       "      <td>1</td>\n",
       "      <td>1</td>\n",
       "      <td>19</td>\n",
       "      <td>1.0</td>\n",
       "    </tr>\n",
       "    <tr>\n",
       "      <td>2</td>\n",
       "      <td>1</td>\n",
       "      <td>22</td>\n",
       "      <td>1.0</td>\n",
       "    </tr>\n",
       "    <tr>\n",
       "      <td>3</td>\n",
       "      <td>0</td>\n",
       "      <td>19</td>\n",
       "      <td>1.0</td>\n",
       "    </tr>\n",
       "    <tr>\n",
       "      <td>4</td>\n",
       "      <td>1</td>\n",
       "      <td>24</td>\n",
       "      <td>1.0</td>\n",
       "    </tr>\n",
       "    <tr>\n",
       "      <td>5</td>\n",
       "      <td>1</td>\n",
       "      <td>31</td>\n",
       "      <td>1.0</td>\n",
       "    </tr>\n",
       "  </tbody>\n",
       "</table>\n",
       "</div>"
      ],
      "text/plain": [
       "   BK_Bird  YR  const\n",
       "1        1  19    1.0\n",
       "2        1  22    1.0\n",
       "3        0  19    1.0\n",
       "4        1  24    1.0\n",
       "5        1  31    1.0"
      ]
     },
     "execution_count": 120,
     "metadata": {},
     "output_type": "execute_result"
    }
   ],
   "source": [
    "data_bird_years_smoking = data[['BK_Bird', 'YR', 'const']]\n",
    "data_bird_years_smoking.head()"
   ]
  },
  {
   "cell_type": "code",
   "execution_count": 146,
   "metadata": {},
   "outputs": [
    {
     "data": {
      "text/html": [
       "<table class=\"simpletable\">\n",
       "<tr>\n",
       "        <td>Model:</td>               <td>GLM</td>            <td>AIC:</td>       <td>164.1144</td> \n",
       "</tr>\n",
       "<tr>\n",
       "    <td>Link Function:</td>          <td>logit</td>           <td>BIC:</td>       <td>-560.5079</td>\n",
       "</tr>\n",
       "<tr>\n",
       "  <td>Dependent Variable:</td>    <td>LungCancer</td>    <td>Log-Likelihood:</td>  <td>-79.057</td> \n",
       "</tr>\n",
       "<tr>\n",
       "         <td>Date:</td>        <td>2020-02-10 21:13</td>    <td>LL-Null:</td>      <td>-93.568</td> \n",
       "</tr>\n",
       "<tr>\n",
       "   <td>No. Observations:</td>         <td>147</td>          <td>Deviance:</td>     <td>158.11</td>  \n",
       "</tr>\n",
       "<tr>\n",
       "       <td>Df Model:</td>              <td>2</td>         <td>Pearson chi2:</td>    <td>139.</td>   \n",
       "</tr>\n",
       "<tr>\n",
       "     <td>Df Residuals:</td>           <td>144</td>           <td>Scale:</td>       <td>1.0000</td>  \n",
       "</tr>\n",
       "<tr>\n",
       "        <td>Method:</td>             <td>IRLS</td>              <td></td>             <td></td>     \n",
       "</tr>\n",
       "</table>\n",
       "<table class=\"simpletable\">\n",
       "<tr>\n",
       "     <td></td>      <th>Coef.</th>  <th>Std.Err.</th>    <th>z</th>     <th>P>|z|</th> <th>[0.025</th>  <th>0.975]</th> \n",
       "</tr>\n",
       "<tr>\n",
       "  <th>BK_Bird</th> <td>1.4756</td>   <td>0.3959</td>  <td>3.7272</td>  <td>0.0002</td> <td>0.6996</td>  <td>2.2515</td> \n",
       "</tr>\n",
       "<tr>\n",
       "  <th>YR</th>      <td>0.0582</td>   <td>0.0168</td>  <td>3.4578</td>  <td>0.0005</td> <td>0.0252</td>  <td>0.0913</td> \n",
       "</tr>\n",
       "<tr>\n",
       "  <th>const</th>   <td>-3.1802</td>  <td>0.6364</td>  <td>-4.9968</td> <td>0.0000</td> <td>-4.4275</td> <td>-1.9328</td>\n",
       "</tr>\n",
       "</table>"
      ],
      "text/plain": [
       "<class 'statsmodels.iolib.summary2.Summary'>\n",
       "\"\"\"\n",
       "              Results: Generalized linear model\n",
       "==============================================================\n",
       "Model:              GLM              AIC:            164.1144 \n",
       "Link Function:      logit            BIC:            -560.5079\n",
       "Dependent Variable: LungCancer       Log-Likelihood: -79.057  \n",
       "Date:               2020-02-10 21:13 LL-Null:        -93.568  \n",
       "No. Observations:   147              Deviance:       158.11   \n",
       "Df Model:           2                Pearson chi2:   139.     \n",
       "Df Residuals:       144              Scale:          1.0000   \n",
       "Method:             IRLS                                      \n",
       "---------------------------------------------------------------\n",
       "            Coef.   Std.Err.     z     P>|z|    [0.025   0.975]\n",
       "---------------------------------------------------------------\n",
       "BK_Bird     1.4756    0.3959   3.7272  0.0002   0.6996   2.2515\n",
       "YR          0.0582    0.0168   3.4578  0.0005   0.0252   0.0913\n",
       "const      -3.1802    0.6364  -4.9968  0.0000  -4.4275  -1.9328\n",
       "==============================================================\n",
       "\n",
       "\"\"\""
      ]
     },
     "execution_count": 146,
     "metadata": {},
     "output_type": "execute_result"
    }
   ],
   "source": [
    "logit_bird_years_smoking = sm.GLM(dummy_lung_cancer['LungCancer'], data_bird_years_smoking, family=sm.families.Binomial()).fit();\n",
    "logit_bird_years_smoking.summary2()"
   ]
  },
  {
   "cell_type": "markdown",
   "metadata": {},
   "source": [
    "Vamos fazer o mesmo teste de queda no desvio mas agora levando em consideração o modelo completo e esse modelo que acabamos de ajustar"
   ]
  },
  {
   "cell_type": "code",
   "execution_count": 135,
   "metadata": {},
   "outputs": [
    {
     "data": {
      "text/plain": [
       "0.4174943524634598"
      ]
     },
     "execution_count": 135,
     "metadata": {},
     "output_type": "execute_result"
    }
   ],
   "source": [
    "p_value = stats.chi2.sf(x=logit_bird_years_smoking.deviance - logit.deviance,\n",
    "                        df=logit_bird_years_smoking.df_resid - logit.df_resid)\n",
    "p_value"
   ]
  },
  {
   "cell_type": "markdown",
   "metadata": {},
   "source": [
    "O p-valor do teste de queda do desvio é bem grande (0.4175), indicando que a hipótese nula que os coeficientes do sexo, status sócio-econômico, idade e média de cigarros estão em conjunto não adicionando nenhum poder preditivo em nossa análise. O modelo reduzido é suficiente.   "
   ]
  },
  {
   "cell_type": "markdown",
   "metadata": {},
   "source": [
    "Vamos comparar os modelos olhando as métricas AIC, BIC e Pseudo $R^2$"
   ]
  },
  {
   "cell_type": "code",
   "execution_count": 128,
   "metadata": {},
   "outputs": [
    {
     "data": {
      "text/html": [
       "<div>\n",
       "<style scoped>\n",
       "    .dataframe tbody tr th:only-of-type {\n",
       "        vertical-align: middle;\n",
       "    }\n",
       "\n",
       "    .dataframe tbody tr th {\n",
       "        vertical-align: top;\n",
       "    }\n",
       "\n",
       "    .dataframe thead th {\n",
       "        text-align: right;\n",
       "    }\n",
       "</style>\n",
       "<table border=\"1\" class=\"dataframe\">\n",
       "  <thead>\n",
       "    <tr style=\"text-align: right;\">\n",
       "      <th></th>\n",
       "      <th>AIC</th>\n",
       "      <th>BIC</th>\n",
       "      <th>Pseudo R^2</th>\n",
       "    </tr>\n",
       "  </thead>\n",
       "  <tbody>\n",
       "    <tr>\n",
       "      <td>logit</td>\n",
       "      <td>168.198416</td>\n",
       "      <td>-544.462146</td>\n",
       "      <td>0.176005</td>\n",
       "    </tr>\n",
       "    <tr>\n",
       "      <td>logit_no_bk</td>\n",
       "      <td>177.868381</td>\n",
       "      <td>-537.782614</td>\n",
       "      <td>0.113644</td>\n",
       "    </tr>\n",
       "    <tr>\n",
       "      <td>logit_bird_years_smoking</td>\n",
       "      <td>164.114409</td>\n",
       "      <td>-560.507884</td>\n",
       "      <td>0.155079</td>\n",
       "    </tr>\n",
       "  </tbody>\n",
       "</table>\n",
       "</div>"
      ],
      "text/plain": [
       "                                 AIC         BIC  Pseudo R^2\n",
       "logit                     168.198416 -544.462146    0.176005\n",
       "logit_no_bk               177.868381 -537.782614    0.113644\n",
       "logit_bird_years_smoking  164.114409 -560.507884    0.155079"
      ]
     },
     "execution_count": 128,
     "metadata": {},
     "output_type": "execute_result"
    }
   ],
   "source": [
    "pd.DataFrame({'AIC': [logit.aic, logit_no_bk.aic, logit_bird_years_smoking.aic],\n",
    "              'BIC': [logit.bic, logit_no_bk.bic, logit_bird_years_smoking.bic],\n",
    "              'Pseudo R^2': [1 - logit.deviance/logit.null_deviance, \n",
    "                             1 - logit_no_bk.deviance/logit_no_bk.null_deviance, \n",
    "                             1 - logit_bird_years_smoking.deviance/logit_bird_years_smoking.null_deviance]},\n",
    "            index=['logit', 'logit_no_bk', 'logit_bird_years_smoking'])"
   ]
  },
  {
   "cell_type": "markdown",
   "metadata": {},
   "source": [
    "O AIC e BIC estão minimizados para o modelo mais simplificado, indicando que é o preferido. Enquanto o termo McFadden's R^2 não está maximizado para o modelo mais simplificado (somente 15.5% se comparado com o 17.6% do modelo geral com todos os coeficientes), nós vamos continuar com o modelo mais simplificado porque tem um poder preditivo alto junto com simplicidade "
   ]
  },
  {
   "cell_type": "markdown",
   "metadata": {},
   "source": [
    "Vamos prever a probabilidade de um indivíduo ter ou não câncer quando tem um valor médio para os anos que começou a fumar com e sem um passarinho. Também queremos saber a probabilidade quando um indivíduo nunca fumou e tem ou não um passarinho"
   ]
  },
  {
   "cell_type": "code",
   "execution_count": 150,
   "metadata": {},
   "outputs": [
    {
     "data": {
      "text/html": [
       "<div>\n",
       "<style scoped>\n",
       "    .dataframe tbody tr th:only-of-type {\n",
       "        vertical-align: middle;\n",
       "    }\n",
       "\n",
       "    .dataframe tbody tr th {\n",
       "        vertical-align: top;\n",
       "    }\n",
       "\n",
       "    .dataframe thead th {\n",
       "        text-align: right;\n",
       "    }\n",
       "</style>\n",
       "<table border=\"1\" class=\"dataframe\">\n",
       "  <thead>\n",
       "    <tr style=\"text-align: right;\">\n",
       "      <th></th>\n",
       "      <th>BK_Bird</th>\n",
       "      <th>YR</th>\n",
       "      <th>const</th>\n",
       "    </tr>\n",
       "  </thead>\n",
       "  <tbody>\n",
       "    <tr>\n",
       "      <td>0</td>\n",
       "      <td>1</td>\n",
       "      <td>27.85034</td>\n",
       "      <td>1</td>\n",
       "    </tr>\n",
       "    <tr>\n",
       "      <td>1</td>\n",
       "      <td>0</td>\n",
       "      <td>27.85034</td>\n",
       "      <td>1</td>\n",
       "    </tr>\n",
       "    <tr>\n",
       "      <td>2</td>\n",
       "      <td>1</td>\n",
       "      <td>0.00000</td>\n",
       "      <td>1</td>\n",
       "    </tr>\n",
       "    <tr>\n",
       "      <td>3</td>\n",
       "      <td>0</td>\n",
       "      <td>0.00000</td>\n",
       "      <td>1</td>\n",
       "    </tr>\n",
       "  </tbody>\n",
       "</table>\n",
       "</div>"
      ],
      "text/plain": [
       "   BK_Bird        YR  const\n",
       "0        1  27.85034      1\n",
       "1        0  27.85034      1\n",
       "2        1   0.00000      1\n",
       "3        0   0.00000      1"
      ]
     },
     "execution_count": 150,
     "metadata": {},
     "output_type": "execute_result"
    }
   ],
   "source": [
    "new_data = pd.DataFrame({'BK_Bird': [1, 0, 1, 0]})\n",
    "new_data['YR'] = [data['YR'].mean(), data['YR'].mean(), 0, 0]\n",
    "new_data['const'] = [1, 1, 1, 1]\n",
    "new_data.head()"
   ]
  },
  {
   "cell_type": "code",
   "execution_count": 151,
   "metadata": {},
   "outputs": [
    {
     "data": {
      "text/plain": [
       "0    0.479429\n",
       "1    0.173951\n",
       "2    0.153865\n",
       "3    0.039919\n",
       "dtype: float64"
      ]
     },
     "execution_count": 151,
     "metadata": {},
     "output_type": "execute_result"
    }
   ],
   "source": [
    "logit_bird_years_smoking.predict(new_data)"
   ]
  },
  {
   "cell_type": "code",
   "execution_count": 152,
   "metadata": {},
   "outputs": [
    {
     "data": {
      "text/html": [
       "<div>\n",
       "<style scoped>\n",
       "    .dataframe tbody tr th:only-of-type {\n",
       "        vertical-align: middle;\n",
       "    }\n",
       "\n",
       "    .dataframe tbody tr th {\n",
       "        vertical-align: top;\n",
       "    }\n",
       "\n",
       "    .dataframe thead th {\n",
       "        text-align: right;\n",
       "    }\n",
       "</style>\n",
       "<table border=\"1\" class=\"dataframe\">\n",
       "  <thead>\n",
       "    <tr style=\"text-align: right;\">\n",
       "      <th></th>\n",
       "      <th>BK_Bird</th>\n",
       "      <th>YR</th>\n",
       "      <th>const</th>\n",
       "      <th>P_Cancer</th>\n",
       "    </tr>\n",
       "  </thead>\n",
       "  <tbody>\n",
       "    <tr>\n",
       "      <td>0</td>\n",
       "      <td>1</td>\n",
       "      <td>27.85034</td>\n",
       "      <td>1</td>\n",
       "      <td>0.479429</td>\n",
       "    </tr>\n",
       "    <tr>\n",
       "      <td>1</td>\n",
       "      <td>0</td>\n",
       "      <td>27.85034</td>\n",
       "      <td>1</td>\n",
       "      <td>0.173951</td>\n",
       "    </tr>\n",
       "    <tr>\n",
       "      <td>2</td>\n",
       "      <td>1</td>\n",
       "      <td>0.00000</td>\n",
       "      <td>1</td>\n",
       "      <td>0.153865</td>\n",
       "    </tr>\n",
       "    <tr>\n",
       "      <td>3</td>\n",
       "      <td>0</td>\n",
       "      <td>0.00000</td>\n",
       "      <td>1</td>\n",
       "      <td>0.039919</td>\n",
       "    </tr>\n",
       "  </tbody>\n",
       "</table>\n",
       "</div>"
      ],
      "text/plain": [
       "   BK_Bird        YR  const  P_Cancer\n",
       "0        1  27.85034      1  0.479429\n",
       "1        0  27.85034      1  0.173951\n",
       "2        1   0.00000      1  0.153865\n",
       "3        0   0.00000      1  0.039919"
      ]
     },
     "execution_count": 152,
     "metadata": {},
     "output_type": "execute_result"
    }
   ],
   "source": [
    "new_data['P_Cancer'] = logit_bird_years_smoking.predict(new_data)\n",
    "new_data"
   ]
  },
  {
   "cell_type": "markdown",
   "metadata": {},
   "source": [
    "Vamos classificar nossas observações do dataset como tendo ou não tendo câncer"
   ]
  },
  {
   "cell_type": "code",
   "execution_count": 159,
   "metadata": {},
   "outputs": [
    {
     "data": {
      "text/plain": [
       "1      0.0\n",
       "2      0.0\n",
       "3      0.0\n",
       "4      0.0\n",
       "5      1.0\n",
       "      ... \n",
       "143    0.0\n",
       "144    0.0\n",
       "145    0.0\n",
       "146    0.0\n",
       "147    0.0\n",
       "Length: 147, dtype: float64"
      ]
     },
     "execution_count": 159,
     "metadata": {},
     "output_type": "execute_result"
    }
   ],
   "source": [
    "np.round(logit_bird_years_smoking.fittedvalues)"
   ]
  },
  {
   "cell_type": "code",
   "execution_count": 164,
   "metadata": {},
   "outputs": [],
   "source": [
    "from sklearn.metrics import confusion_matrix"
   ]
  },
  {
   "cell_type": "code",
   "execution_count": 167,
   "metadata": {},
   "outputs": [
    {
     "data": {
      "text/html": [
       "<div>\n",
       "<style scoped>\n",
       "    .dataframe tbody tr th:only-of-type {\n",
       "        vertical-align: middle;\n",
       "    }\n",
       "\n",
       "    .dataframe tbody tr th {\n",
       "        vertical-align: top;\n",
       "    }\n",
       "\n",
       "    .dataframe thead tr th {\n",
       "        text-align: left;\n",
       "    }\n",
       "</style>\n",
       "<table border=\"1\" class=\"dataframe\">\n",
       "  <thead>\n",
       "    <tr>\n",
       "      <th></th>\n",
       "      <th></th>\n",
       "      <th colspan=\"2\" halign=\"left\">Prediction</th>\n",
       "    </tr>\n",
       "    <tr>\n",
       "      <th></th>\n",
       "      <th></th>\n",
       "      <th>0</th>\n",
       "      <th>1</th>\n",
       "    </tr>\n",
       "  </thead>\n",
       "  <tbody>\n",
       "    <tr>\n",
       "      <td rowspan=\"2\" valign=\"top\">Truth</td>\n",
       "      <td>0</td>\n",
       "      <td>85</td>\n",
       "      <td>13</td>\n",
       "    </tr>\n",
       "    <tr>\n",
       "      <td>1</td>\n",
       "      <td>27</td>\n",
       "      <td>22</td>\n",
       "    </tr>\n",
       "  </tbody>\n",
       "</table>\n",
       "</div>"
      ],
      "text/plain": [
       "        Prediction    \n",
       "                 0   1\n",
       "Truth 0         85  13\n",
       "      1         27  22"
      ]
     },
     "execution_count": 167,
     "metadata": {},
     "output_type": "execute_result"
    }
   ],
   "source": [
    "results = pd.DataFrame(confusion_matrix(dummy_lung_cancer['LungCancer'], np.round(logit_bird_years_smoking.fittedvalues)), \n",
    "                       columns=[['Prediction', 'Prediction'],['0', '1']], index=[['Truth', 'Truth'], ['0', '1']])\n",
    "results"
   ]
  },
  {
   "cell_type": "markdown",
   "metadata": {},
   "source": [
    "O modelo tem uma performance decente com acurácia de aproximadamente $\\frac{85 + 22}{147} = 72.79\\%$\n",
    "\n",
    "É um pouco maior que o baseline de $\\frac{98}{147} = 66.67\\%$ de simplesmente adivinhar que o indivíduo não tem câncer de pulmão no nosso dataset"
   ]
  },
  {
   "cell_type": "code",
   "execution_count": null,
   "metadata": {},
   "outputs": [],
   "source": []
  }
 ],
 "metadata": {
  "kernelspec": {
   "display_name": "Python 3",
   "language": "python",
   "name": "python3"
  },
  "language_info": {
   "codemirror_mode": {
    "name": "ipython",
    "version": 3
   },
   "file_extension": ".py",
   "mimetype": "text/x-python",
   "name": "python",
   "nbconvert_exporter": "python",
   "pygments_lexer": "ipython3",
   "version": "3.7.4"
  }
 },
 "nbformat": 4,
 "nbformat_minor": 4
}
