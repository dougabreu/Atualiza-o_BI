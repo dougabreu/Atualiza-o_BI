{
  "nbformat": 4,
  "nbformat_minor": 0,
  "metadata": {
    "colab": {
      "name": "hellonltk.ipynb",
      "provenance": [],
      "collapsed_sections": []
    },
    "kernelspec": {
      "name": "python3",
      "display_name": "Python 3"
    }
  },
  "cells": [
    {
      "cell_type": "markdown",
      "metadata": {
        "id": "il-yGyXd5kTe",
        "colab_type": "text"
      },
      "source": [
        "#**Primeiro contato com nltk**\n",
        "  \n",
        "\n"
      ]
    },
    {
      "cell_type": "code",
      "metadata": {
        "id": "dDw58OXG1vb4",
        "colab_type": "code",
        "colab": {}
      },
      "source": [
        "#primeiro contato com nltk\n"
      ],
      "execution_count": 0,
      "outputs": []
    },
    {
      "cell_type": "markdown",
      "metadata": {
        "id": "2fUgRdJu67Ks",
        "colab_type": "text"
      },
      "source": [
        "**Primeiro instalamos**"
      ]
    },
    {
      "cell_type": "code",
      "metadata": {
        "id": "5KIP-mGy2Ue1",
        "colab_type": "code",
        "outputId": "11d36fcd-3cac-474d-ec2b-c8def7c93ace",
        "colab": {
          "base_uri": "https://localhost:8080/",
          "height": 50
        }
      },
      "source": [
        "!pip install nltk"
      ],
      "execution_count": 1,
      "outputs": [
        {
          "output_type": "stream",
          "text": [
            "Requirement already satisfied: nltk in /usr/local/lib/python3.6/dist-packages (3.2.5)\n",
            "Requirement already satisfied: six in /usr/local/lib/python3.6/dist-packages (from nltk) (1.12.0)\n"
          ],
          "name": "stdout"
        }
      ]
    },
    {
      "cell_type": "markdown",
      "metadata": {
        "id": "gYwwu4Hs65hq",
        "colab_type": "text"
      },
      "source": [
        ""
      ]
    },
    {
      "cell_type": "markdown",
      "metadata": {
        "id": "-KGSc2QY7Ecj",
        "colab_type": "text"
      },
      "source": [
        " **importamos os recursos**"
      ]
    },
    {
      "cell_type": "code",
      "metadata": {
        "id": "kGmOZaYi2cCR",
        "colab_type": "code",
        "outputId": "8a0379ab-0844-46d1-83fc-ee6590504d7f",
        "colab": {
          "base_uri": "https://localhost:8080/",
          "height": 67
        }
      },
      "source": [
        "import nltk\n",
        "nltk.download('punkt')"
      ],
      "execution_count": 2,
      "outputs": [
        {
          "output_type": "stream",
          "text": [
            "[nltk_data] Downloading package punkt to /root/nltk_data...\n",
            "[nltk_data]   Unzipping tokenizers/punkt.zip.\n"
          ],
          "name": "stdout"
        },
        {
          "output_type": "execute_result",
          "data": {
            "text/plain": [
              "True"
            ]
          },
          "metadata": {
            "tags": []
          },
          "execution_count": 2
        }
      ]
    },
    {
      "cell_type": "code",
      "metadata": {
        "id": "rS9FG_rx2TJ0",
        "colab_type": "code",
        "colab": {}
      },
      "source": [
        "from nltk.tokenize import word_tokenize"
      ],
      "execution_count": 0,
      "outputs": []
    },
    {
      "cell_type": "markdown",
      "metadata": {
        "id": "ppRVUGqO7Qa_",
        "colab_type": "text"
      },
      "source": [
        "**Um texto qualquer**"
      ]
    },
    {
      "cell_type": "code",
      "metadata": {
        "id": "Hj98G-4V1y_-",
        "colab_type": "code",
        "colab": {}
      },
      "source": [
        "my_text = \"Hi Mr. Smith! I’m going to buy some vegetables (tomatoes and cucumbers) from the store. Should I pick up some black-eyed peas as well?\"\n"
      ],
      "execution_count": 0,
      "outputs": []
    },
    {
      "cell_type": "code",
      "metadata": {
        "id": "X_b4gBie16Z1",
        "colab_type": "code",
        "outputId": "6626f962-820c-4607-aa4e-6560bb073b25",
        "colab": {
          "base_uri": "https://localhost:8080/",
          "height": 54
        }
      },
      "source": [
        "print(word_tokenize(my_text))"
      ],
      "execution_count": 5,
      "outputs": [
        {
          "output_type": "stream",
          "text": [
            "['Hi', 'Mr.', 'Smith', '!', 'I', '’', 'm', 'going', 'to', 'buy', 'some', 'vegetables', '(', 'tomatoes', 'and', 'cucumbers', ')', 'from', 'the', 'store', '.', 'Should', 'I', 'pick', 'up', 'some', 'black-eyed', 'peas', 'as', 'well', '?']\n"
          ],
          "name": "stdout"
        }
      ]
    },
    {
      "cell_type": "markdown",
      "metadata": {
        "id": "9O0dahEl7ZUB",
        "colab_type": "text"
      },
      "source": [
        "**Agora em portugues**"
      ]
    },
    {
      "cell_type": "code",
      "metadata": {
        "id": "3HL2G3hB7fTZ",
        "colab_type": "code",
        "colab": {}
      },
      "source": [
        "meu_texto = \"Caneta azul, azul caneta Caneta azul tá marcada com minhas letra Caneta azul, azul caneta Caneta azul tá marcada com minhas letra\""
      ],
      "execution_count": 0,
      "outputs": []
    },
    {
      "cell_type": "code",
      "metadata": {
        "id": "YxFokR8B7x5i",
        "colab_type": "code",
        "outputId": "19a0b494-363b-406c-a204-0a02e6dfafa0",
        "colab": {
          "base_uri": "https://localhost:8080/",
          "height": 54
        }
      },
      "source": [
        "print(word_tokenize(meu_texto))"
      ],
      "execution_count": 0,
      "outputs": [
        {
          "output_type": "stream",
          "text": [
            "['Caneta', 'azul', ',', 'azul', 'caneta', 'Caneta', 'azul', 'tá', 'marcada', 'com', 'minhas', 'letra', 'Caneta', 'azul', ',', 'azul', 'caneta', 'Caneta', 'azul', 'tá', 'marcada', 'com', 'minhas', 'letra']\n"
          ],
          "name": "stdout"
        }
      ]
    },
    {
      "cell_type": "markdown",
      "metadata": {
        "id": "swDJNuMKBqbR",
        "colab_type": "text"
      },
      "source": [
        "**Agora um texto representativo**"
      ]
    },
    {
      "cell_type": "code",
      "metadata": {
        "id": "Xlj_RgDaB0Iv",
        "colab_type": "code",
        "colab": {}
      },
      "source": [
        "noticia = \"Com o resultado, o índice acumula alta de 2,60% em 9 meses. Em 12 meses, o IPCA registra avanço de 2,54%, abaixo dos 2,89% registrados nos 12 meses imediatamente anteriores, ficando abaixo do piso da meta definida pelo governo para o ano, o que reforça as apostas de novo corte na taxa básica de juros, atualmente em 5% ao ano.\""
      ],
      "execution_count": 0,
      "outputs": []
    },
    {
      "cell_type": "code",
      "metadata": {
        "id": "63VRBfzwCCJw",
        "colab_type": "code",
        "outputId": "174d12b8-fe6b-4f9f-f890-62a7de599877",
        "colab": {
          "base_uri": "https://localhost:8080/",
          "height": 54
        }
      },
      "source": [
        "print(word_tokenize(noticia))"
      ],
      "execution_count": 8,
      "outputs": [
        {
          "output_type": "stream",
          "text": [
            "['Com', 'o', 'resultado', ',', 'o', 'índice', 'acumula', 'alta', 'de', '2,60', '%', 'em', '9', 'meses', '.', 'Em', '12', 'meses', ',', 'o', 'IPCA', 'registra', 'avanço', 'de', '2,54', '%', ',', 'abaixo', 'dos', '2,89', '%', 'registrados', 'nos', '12', 'meses', 'imediatamente', 'anteriores', ',', 'ficando', 'abaixo', 'do', 'piso', 'da', 'meta', 'definida', 'pelo', 'governo', 'para', 'o', 'ano', ',', 'o', 'que', 'reforça', 'as', 'apostas', 'de', 'novo', 'corte', 'na', 'taxa', 'básica', 'de', 'juros', ',', 'atualmente', 'em', '5', '%', 'ao', 'ano', '.']\n"
          ],
          "name": "stdout"
        }
      ]
    },
    {
      "cell_type": "code",
      "metadata": {
        "id": "EQz8hk7XCFXM",
        "colab_type": "code",
        "colab": {}
      },
      "source": [
        ""
      ],
      "execution_count": 0,
      "outputs": []
    },
    {
      "cell_type": "markdown",
      "metadata": {
        "id": "gTZRIOelCNDl",
        "colab_type": "text"
      },
      "source": [
        "**Stop words**"
      ]
    },
    {
      "cell_type": "code",
      "metadata": {
        "id": "kcZI_tj7CRQS",
        "colab_type": "code",
        "outputId": "57642907-3e6d-4137-8acf-d7f8fb2ce262",
        "colab": {
          "base_uri": "https://localhost:8080/",
          "height": 50
        }
      },
      "source": [
        "nltk.download('stopwords')\n",
        "from nltk.corpus import stopwords"
      ],
      "execution_count": 9,
      "outputs": [
        {
          "output_type": "stream",
          "text": [
            "[nltk_data] Downloading package stopwords to /root/nltk_data...\n",
            "[nltk_data]   Unzipping corpora/stopwords.zip.\n"
          ],
          "name": "stdout"
        }
      ]
    },
    {
      "cell_type": "code",
      "metadata": {
        "id": "P5Q3LTWBCjMZ",
        "colab_type": "code",
        "colab": {}
      },
      "source": [
        "stopWords_list = list(stopwords.words('portuguese'))"
      ],
      "execution_count": 0,
      "outputs": []
    },
    {
      "cell_type": "code",
      "metadata": {
        "id": "bFC-vliPEqwI",
        "colab_type": "code",
        "colab": {}
      },
      "source": [
        "words = word_tokenize(noticia)"
      ],
      "execution_count": 0,
      "outputs": []
    },
    {
      "cell_type": "code",
      "metadata": {
        "id": "FZ5Tn9xmXM-m",
        "colab_type": "code",
        "colab": {
          "base_uri": "https://localhost:8080/",
          "height": 54
        },
        "outputId": "f0d1fc97-fb79-4682-9407-0dc3355366ca"
      },
      "source": [
        "print(stopWords_list)"
      ],
      "execution_count": 17,
      "outputs": [
        {
          "output_type": "stream",
          "text": [
            "['de', 'a', 'o', 'que', 'e', 'é', 'do', 'da', 'em', 'um', 'para', 'com', 'não', 'uma', 'os', 'no', 'se', 'na', 'por', 'mais', 'as', 'dos', 'como', 'mas', 'ao', 'ele', 'das', 'à', 'seu', 'sua', 'ou', 'quando', 'muito', 'nos', 'já', 'eu', 'também', 'só', 'pelo', 'pela', 'até', 'isso', 'ela', 'entre', 'depois', 'sem', 'mesmo', 'aos', 'seus', 'quem', 'nas', 'me', 'esse', 'eles', 'você', 'essa', 'num', 'nem', 'suas', 'meu', 'às', 'minha', 'numa', 'pelos', 'elas', 'qual', 'nós', 'lhe', 'deles', 'essas', 'esses', 'pelas', 'este', 'dele', 'tu', 'te', 'vocês', 'vos', 'lhes', 'meus', 'minhas', 'teu', 'tua', 'teus', 'tuas', 'nosso', 'nossa', 'nossos', 'nossas', 'dela', 'delas', 'esta', 'estes', 'estas', 'aquele', 'aquela', 'aqueles', 'aquelas', 'isto', 'aquilo', 'estou', 'está', 'estamos', 'estão', 'estive', 'esteve', 'estivemos', 'estiveram', 'estava', 'estávamos', 'estavam', 'estivera', 'estivéramos', 'esteja', 'estejamos', 'estejam', 'estivesse', 'estivéssemos', 'estivessem', 'estiver', 'estivermos', 'estiverem', 'hei', 'há', 'havemos', 'hão', 'houve', 'houvemos', 'houveram', 'houvera', 'houvéramos', 'haja', 'hajamos', 'hajam', 'houvesse', 'houvéssemos', 'houvessem', 'houver', 'houvermos', 'houverem', 'houverei', 'houverá', 'houveremos', 'houverão', 'houveria', 'houveríamos', 'houveriam', 'sou', 'somos', 'são', 'era', 'éramos', 'eram', 'fui', 'foi', 'fomos', 'foram', 'fora', 'fôramos', 'seja', 'sejamos', 'sejam', 'fosse', 'fôssemos', 'fossem', 'for', 'formos', 'forem', 'serei', 'será', 'seremos', 'serão', 'seria', 'seríamos', 'seriam', 'tenho', 'tem', 'temos', 'tém', 'tinha', 'tínhamos', 'tinham', 'tive', 'teve', 'tivemos', 'tiveram', 'tivera', 'tivéramos', 'tenha', 'tenhamos', 'tenham', 'tivesse', 'tivéssemos', 'tivessem', 'tiver', 'tivermos', 'tiverem', 'terei', 'terá', 'teremos', 'terão', 'teria', 'teríamos', 'teriam']\n"
          ],
          "name": "stdout"
        }
      ]
    },
    {
      "cell_type": "code",
      "metadata": {
        "id": "zhdPYiR0FtMg",
        "colab_type": "code",
        "colab": {}
      },
      "source": [
        "clean_words = [word for word in words if not (word in stopWords_list)]"
      ],
      "execution_count": 0,
      "outputs": []
    },
    {
      "cell_type": "code",
      "metadata": {
        "id": "PtmKiElTG6Uz",
        "colab_type": "code",
        "outputId": "f90927f3-f049-4346-d224-23e9890c9296",
        "colab": {
          "base_uri": "https://localhost:8080/",
          "height": 54
        }
      },
      "source": [
        "print(clean_words)"
      ],
      "execution_count": 16,
      "outputs": [
        {
          "output_type": "stream",
          "text": [
            "['Com', 'resultado', ',', 'índice', 'acumula', 'alta', '2,60', '%', '9', 'meses', '.', 'Em', '12', 'meses', ',', 'IPCA', 'registra', 'avanço', '2,54', '%', ',', 'abaixo', '2,89', '%', 'registrados', '12', 'meses', 'imediatamente', 'anteriores', ',', 'ficando', 'abaixo', 'piso', 'meta', 'definida', 'governo', 'ano', ',', 'reforça', 'apostas', 'novo', 'corte', 'taxa', 'básica', 'juros', ',', 'atualmente', '5', '%', 'ano', '.']\n"
          ],
          "name": "stdout"
        }
      ]
    },
    {
      "cell_type": "code",
      "metadata": {
        "id": "mUex3F2AGEyE",
        "colab_type": "code",
        "colab": {}
      },
      "source": [
        ""
      ],
      "execution_count": 0,
      "outputs": []
    },
    {
      "cell_type": "code",
      "metadata": {
        "id": "PvZyv0OxKDG4",
        "colab_type": "code",
        "colab": {}
      },
      "source": [
        ""
      ],
      "execution_count": 0,
      "outputs": []
    }
  ]
}