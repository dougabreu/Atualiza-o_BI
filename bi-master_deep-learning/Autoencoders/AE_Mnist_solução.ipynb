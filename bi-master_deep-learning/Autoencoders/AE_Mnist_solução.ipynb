{
  "nbformat": 4,
  "nbformat_minor": 0,
  "metadata": {
    "colab": {
      "name": "AE_Mnist+mlp.ipynb",
      "version": "0.3.2",
      "provenance": [],
      "collapsed_sections": []
    },
    "kernelspec": {
      "name": "python3",
      "display_name": "Python 3"
    }
  },
  "cells": [
    {
      "cell_type": "markdown",
      "metadata": {
        "id": "I1EhnSOq50fc",
        "colab_type": "text"
      },
      "source": [
        "# AutoEncoder: Mnist Digits"
      ]
    },
    {
      "cell_type": "code",
      "metadata": {
        "id": "mLqWkC4Q_ruG",
        "colab_type": "code",
        "colab": {}
      },
      "source": [
        "# Base Mnist Digits\n",
        "from keras.datasets import mnist\n",
        "import numpy as np\n",
        "(x_train, y_train), (x_test, y_test) = mnist.load_data()"
      ],
      "execution_count": 0,
      "outputs": []
    },
    {
      "cell_type": "code",
      "metadata": {
        "id": "SHxQspt1W3NA",
        "colab_type": "code",
        "colab": {}
      },
      "source": [
        "# Shape da base\n",
        "print(x_train.shape)\n",
        "\n",
        "# Quantidade de imagens da base\n",
        "print(len(x_train))\n",
        "\n",
        "# Quantidade de pixels de cada imagem\n",
        "print(np.prod(x_train.shape[1:]))"
      ],
      "execution_count": 0,
      "outputs": []
    },
    {
      "cell_type": "code",
      "metadata": {
        "id": "fp05MTBg_ynj",
        "colab_type": "code",
        "colab": {}
      },
      "source": [
        "# Normalização\n",
        "x_train = x_train.astype('float32') / 255.\n",
        "x_test = x_test.astype('float32') / 255.\n",
        "\n",
        "# Reshape\n",
        "x_train = x_train.reshape((len(x_train), np.prod(x_train.shape[1:])))\n",
        "x_test = x_test.reshape((len(x_test), np.prod(x_test.shape[1:])))\n",
        "print(x_train.shape)\n",
        "print(x_test.shape)"
      ],
      "execution_count": 0,
      "outputs": []
    },
    {
      "cell_type": "code",
      "metadata": {
        "id": "jPE2jZhhWoyB",
        "colab_type": "code",
        "colab": {}
      },
      "source": [
        "from keras.layers import Input, Dense\n",
        "from keras.models import Model\n",
        "from keras import regularizers\n",
        "\n",
        "# Tamanho da camada latente: \n",
        "encoding_dim = 32  # 32 dimensões  -> fator de compressão de 24.5\n",
        "\n",
        "# Input\n",
        "input_img = Input(shape=(784,))\n",
        "\n",
        "# \"encoded\" é a representação codificada do nosso input\n",
        "encoded = Dense(encoding_dim, activation='relu')(input_img)\n",
        "\n",
        "# \"decoded\" é a reconstrução do input\n",
        "decoded = Dense(784, activation='sigmoid')(encoded)\n",
        "\n",
        "# \"autoencoder\" é o modelo que codificada o input e o reconstrói\n",
        "autoencoder = Model(input_img, decoded)\n",
        "\n",
        "# Compila a rede neural\n",
        "autoencoder.compile(optimizer='adadelta', loss='binary_crossentropy')\n",
        "\n",
        "# Mostrar a estrtura do modelo criado\n",
        "config = autoencoder.get_config()\n",
        "model = Model.from_config(config)\n",
        "model.summary()"
      ],
      "execution_count": 0,
      "outputs": []
    },
    {
      "cell_type": "code",
      "metadata": {
        "id": "GWzqA2Ek9VEq",
        "colab_type": "code",
        "colab": {}
      },
      "source": [
        "# Treinamento do autoencoder\n",
        "autoencoder.fit(x_train, x_train,\n",
        "                epochs=50,\n",
        "                batch_size=256,\n",
        "                shuffle=True,\n",
        "                validation_data=(x_test, x_test))"
      ],
      "execution_count": 0,
      "outputs": []
    },
    {
      "cell_type": "markdown",
      "metadata": {
        "id": "PR_HFuTpaAmv",
        "colab_type": "text"
      },
      "source": [
        "## Testar o autoencoder"
      ]
    },
    {
      "cell_type": "code",
      "metadata": {
        "id": "IlyHTN5k9U9Y",
        "colab_type": "code",
        "colab": {}
      },
      "source": [
        "# codificar e decodificar alguns digitos da base de teste\n",
        "decoded_imgs = autoencoder.predict(x_test)"
      ],
      "execution_count": 0,
      "outputs": []
    },
    {
      "cell_type": "code",
      "metadata": {
        "id": "ut8Gk1Lj9yDE",
        "colab_type": "code",
        "colab": {}
      },
      "source": [
        "# Função para comparação do original com o reconstruido\n",
        "import matplotlib.pyplot as plt\n",
        "\n",
        "def plotTest(testDb, netDB):\n",
        "  n = 10  # quantos digitos serão mostrados\n",
        "  plt.figure(figsize=(20, 4))\n",
        "  for i in range(n):\n",
        "      # mostrar original\n",
        "      ax = plt.subplot(2, n, i + 1)\n",
        "      plt.imshow(testDb[i].reshape(28, 28))\n",
        "      plt.gray()\n",
        "      ax.get_xaxis().set_visible(False)\n",
        "      ax.get_yaxis().set_visible(False)\n",
        "\n",
        "      # mostrar reconstrução\n",
        "      ax = plt.subplot(2, n, i + 1 + n)\n",
        "      plt.imshow(netDB[i].reshape(28, 28))\n",
        "      plt.gray()\n",
        "      ax.get_xaxis().set_visible(False)\n",
        "      ax.get_yaxis().set_visible(False)\n",
        "  plt.show()"
      ],
      "execution_count": 0,
      "outputs": []
    },
    {
      "cell_type": "code",
      "metadata": {
        "id": "eTb5LSCW_VuP",
        "colab_type": "code",
        "colab": {}
      },
      "source": [
        "# Chamar a função que imprime o original e a reconstrução\n",
        "plotTest(x_test, decoded_imgs)"
      ],
      "execution_count": 0,
      "outputs": []
    },
    {
      "cell_type": "markdown",
      "metadata": {
        "id": "AsDl7Xa2cbSy",
        "colab_type": "text"
      },
      "source": [
        "# Exercícios"
      ]
    },
    {
      "cell_type": "markdown",
      "metadata": {
        "id": "k-AbusLqcdQo",
        "colab_type": "text"
      },
      "source": [
        "### Crie o modelo \"encoder\" que retorne a representação de uma imagem codificada\n"
      ]
    },
    {
      "cell_type": "code",
      "metadata": {
        "id": "_78kd4hFccdX",
        "colab_type": "code",
        "colab": {}
      },
      "source": [
        "encoder = Model(input_img, encoded)"
      ],
      "execution_count": 0,
      "outputs": []
    },
    {
      "cell_type": "markdown",
      "metadata": {
        "id": "mOanNxyEclG_",
        "colab_type": "text"
      },
      "source": [
        "### Escolha duas imagens da base de teste e salve no objeto imagens"
      ]
    },
    {
      "cell_type": "code",
      "metadata": {
        "id": "fAuzC5L0dT4D",
        "colab_type": "code",
        "colab": {}
      },
      "source": [
        "imagens = x_test[0:2,:]\n"
      ],
      "execution_count": 0,
      "outputs": []
    },
    {
      "cell_type": "markdown",
      "metadata": {
        "id": "Hd60hASyeBpd",
        "colab_type": "text"
      },
      "source": [
        "### Plote a imagem"
      ]
    },
    {
      "cell_type": "code",
      "metadata": {
        "id": "nkXMPeJgdzww",
        "colab_type": "code",
        "colab": {}
      },
      "source": [
        "# Imagem 1\n",
        "plt.imshow(imagens[0,:].reshape(28, 28))\n",
        "plt.gray()"
      ],
      "execution_count": 0,
      "outputs": []
    },
    {
      "cell_type": "code",
      "metadata": {
        "id": "aqjynOxceryD",
        "colab_type": "code",
        "colab": {}
      },
      "source": [
        "# Imagem 2\n",
        "plt.imshow(imagens[1,:].reshape(28, 28))\n",
        "plt.gray()"
      ],
      "execution_count": 0,
      "outputs": []
    },
    {
      "cell_type": "markdown",
      "metadata": {
        "id": "d2f3Uqh1eEY1",
        "colab_type": "text"
      },
      "source": [
        "### Apresente as imagens selecionadas da base de teste e verifique a saída codificada das imagens"
      ]
    },
    {
      "cell_type": "code",
      "metadata": {
        "id": "z0w_enb8crgW",
        "colab_type": "code",
        "colab": {}
      },
      "source": [
        "decoded_imgs = encoder.predict(imagens)\n",
        "decoded_imgs"
      ],
      "execution_count": 0,
      "outputs": []
    },
    {
      "cell_type": "markdown",
      "metadata": {
        "id": "H6mz_7kkL9f2",
        "colab_type": "text"
      },
      "source": [
        "### Use a base codificada para treinar uma MLP para classificação de digitos"
      ]
    },
    {
      "cell_type": "code",
      "metadata": {
        "id": "_vm678c2MFXS",
        "colab_type": "code",
        "colab": {}
      },
      "source": [
        "# Codificar a base de treino e teste\n",
        "encoded_x_train = encoder.predict(x_train)\n",
        "encoded_x_test = encoder.predict(x_test)\n",
        "print(encoded_x_train.shape)\n",
        "print(encoded_x_test.shape)\n"
      ],
      "execution_count": 0,
      "outputs": []
    },
    {
      "cell_type": "code",
      "metadata": {
        "id": "MvoVT3yfOC-m",
        "colab_type": "code",
        "colab": {}
      },
      "source": [
        "encoded_x_train.shape[1:]"
      ],
      "execution_count": 0,
      "outputs": []
    },
    {
      "cell_type": "code",
      "metadata": {
        "id": "J-Uv3BhMMjUf",
        "colab_type": "code",
        "colab": {}
      },
      "source": [
        "from keras import Model, Sequential\n",
        "from keras.layers import Dense\n",
        "from keras.optimizers import SGD\n",
        "\n",
        "# Estrtura da rede neural mlp\n",
        "RN = Sequential()\n",
        "RN.add(Dense(20, input_shape = encoded_x_train.shape[1:],activation = 'sigmoid'))\n",
        "RN.add(Dense(10, activation = 'sigmoid'))\n",
        "\n",
        "RN.compile(optimizer = 'sgd', loss = 'sparse_categorical_crossentropy', metrics = ['accuracy'])\n",
        "RN.summary()"
      ],
      "execution_count": 0,
      "outputs": []
    },
    {
      "cell_type": "code",
      "metadata": {
        "id": "lYZsV8_wOHyM",
        "colab_type": "code",
        "colab": {}
      },
      "source": [
        "RN.fit(encoded_x_train, y_train, epochs = 100)"
      ],
      "execution_count": 0,
      "outputs": []
    },
    {
      "cell_type": "code",
      "metadata": {
        "id": "SkdV1f_qOYMU",
        "colab_type": "code",
        "colab": {}
      },
      "source": [
        "score = RN.evaluate(encoded_x_test, y_test, verbose = 0)\n",
        "print('Test score:', score[0])\n",
        "print('Test accuracy:', score[1])"
      ],
      "execution_count": 0,
      "outputs": []
    },
    {
      "cell_type": "markdown",
      "metadata": {
        "id": "xWuYP-EofIFH",
        "colab_type": "text"
      },
      "source": [
        "### Prever as duas imagens escolhidas no exercício anterior"
      ]
    },
    {
      "cell_type": "code",
      "metadata": {
        "id": "HBGMTSvheyny",
        "colab_type": "code",
        "colab": {}
      },
      "source": [
        "RN.predict_classes(encoded_x_test[0:2,:])"
      ],
      "execution_count": 0,
      "outputs": []
    }
  ]
}