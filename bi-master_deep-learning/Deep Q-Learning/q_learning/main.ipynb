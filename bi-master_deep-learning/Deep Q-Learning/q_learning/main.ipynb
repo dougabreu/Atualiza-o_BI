{
 "cells": [
  {
   "cell_type": "code",
   "execution_count": null,
   "metadata": {
    "collapsed": true
   },
   "outputs": [],
   "source": [
    "import sys\n",
    "from pygame.locals import *\n",
    "from utils import *\n",
    "\n",
    "FPS = 20  # frames per second setting\n",
    "\n",
    "fpsClock = pg.time.Clock()\n",
    "\n",
    "pg.init()  # inicializa pygame\n",
    "\n",
    "window = pg.display.set_mode((windowWidth, windowHeight))  # largura e altura da tela\n",
    "pg.display.set_caption('Catch the ball!')\n",
    "rct = pg.Rect(rctLeft, rctTop, rctWidth, rctHeight)\n",
    "\n",
    "action = 1  # 0 faz nada, 1 esquerda, 2 direita\n",
    "\n",
    "score = 0\n",
    "missed = 0\n",
    "reward = 0\n",
    "font = pg.font.Font(None, 30)"
   ]
  },
  {
   "cell_type": "code",
   "execution_count": null,
   "metadata": {
    "collapsed": true
   },
   "outputs": [],
   "source": [
    "def windowsControl(s, act, crclCentreX, crclCentreY, pg, reward, window, score, missed):\n",
    "    rct = new_rect_after_action(s.rect, act)  # nova posição da pá após ação\n",
    "    crclCentreX = s.circle.circleX  # put the ball where it originally was before the experiment\n",
    "    crclCentreY = s.circle.circleY\n",
    "\n",
    "    pg.draw.circle(window, RED, (int(crclCentreX), int(crclCentreY)),int(crclRadius))\n",
    "    pg.draw.rect(window, GREEN, rct)\n",
    "    \n",
    "    if reward == 1:  # got it!\n",
    "        score += reward  # add the reward to the total score\n",
    "    elif reward == -1:  # missed\n",
    "        missed += reward  # add the reward to the missed count\n",
    "\n",
    "    return score, missed \n"
   ]
  },
  {
   "cell_type": "markdown",
   "metadata": {},
   "source": [
    "### Q-learning"
   ]
  },
  {
   "cell_type": "code",
   "execution_count": null,
   "metadata": {
    "collapsed": true
   },
   "outputs": [],
   "source": [
    "def qLearning(rct, crclCentreX, crclCentreY):\n",
    "    s = State(rct, Circle(crclCentreX, crclCentreY))\n",
    "    act = get_best_action(s)  # pega a melhor ação do estado atual\n",
    "    r0 = calculate_score(s.rect, s.circle)  # obtém a recompensa por ter feito essa ação\n",
    "    s1 = new_state_after_action(s, act)  # novo estado após ter feito a ação\n",
    "    # cria a tabela Q, indexada por estado e ação\n",
    "    Q[state_to_number(s), act] += lr * (r0 + y * np.max(Q[state_to_number(s1), :]) - Q[state_to_number(s), act])\n",
    "    \n",
    "    return s, act, r0, s1, Q"
   ]
  },
  {
   "cell_type": "markdown",
   "metadata": {},
   "source": [
    "### Mudar parâmetros"
   ]
  },
  {
   "cell_type": "code",
   "execution_count": null,
   "metadata": {
    "collapsed": true
   },
   "outputs": [],
   "source": [
    "# taxa de aprendizagem (alpha) \n",
    "#α = 0 : fará com que o agente não aprenda nada\n",
    "#α = 1 : o agente consideraria apenas a informação mais recentes\n",
    "lr = 0\n",
    "\n",
    "\n",
    "# fator de desconto (gamma)\n",
    "#γ = 0: confiaremos apenas nas recompensas imediatas.\n",
    "#γ = 1 : considera o ambiente determinista e as mesmas ações sempre resultarão nas mesmas recompensas.\n",
    "y = 0"
   ]
  },
  {
   "cell_type": "code",
   "execution_count": null,
   "metadata": {
    "collapsed": true
   },
   "outputs": [],
   "source": [
    "\n",
    "i = 0\n",
    "\n",
    "while True:\n",
    "    for event in pg.event.get():\n",
    "        if event.type == QUIT:  # botão de fechar a janela\n",
    "            pg.quit()\n",
    "            sys.exit()\n",
    "\n",
    "    window.fill(BLACK)  # cor do fundo da janela\n",
    "    \n",
    "    \n",
    "    #'Controla' o jogo\n",
    "    if crclCentreY >= windowHeight - rctHeight - crclRadius:  # checa se a pá (retângulo) está abaixo da bolinha(circulo) ou não\n",
    "        reward = calculate_score(rct, Circle(crclCentreX, crclCentreY))  # +1 ou -1 calcula se perdeu ou ganhou\n",
    "        crclCentreX = circle_falling(crclRadius)\n",
    "        crclCentreY = 50 #recomeça\n",
    "    else:\n",
    "        reward = 0  # sem recompensa se a bola não estiver abaixo da pá\n",
    "        crclCentreY += crclYStepFalling  # continua deixando a bola cair\n",
    "        \n",
    "\n",
    "    ### Q-learning    \n",
    "    s, act, r0, s1, Q = qLearning(rct, crclCentreX, crclCentreY)    \n",
    "    \n",
    "    \n",
    "    ### Criação e atualização da tela \n",
    "    score, missed = windowsControl(s, act, crclCentreX, crclCentreY, pg, reward, window, score, missed)\n",
    "    text = font.render('score: ' + str(score), True, (238, 58, 140))  # atualiza a pontuação na tela\n",
    "    text1 = font.render('missed: ' + str(missed), True, (238, 58, 140))  # atualiza a pontuação na tela\n",
    "    window.blit(text, (windowWidth - 120, 10))  # renderiza o score\n",
    "    window.blit(text1, (windowWidth - 280, 10))  # renderiza o missed\n",
    "\n",
    "    pg.display.update()  # atualiza do display\n",
    "    fpsClock.tick(FPS) \n",
    "    \n",
    "    if i == 10000:  # condição de parada\n",
    "        break\n",
    "    else:\n",
    "        i += 1\n"
   ]
  },
  {
   "cell_type": "code",
   "execution_count": null,
   "metadata": {
    "collapsed": true
   },
   "outputs": [],
   "source": []
  },
  {
   "cell_type": "code",
   "execution_count": null,
   "metadata": {
    "collapsed": true
   },
   "outputs": [],
   "source": []
  }
 ],
 "metadata": {
  "kernelspec": {
   "display_name": "Python 3",
   "language": "python",
   "name": "python3"
  },
  "language_info": {
   "codemirror_mode": {
    "name": "ipython",
    "version": 3
   },
   "file_extension": ".py",
   "mimetype": "text/x-python",
   "name": "python",
   "nbconvert_exporter": "python",
   "pygments_lexer": "ipython3",
   "version": "3.6.3"
  }
 },
 "nbformat": 4,
 "nbformat_minor": 2
}
