{
  "nbformat": 4,
  "nbformat_minor": 0,
  "metadata": {
    "colab": {
      "name": "Instroduction BoW .ipynb",
      "provenance": [],
      "collapsed_sections": [],
      "authorship_tag": "ABX9TyN11+TQj5zY6jZGp7Vj6wmg",
      "include_colab_link": true
    },
    "kernelspec": {
      "name": "python3",
      "display_name": "Python 3"
    }
  },
  "cells": [
    {
      "cell_type": "markdown",
      "metadata": {
        "id": "view-in-github",
        "colab_type": "text"
      },
      "source": [
        "<a href=\"https://colab.research.google.com/github/crismunoz/NLP_examples/blob/master/Instroduction_BoW_.ipynb\" target=\"_parent\"><img src=\"https://colab.research.google.com/assets/colab-badge.svg\" alt=\"Open In Colab\"/></a>"
      ]
    },
    {
      "cell_type": "markdown",
      "metadata": {
        "id": "JLy2X7ghBVlK",
        "colab_type": "text"
      },
      "source": [
        "Bag of Words"
      ]
    },
    {
      "cell_type": "code",
      "metadata": {
        "id": "Ghxmj0dR6Kni",
        "colab_type": "code",
        "colab": {
          "base_uri": "https://localhost:8080/",
          "height": 72
        },
        "outputId": "b5459415-db8e-48dd-ba08-31c199f0f70e"
      },
      "source": [
        "import nltk  \n",
        "import numpy as np  \n",
        "import random  \n",
        "import string\n",
        "import bs4 as bs  \n",
        "import urllib.request  \n",
        "import re \n",
        "nltk.download('punkt')"
      ],
      "execution_count": 11,
      "outputs": [
        {
          "output_type": "stream",
          "text": [
            "[nltk_data] Downloading package punkt to /root/nltk_data...\n",
            "[nltk_data]   Unzipping tokenizers/punkt.zip.\n"
          ],
          "name": "stdout"
        },
        {
          "output_type": "execute_result",
          "data": {
            "text/plain": [
              "True"
            ]
          },
          "metadata": {
            "tags": []
          },
          "execution_count": 11
        }
      ]
    },
    {
      "cell_type": "code",
      "metadata": {
        "id": "UjRbUtks6mGh",
        "colab_type": "code",
        "colab": {}
      },
      "source": [
        "raw_html = urllib.request.urlopen('https://blogs.oglobo.globo.com/miriam-leitao/post/azevedo-versus-trump-o-contexto.html')  \n",
        "raw_html = raw_html.read()\n",
        "article_html = bs.BeautifulSoup(raw_html, 'lxml')"
      ],
      "execution_count": 2,
      "outputs": []
    },
    {
      "cell_type": "code",
      "metadata": {
        "id": "B4eAZ7le6vrc",
        "colab_type": "code",
        "colab": {}
      },
      "source": [
        "article_paragraphs = article_html.article.find_all('p')\n",
        "article_text = ''\n",
        "for para in article_paragraphs:  \n",
        "    article_text += para.text"
      ],
      "execution_count": 7,
      "outputs": []
    },
    {
      "cell_type": "code",
      "metadata": {
        "id": "5z2jCi0M7GvD",
        "colab_type": "code",
        "colab": {
          "base_uri": "https://localhost:8080/",
          "height": 108
        },
        "outputId": "21dd37f3-9c15-4dbd-aec6-1e0796cf8c52"
      },
      "source": [
        "article_text"
      ],
      "execution_count": 9,
      "outputs": [
        {
          "output_type": "execute_result",
          "data": {
            "application/vnd.google.colaboratory.intrinsic+json": {
              "type": "string"
            },
            "text/plain": [
              "'Roberto Azevêdo, que foi diretor-geral da OMC, repetiu diversas vezes na conversa comigo que não houve telefonema entre ele e Donald Trump. Azevêdo deixou a OMC em agosto e hoje é executivo da PepsiCo e estava reagindo à declaração de Trump ao icônico repórter Bob Woodward, o mesmo que desvendou o caso Watergate, que levou à renúncia do presidente Richard Nixon na década de 1970. O jornalista lançou esta semana o livro “Rage” (Raiva, em inglês), no qual Trump diz que telefonou para Azevêdo e teria ameaçado retirar os EUA da Organização.\\xa0\\xa0O brasileiro nega, chama de mentirosa e fantasiosa essa versão.O que é o contexto? O presidente americano tem hostilidade contra todas as entidades multilaterais, e quando não sai, ou ameaça sair, ele sabota, reduz os recursos, desrespeita ou simplesmente tenta impor uma pessoa aliada no controle. Ele acabou de fazer isso com o BID, impondo um americano para dirigir o banco, fato que nunca aconteceu desde que a instituição financeira foi criada. E conseguiu romper com a tradição de ter um latino-americano na condução com a colaboração do Brasil, que se aliou a Trump. Outro fato importante do contexto é entender que Trump é um mentiroso compulsivo. Isso se vê desde o começo do governo, tem sido contabilizado pelos jornalistas. Ontem mesmo num debate com eleitores ele disse que não existe uma regulação de uso de máscaras por culpa de Joe Biden. Olha a loucura? Biden saiu do governo há quase quatro anos. Então, como disse Azevêdo, é “Trump sendo Trump” quando disse a Woodward que teria dado um telefone que nunca houve. Mas os dois tiveram um encontro que, segundo o brasileiro, foi ótimo.- Ele não diria a Bob que a conversa foi excelente. Quis dar uma de machão – me disse Azevêdo, na noite da terça-feira quando eu o entrevistei.Azevêdo me contou que tem como provar. Eles se falaram uma vez, em Davos. Era janeiro deste ano. Havia testemunhas de um lado e de outro. Ele me deu o nome das testemunhas. E disse que a principal prova de que a conversa nao foi hostil foi a coletiva de imprensa que deram logo depois.LEIA MAIS NO GLOBOAzevêdo diz que é mentirosa a versão de Trump sobre saída deleNa coletiva após o encontro, o presidente americano ainda disse que eles tinham uma relação excelente. Os dois tinham acabado de se conhecer naquele mesmo dia. Trump convidou Azevêdo para continuar a conversa em Washington, mas o processo de impeachment nos EUA atrapalhou os planos.\\xa0O que Trump ganha sendo tão mentiroso? A mentira virou uma arma política para certos governantes. Eles confiam que assim farão as pessoas acreditarem no que uma assessora de Trump já definiu como “fatos alternativos”. É a perigosa doença desses tempos.Azevêdo conta que Trump ameaça a deixar a OMC desde a campanha de 2016. Os ataques dele ao multilateralismo já não eram novidade quando os dois se encontraram, em janeiro de 2020.\\xa0\\xa0Diplomata de formação, Azevêdo deixou a cargo de diretor-geral antes do fim do mandato, realmente. Mas a decisão teve a ver com a pandemia. Por conta dela, a Conferência Ministerial da OMC, a agenda mais importante da Organização, foi adiada para o ano que vem, quando também ocorreria a eleição de um novo diretor-geral. Um evento acabaria atrapalhando o outro, entende Azevêdo, que passou mais de 20 anos na OMC.\\xa0\\xa0\\xa0'"
            ]
          },
          "metadata": {
            "tags": []
          },
          "execution_count": 9
        }
      ]
    },
    {
      "cell_type": "code",
      "metadata": {
        "id": "HeSB4iJu8Dbt",
        "colab_type": "code",
        "colab": {
          "base_uri": "https://localhost:8080/",
          "height": 601
        },
        "outputId": "4c4a2a01-d1b2-488e-8f69-f2d77c500e34"
      },
      "source": [
        "corpus = nltk.sent_tokenize(article_text)\n",
        "corpus"
      ],
      "execution_count": 13,
      "outputs": [
        {
          "output_type": "execute_result",
          "data": {
            "text/plain": [
              "['Roberto Azevêdo, que foi diretor-geral da OMC, repetiu diversas vezes na conversa comigo que não houve telefonema entre ele e Donald Trump.',\n",
              " 'Azevêdo deixou a OMC em agosto e hoje é executivo da PepsiCo e estava reagindo à declaração de Trump ao icônico repórter Bob Woodward, o mesmo que desvendou o caso Watergate, que levou à renúncia do presidente Richard Nixon na década de 1970.',\n",
              " 'O jornalista lançou esta semana o livro “Rage” (Raiva, em inglês), no qual Trump diz que telefonou para Azevêdo e teria ameaçado retirar os EUA da Organização.',\n",
              " 'O brasileiro nega, chama de mentirosa e fantasiosa essa versão.O que é o contexto?',\n",
              " 'O presidente americano tem hostilidade contra todas as entidades multilaterais, e quando não sai, ou ameaça sair, ele sabota, reduz os recursos, desrespeita ou simplesmente tenta impor uma pessoa aliada no controle.',\n",
              " 'Ele acabou de fazer isso com o BID, impondo um americano para dirigir o banco, fato que nunca aconteceu desde que a instituição financeira foi criada.',\n",
              " 'E conseguiu romper com a tradição de ter um latino-americano na condução com a colaboração do Brasil, que se aliou a Trump.',\n",
              " 'Outro fato importante do contexto é entender que Trump é um mentiroso compulsivo.',\n",
              " 'Isso se vê desde o começo do governo, tem sido contabilizado pelos jornalistas.',\n",
              " 'Ontem mesmo num debate com eleitores ele disse que não existe uma regulação de uso de máscaras por culpa de Joe Biden.',\n",
              " 'Olha a loucura?',\n",
              " 'Biden saiu do governo há quase quatro anos.',\n",
              " 'Então, como disse Azevêdo, é “Trump sendo Trump” quando disse a Woodward que teria dado um telefone que nunca houve.',\n",
              " 'Mas os dois tiveram um encontro que, segundo o brasileiro, foi ótimo.- Ele não diria a Bob que a conversa foi excelente.',\n",
              " 'Quis dar uma de machão – me disse Azevêdo, na noite da terça-feira quando eu o entrevistei.Azevêdo me contou que tem como provar.',\n",
              " 'Eles se falaram uma vez, em Davos.',\n",
              " 'Era janeiro deste ano.',\n",
              " 'Havia testemunhas de um lado e de outro.',\n",
              " 'Ele me deu o nome das testemunhas.',\n",
              " 'E disse que a principal prova de que a conversa nao foi hostil foi a coletiva de imprensa que deram logo depois.LEIA MAIS NO GLOBOAzevêdo diz que é mentirosa a versão de Trump sobre saída deleNa coletiva após o encontro, o presidente americano ainda disse que eles tinham uma relação excelente.',\n",
              " 'Os dois tinham acabado de se conhecer naquele mesmo dia.',\n",
              " 'Trump convidou Azevêdo para continuar a conversa em Washington, mas o processo de impeachment nos EUA atrapalhou os planos.',\n",
              " 'O que Trump ganha sendo tão mentiroso?',\n",
              " 'A mentira virou uma arma política para certos governantes.',\n",
              " 'Eles confiam que assim farão as pessoas acreditarem no que uma assessora de Trump já definiu como “fatos alternativos”.',\n",
              " 'É a perigosa doença desses tempos.Azevêdo conta que Trump ameaça a deixar a OMC desde a campanha de 2016.',\n",
              " 'Os ataques dele ao multilateralismo já não eram novidade quando os dois se encontraram, em janeiro de 2020.',\n",
              " 'Diplomata de formação, Azevêdo deixou a cargo de diretor-geral antes do fim do mandato, realmente.',\n",
              " 'Mas a decisão teve a ver com a pandemia.',\n",
              " 'Por conta dela, a Conferência Ministerial da OMC, a agenda mais importante da Organização, foi adiada para o ano que vem, quando também ocorreria a eleição de um novo diretor-geral.',\n",
              " 'Um evento acabaria atrapalhando o outro, entende Azevêdo, que passou mais de 20 anos na OMC.']"
            ]
          },
          "metadata": {
            "tags": []
          },
          "execution_count": 13
        }
      ]
    },
    {
      "cell_type": "code",
      "metadata": {
        "id": "3JMcd5cr8Z60",
        "colab_type": "code",
        "colab": {}
      },
      "source": [
        "for i in range(len(corpus)):\n",
        "    corpus [i] = corpus [i].lower()\n",
        "    corpus [i] = re.sub(r'\\W',' ',corpus [i])\n",
        "    corpus [i] = re.sub(r'\\s+',' ',corpus [i])"
      ],
      "execution_count": 14,
      "outputs": []
    },
    {
      "cell_type": "code",
      "metadata": {
        "id": "itMxAknq8v7i",
        "colab_type": "code",
        "colab": {
          "base_uri": "https://localhost:8080/",
          "height": 601
        },
        "outputId": "19e3b272-1fcb-40ab-eedf-a46e2dabfd9f"
      },
      "source": [
        "corpus"
      ],
      "execution_count": 15,
      "outputs": [
        {
          "output_type": "execute_result",
          "data": {
            "text/plain": [
              "['roberto azevêdo que foi diretor geral da omc repetiu diversas vezes na conversa comigo que não houve telefonema entre ele e donald trump ',\n",
              " 'azevêdo deixou a omc em agosto e hoje é executivo da pepsico e estava reagindo à declaração de trump ao icônico repórter bob woodward o mesmo que desvendou o caso watergate que levou à renúncia do presidente richard nixon na década de 1970 ',\n",
              " 'o jornalista lançou esta semana o livro rage raiva em inglês no qual trump diz que telefonou para azevêdo e teria ameaçado retirar os eua da organização ',\n",
              " 'o brasileiro nega chama de mentirosa e fantasiosa essa versão o que é o contexto ',\n",
              " 'o presidente americano tem hostilidade contra todas as entidades multilaterais e quando não sai ou ameaça sair ele sabota reduz os recursos desrespeita ou simplesmente tenta impor uma pessoa aliada no controle ',\n",
              " 'ele acabou de fazer isso com o bid impondo um americano para dirigir o banco fato que nunca aconteceu desde que a instituição financeira foi criada ',\n",
              " 'e conseguiu romper com a tradição de ter um latino americano na condução com a colaboração do brasil que se aliou a trump ',\n",
              " 'outro fato importante do contexto é entender que trump é um mentiroso compulsivo ',\n",
              " 'isso se vê desde o começo do governo tem sido contabilizado pelos jornalistas ',\n",
              " 'ontem mesmo num debate com eleitores ele disse que não existe uma regulação de uso de máscaras por culpa de joe biden ',\n",
              " 'olha a loucura ',\n",
              " 'biden saiu do governo há quase quatro anos ',\n",
              " 'então como disse azevêdo é trump sendo trump quando disse a woodward que teria dado um telefone que nunca houve ',\n",
              " 'mas os dois tiveram um encontro que segundo o brasileiro foi ótimo ele não diria a bob que a conversa foi excelente ',\n",
              " 'quis dar uma de machão me disse azevêdo na noite da terça feira quando eu o entrevistei azevêdo me contou que tem como provar ',\n",
              " 'eles se falaram uma vez em davos ',\n",
              " 'era janeiro deste ano ',\n",
              " 'havia testemunhas de um lado e de outro ',\n",
              " 'ele me deu o nome das testemunhas ',\n",
              " 'e disse que a principal prova de que a conversa nao foi hostil foi a coletiva de imprensa que deram logo depois leia mais no globoazevêdo diz que é mentirosa a versão de trump sobre saída delena coletiva após o encontro o presidente americano ainda disse que eles tinham uma relação excelente ',\n",
              " 'os dois tinham acabado de se conhecer naquele mesmo dia ',\n",
              " 'trump convidou azevêdo para continuar a conversa em washington mas o processo de impeachment nos eua atrapalhou os planos ',\n",
              " 'o que trump ganha sendo tão mentiroso ',\n",
              " 'a mentira virou uma arma política para certos governantes ',\n",
              " 'eles confiam que assim farão as pessoas acreditarem no que uma assessora de trump já definiu como fatos alternativos ',\n",
              " 'é a perigosa doença desses tempos azevêdo conta que trump ameaça a deixar a omc desde a campanha de 2016 ',\n",
              " 'os ataques dele ao multilateralismo já não eram novidade quando os dois se encontraram em janeiro de 2020 ',\n",
              " 'diplomata de formação azevêdo deixou a cargo de diretor geral antes do fim do mandato realmente ',\n",
              " 'mas a decisão teve a ver com a pandemia ',\n",
              " 'por conta dela a conferência ministerial da omc a agenda mais importante da organização foi adiada para o ano que vem quando também ocorreria a eleição de um novo diretor geral ',\n",
              " 'um evento acabaria atrapalhando o outro entende azevêdo que passou mais de 20 anos na omc ']"
            ]
          },
          "metadata": {
            "tags": []
          },
          "execution_count": 15
        }
      ]
    },
    {
      "cell_type": "code",
      "metadata": {
        "id": "QAaqB6Dk86YL",
        "colab_type": "code",
        "colab": {
          "base_uri": "https://localhost:8080/",
          "height": 35
        },
        "outputId": "9fc099da-8064-4844-c734-79a8c19364f9"
      },
      "source": [
        "print(len(corpus))"
      ],
      "execution_count": 16,
      "outputs": [
        {
          "output_type": "stream",
          "text": [
            "31\n"
          ],
          "name": "stdout"
        }
      ]
    },
    {
      "cell_type": "code",
      "metadata": {
        "id": "QET3BgOr87Oz",
        "colab_type": "code",
        "colab": {
          "base_uri": "https://localhost:8080/",
          "height": 35
        },
        "outputId": "9fbe24c4-685e-40d0-9c30-8ca6b95bc0f6"
      },
      "source": [
        "print(corpus[30])"
      ],
      "execution_count": 17,
      "outputs": [
        {
          "output_type": "stream",
          "text": [
            "um evento acabaria atrapalhando o outro entende azevêdo que passou mais de 20 anos na omc \n"
          ],
          "name": "stdout"
        }
      ]
    },
    {
      "cell_type": "code",
      "metadata": {
        "id": "6feSLjJ-9EH1",
        "colab_type": "code",
        "colab": {}
      },
      "source": [
        "from collections import Counter"
      ],
      "execution_count": 18,
      "outputs": []
    },
    {
      "cell_type": "code",
      "metadata": {
        "id": "Xq90V-uu9FrO",
        "colab_type": "code",
        "colab": {}
      },
      "source": [
        "word_freq = Counter([word for sentence in corpus for word in sentence.split()])"
      ],
      "execution_count": 21,
      "outputs": []
    },
    {
      "cell_type": "code",
      "metadata": {
        "id": "2UnuoQ0M9v3Z",
        "colab_type": "code",
        "colab": {
          "base_uri": "https://localhost:8080/",
          "height": 1000
        },
        "outputId": "14c3cecd-53b5-40ea-ff23-74f596955122"
      },
      "source": [
        "most_freq = dict(word_freq.most_common(200))\n",
        "most_freq"
      ],
      "execution_count": 27,
      "outputs": [
        {
          "output_type": "execute_result",
          "data": {
            "text/plain": [
              "{'1970': 1,\n",
              " 'a': 26,\n",
              " 'acabou': 1,\n",
              " 'aconteceu': 1,\n",
              " 'agosto': 1,\n",
              " 'aliada': 1,\n",
              " 'aliou': 1,\n",
              " 'ameaça': 2,\n",
              " 'ameaçado': 1,\n",
              " 'americano': 4,\n",
              " 'ano': 2,\n",
              " 'anos': 2,\n",
              " 'ao': 2,\n",
              " 'as': 2,\n",
              " 'azevêdo': 10,\n",
              " 'banco': 1,\n",
              " 'bid': 1,\n",
              " 'biden': 2,\n",
              " 'bob': 2,\n",
              " 'brasil': 1,\n",
              " 'brasileiro': 2,\n",
              " 'caso': 1,\n",
              " 'chama': 1,\n",
              " 'colaboração': 1,\n",
              " 'coletiva': 2,\n",
              " 'com': 5,\n",
              " 'começo': 1,\n",
              " 'comigo': 1,\n",
              " 'como': 3,\n",
              " 'compulsivo': 1,\n",
              " 'condução': 1,\n",
              " 'conseguiu': 1,\n",
              " 'conta': 2,\n",
              " 'contabilizado': 1,\n",
              " 'contexto': 2,\n",
              " 'contou': 1,\n",
              " 'contra': 1,\n",
              " 'controle': 1,\n",
              " 'conversa': 4,\n",
              " 'criada': 1,\n",
              " 'culpa': 1,\n",
              " 'da': 6,\n",
              " 'dado': 1,\n",
              " 'dar': 1,\n",
              " 'davos': 1,\n",
              " 'de': 23,\n",
              " 'debate': 1,\n",
              " 'declaração': 1,\n",
              " 'deixou': 2,\n",
              " 'desde': 3,\n",
              " 'desrespeita': 1,\n",
              " 'deste': 1,\n",
              " 'desvendou': 1,\n",
              " 'diretor': 3,\n",
              " 'diria': 1,\n",
              " 'dirigir': 1,\n",
              " 'disse': 6,\n",
              " 'diversas': 1,\n",
              " 'diz': 2,\n",
              " 'do': 7,\n",
              " 'dois': 3,\n",
              " 'donald': 1,\n",
              " 'década': 1,\n",
              " 'e': 9,\n",
              " 'ele': 6,\n",
              " 'eleitores': 1,\n",
              " 'eles': 3,\n",
              " 'em': 5,\n",
              " 'encontro': 2,\n",
              " 'entender': 1,\n",
              " 'entidades': 1,\n",
              " 'entre': 1,\n",
              " 'entrevistei': 1,\n",
              " 'então': 1,\n",
              " 'era': 1,\n",
              " 'essa': 1,\n",
              " 'esta': 1,\n",
              " 'estava': 1,\n",
              " 'eu': 1,\n",
              " 'eua': 2,\n",
              " 'excelente': 2,\n",
              " 'executivo': 1,\n",
              " 'existe': 1,\n",
              " 'falaram': 1,\n",
              " 'fantasiosa': 1,\n",
              " 'fato': 2,\n",
              " 'fazer': 1,\n",
              " 'feira': 1,\n",
              " 'financeira': 1,\n",
              " 'foi': 7,\n",
              " 'geral': 3,\n",
              " 'governo': 2,\n",
              " 'hoje': 1,\n",
              " 'hostilidade': 1,\n",
              " 'houve': 2,\n",
              " 'há': 1,\n",
              " 'icônico': 1,\n",
              " 'impondo': 1,\n",
              " 'impor': 1,\n",
              " 'importante': 2,\n",
              " 'inglês': 1,\n",
              " 'instituição': 1,\n",
              " 'isso': 2,\n",
              " 'janeiro': 2,\n",
              " 'joe': 1,\n",
              " 'jornalista': 1,\n",
              " 'jornalistas': 1,\n",
              " 'já': 2,\n",
              " 'lançou': 1,\n",
              " 'latino': 1,\n",
              " 'levou': 1,\n",
              " 'livro': 1,\n",
              " 'loucura': 1,\n",
              " 'machão': 1,\n",
              " 'mais': 3,\n",
              " 'mas': 3,\n",
              " 'me': 3,\n",
              " 'mentirosa': 2,\n",
              " 'mentiroso': 2,\n",
              " 'mesmo': 3,\n",
              " 'multilaterais': 1,\n",
              " 'máscaras': 1,\n",
              " 'na': 5,\n",
              " 'nega': 1,\n",
              " 'nixon': 1,\n",
              " 'no': 4,\n",
              " 'noite': 1,\n",
              " 'num': 1,\n",
              " 'nunca': 2,\n",
              " 'não': 5,\n",
              " 'o': 20,\n",
              " 'olha': 1,\n",
              " 'omc': 5,\n",
              " 'ontem': 1,\n",
              " 'organização': 2,\n",
              " 'os': 7,\n",
              " 'ou': 2,\n",
              " 'outro': 3,\n",
              " 'para': 5,\n",
              " 'pelos': 1,\n",
              " 'pepsico': 1,\n",
              " 'pessoa': 1,\n",
              " 'por': 2,\n",
              " 'presidente': 3,\n",
              " 'provar': 1,\n",
              " 'qual': 1,\n",
              " 'quando': 5,\n",
              " 'quase': 1,\n",
              " 'quatro': 1,\n",
              " 'que': 27,\n",
              " 'quis': 1,\n",
              " 'rage': 1,\n",
              " 'raiva': 1,\n",
              " 'reagindo': 1,\n",
              " 'recursos': 1,\n",
              " 'reduz': 1,\n",
              " 'regulação': 1,\n",
              " 'renúncia': 1,\n",
              " 'repetiu': 1,\n",
              " 'repórter': 1,\n",
              " 'retirar': 1,\n",
              " 'richard': 1,\n",
              " 'roberto': 1,\n",
              " 'romper': 1,\n",
              " 'sabota': 1,\n",
              " 'sai': 1,\n",
              " 'sair': 1,\n",
              " 'saiu': 1,\n",
              " 'se': 5,\n",
              " 'segundo': 1,\n",
              " 'semana': 1,\n",
              " 'sendo': 2,\n",
              " 'sido': 1,\n",
              " 'simplesmente': 1,\n",
              " 'telefone': 1,\n",
              " 'telefonema': 1,\n",
              " 'telefonou': 1,\n",
              " 'tem': 3,\n",
              " 'tenta': 1,\n",
              " 'ter': 1,\n",
              " 'teria': 2,\n",
              " 'terça': 1,\n",
              " 'testemunhas': 2,\n",
              " 'tinham': 2,\n",
              " 'tiveram': 1,\n",
              " 'todas': 1,\n",
              " 'tradição': 1,\n",
              " 'trump': 12,\n",
              " 'um': 8,\n",
              " 'uma': 7,\n",
              " 'uso': 1,\n",
              " 'versão': 2,\n",
              " 'vez': 1,\n",
              " 'vezes': 1,\n",
              " 'vê': 1,\n",
              " 'watergate': 1,\n",
              " 'woodward': 2,\n",
              " 'à': 2,\n",
              " 'é': 7,\n",
              " 'ótimo': 1}"
            ]
          },
          "metadata": {
            "tags": []
          },
          "execution_count": 27
        }
      ]
    },
    {
      "cell_type": "code",
      "metadata": {
        "id": "gU6Q_Mgb9ozL",
        "colab_type": "code",
        "colab": {}
      },
      "source": [
        "sentence_vectors = []\n",
        "for sentence in corpus:\n",
        "    sentence_tokens = nltk.word_tokenize(sentence)\n",
        "    sent_vec = []\n",
        "    for token in most_freq:\n",
        "        if token in sentence_tokens:\n",
        "            sent_vec.append(1)\n",
        "        else:\n",
        "            sent_vec.append(0)\n",
        "    sentence_vectors.append(sent_vec)"
      ],
      "execution_count": 31,
      "outputs": []
    },
    {
      "cell_type": "code",
      "metadata": {
        "id": "rRMIYoHP92vU",
        "colab_type": "code",
        "colab": {
          "base_uri": "https://localhost:8080/",
          "height": 145
        },
        "outputId": "4d51146f-fc04-42f5-979b-2da02dae881b"
      },
      "source": [
        "sentence_vectors = np.asarray(sentence_vectors)\n",
        "sentence_vectors"
      ],
      "execution_count": 33,
      "outputs": [
        {
          "output_type": "execute_result",
          "data": {
            "text/plain": [
              "array([[1, 0, 0, ..., 0, 0, 0],\n",
              "       [1, 1, 1, ..., 0, 0, 0],\n",
              "       [1, 0, 0, ..., 0, 0, 0],\n",
              "       ...,\n",
              "       [0, 1, 0, ..., 0, 0, 0],\n",
              "       [1, 1, 1, ..., 0, 0, 0],\n",
              "       [1, 0, 1, ..., 0, 0, 0]])"
            ]
          },
          "metadata": {
            "tags": []
          },
          "execution_count": 33
        }
      ]
    },
    {
      "cell_type": "code",
      "metadata": {
        "id": "oyC5mXQJBIpy",
        "colab_type": "code",
        "colab": {}
      },
      "source": [
        ""
      ],
      "execution_count": null,
      "outputs": []
    }
  ]
}
